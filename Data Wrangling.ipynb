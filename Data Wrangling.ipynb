{
 "cells": [
  {
   "cell_type": "markdown",
   "id": "35c8b602",
   "metadata": {},
   "source": [
    "# Capstone 1. Data Wrangling"
   ]
  },
  {
   "cell_type": "markdown",
   "id": "6583dfaa",
   "metadata": {},
   "source": [
    "## #Current 2021/2022 Tax Years: Residential Sales\n",
    "Base Period Sales from July 1, 2018–June 30, 2020\n",
    "In areas with few sales, the Assessor is allowed to use comparable sales going back up to five years.\n",
    "\n",
    "https://bouldercounty.gov/property-and-land/assessor/sales/comps-2021/residential/\n",
    "\n",
    "### Single Family Residential Properties <br>\n",
    "Sales of single family homes, duplexes, and triplexes.\n",
    "Market Area Maps for Single Family Properties\n",
    "Comparable properties are often found in the same Market Area, which are groups of neighborhoods that have similar trends in the market. Boulder County uses these areas to establish market value for mass appraisal purposes."
   ]
  },
  {
   "cell_type": "markdown",
   "id": "f77aea78",
   "metadata": {},
   "source": [
    "## 1. Data Collection"
   ]
  },
  {
   "cell_type": "markdown",
   "id": "731fc836",
   "metadata": {},
   "source": [
    " #### Load the packages"
   ]
  },
  {
   "cell_type": "code",
   "execution_count": 53,
   "id": "b0de5744",
   "metadata": {},
   "outputs": [],
   "source": [
    "%matplotlib inline\n",
    "import numpy as np\n",
    "import pandas as pd \n",
    "import matplotlib.pyplot as plt\n",
    "import seaborn as sns\n"
   ]
  },
  {
   "cell_type": "markdown",
   "id": "7265f6bb",
   "metadata": {},
   "source": [
    "#### Data Loading "
   ]
  },
  {
   "cell_type": "code",
   "execution_count": 54,
   "id": "efccf101",
   "metadata": {},
   "outputs": [],
   "source": [
    "gunbarrel = pd.read_excel('data/ar-comp-2021-residential-401-sheet.xlsx',sheet_name='2021 Market Area 401' )\n",
    "superior = pd.read_excel('data/ar-comp-2021-residential-402-sheet.xlsx',sheet_name='2021 Market Area 402')\n",
    "louisville = pd.read_excel('data/ar-comp-2021-residential-403-sheet.xlsx',sheet_name='2021 Market Area 403')\n",
    "erie = pd.read_excel('data/ar-comp-2021-residential-404-sheet.xlsx',sheet_name='2021 Market Area 404')\n",
    "lafayette = pd.read_excel('data/ar-comp-2021-residential-405-sheet.xlsx',sheet_name='2021 Market Area 405')\n",
    "\n",
    "boulder1 = pd.read_excel('data/ar-comp-2021-residential-101-sheet.xlsx',sheet_name='2021 Market Area 101')\n",
    "boulder2 = pd.read_excel('data/ar-comp-2021-residential-102-sheet.xlsx',sheet_name='2021 Market Area 102')\n",
    "boulder3 = pd.read_excel('data/ar-comp-2021-residential-103-sheet.xlsx',sheet_name='2021 Market Area 103')\n",
    "boulder4 = pd.read_excel('data/ar-comp-2021-residential-104-sheet.xlsx',sheet_name='2021 Market Area 104')\n",
    "boulder5 = pd.read_excel('data/ar-comp-2021-residential-105-sheet.xlsx',sheet_name='2021 Market Area 105')\n",
    "boulder6 = pd.read_excel('data/ar-comp-2021-residential-106-sheet.xlsx',sheet_name='2021 Market Area 106')\n",
    "boulder7 = pd.read_excel('data/ar-comp-2021-residential-107-sheet.xlsx',sheet_name='2021 Market Area 107')"
   ]
  },
  {
   "cell_type": "code",
   "execution_count": 55,
   "id": "91e68d40",
   "metadata": {},
   "outputs": [
    {
     "name": "stdout",
     "output_type": "stream",
     "text": [
      "(706, 23) (817, 23) (1321, 23) (1847, 23) (2389, 23)\n",
      "(518, 23) (628, 23) (622, 23) (298, 23) (559, 23) (548, 23) (454, 23)\n"
     ]
    }
   ],
   "source": [
    "print(gunbarrel.shape, superior.shape, louisville.shape, erie.shape, lafayette.shape)\n",
    "print(boulder1.shape,\n",
    "      boulder2.shape, boulder3.shape, boulder4.shape, boulder5.shape, boulder6.shape, boulder7.shape)\n"
   ]
  },
  {
   "cell_type": "markdown",
   "id": "a895eb64",
   "metadata": {},
   "source": [
    "#### Data joining"
   ]
  },
  {
   "cell_type": "code",
   "execution_count": 56,
   "id": "c0d90045",
   "metadata": {},
   "outputs": [
    {
     "data": {
      "text/plain": [
       "(10707, 23)"
      ]
     },
     "execution_count": 56,
     "metadata": {},
     "output_type": "execute_result"
    }
   ],
   "source": [
    "df = pd.concat([gunbarrel, superior, louisville, erie, lafayette, boulder1,\n",
    "      boulder2, boulder3, boulder4, boulder5, boulder6, boulder7])\n",
    "df.shape"
   ]
  },
  {
   "cell_type": "markdown",
   "id": "4543e01a",
   "metadata": {},
   "source": [
    "## Data definition"
   ]
  },
  {
   "cell_type": "code",
   "execution_count": 57,
   "id": "ba06b059",
   "metadata": {},
   "outputs": [
    {
     "data": {
      "text/plain": [
       "Index(['Accout Number', 'Property Type', 'Property Address Street Number',\n",
       "       'Property Address Street Dir', 'Property Address Street Name',\n",
       "       'Property Address Street Suffix', 'Property Address Unit Number',\n",
       "       'Location', 'Design', 'Quality', 'Eff Yr Built', 'Above Grd SF',\n",
       "       'Basemt Tot SF', 'Basemt Fin SF', 'Basemt Unf SF', 'Garage Type',\n",
       "       'Garage SF', 'Est Land SF', 'Reception No', 'Sale Date (Mon-Yr)',\n",
       "       'Sale Price', 'Time Adjust Sales Price', 'Market Area'],\n",
       "      dtype='object')"
      ]
     },
     "execution_count": 57,
     "metadata": {},
     "output_type": "execute_result"
    }
   ],
   "source": [
    "df.columns"
   ]
  },
  {
   "cell_type": "code",
   "execution_count": 58,
   "id": "9084415e",
   "metadata": {},
   "outputs": [],
   "source": [
    "X = df\n",
    "#df.loc[:,['Property Type','Location', 'Design', 'Quality', 'Eff Yr Built', 'Above Grd SF','Basemt Tot SF', 'Basemt Fin SF', 'Basemt Unf SF', 'Garage Type','Garage SF', 'Est Land SF','Market Area','Time Adjust Sales Price']]\n"
   ]
  },
  {
   "cell_type": "markdown",
   "id": "edec30fe",
   "metadata": {},
   "source": [
    "We remove fields 'Reception No', 'Sale Date (Mon-Yr)','Sale Price', 'Time Adjust Sales Price' to be used as a response variable. Need to figure out whether to use time adjusted or actual sale price. <br>\n",
    "\n",
    "We also remove street address fields for now: <br>\n",
    "       'Accout Number', 'Property Address Street Number',<br>\n",
    "       'Property Address Street Dir', 'Property Address Street Name',<br>\n",
    "       'Property Address Street Suffix', 'Property Address Unit Number', but keep the 'Property Type' in case we add condos/apartments. "
   ]
  },
  {
   "cell_type": "code",
   "execution_count": 59,
   "id": "67d33dff",
   "metadata": {},
   "outputs": [],
   "source": [
    "Y= df.loc[:,'Time Adjust Sales Price']"
   ]
  },
  {
   "cell_type": "code",
   "execution_count": 60,
   "id": "b008e647",
   "metadata": {},
   "outputs": [
    {
     "data": {
      "text/plain": [
       "0      5.811431e+05\n",
       "1      6.526078e+05\n",
       "2      5.532069e+05\n",
       "3      4.957065e+05\n",
       "4      5.766797e+05\n",
       "           ...     \n",
       "449    7.954076e+05\n",
       "450    8.247099e+05\n",
       "451    2.352521e+06\n",
       "452    8.872400e+05\n",
       "453    8.776063e+05\n",
       "Name: Time Adjust Sales Price, Length: 10707, dtype: float64"
      ]
     },
     "execution_count": 60,
     "metadata": {},
     "output_type": "execute_result"
    }
   ],
   "source": [
    "Y\n"
   ]
  },
  {
   "cell_type": "markdown",
   "id": "be40ec07",
   "metadata": {},
   "source": [
    "This is our current response variable, need to determine whether to use it or some actual sale price or anything else. The sales are float 64."
   ]
  },
  {
   "cell_type": "code",
   "execution_count": 61,
   "id": "03f1fe4a",
   "metadata": {},
   "outputs": [
    {
     "data": {
      "text/plain": [
       "<AxesSubplot:xlabel='Design', ylabel='count'>"
      ]
     },
     "execution_count": 61,
     "metadata": {},
     "output_type": "execute_result"
    },
    {
     "data": {
      "image/png": "[encoded data removed]",
      "text/plain": [
       "<Figure size 432x288 with 1 Axes>"
      ]
     },
     "metadata": {
      "needs_background": "light"
     },
     "output_type": "display_data"
    }
   ],
   "source": [
    "sns.countplot(x=X['Design'])"
   ]
  },
  {
   "cell_type": "code",
   "execution_count": 62,
   "id": "d9a907b9",
   "metadata": {},
   "outputs": [
    {
     "data": {
      "text/plain": [
       "<AxesSubplot:xlabel='count', ylabel='Quality'>"
      ]
     },
     "execution_count": 62,
     "metadata": {},
     "output_type": "execute_result"
    },
    {
     "data": {
      "image/png": "[encoded data removed]",
      "text/plain": [
       "<Figure size 432x288 with 1 Axes>"
      ]
     },
     "metadata": {
      "needs_background": "light"
     },
     "output_type": "display_data"
    }
   ],
   "source": [
    "sns.countplot(y=X['Quality'])"
   ]
  },
  {
   "cell_type": "code",
   "execution_count": 63,
   "id": "2cfeb2c0",
   "metadata": {},
   "outputs": [
    {
     "data": {
      "text/plain": [
       "<AxesSubplot:xlabel='Market Area', ylabel='count'>"
      ]
     },
     "execution_count": 63,
     "metadata": {},
     "output_type": "execute_result"
    },
    {
     "data": {
      "image/png": "[encoded data removed]",
      "text/plain": [
       "<Figure size 432x288 with 1 Axes>"
      ]
     },
     "metadata": {
      "needs_background": "light"
     },
     "output_type": "display_data"
    }
   ],
   "source": [
    "sns.countplot(x=X['Market Area'])"
   ]
  },
  {
   "cell_type": "code",
   "execution_count": 64,
   "id": "a182c7be",
   "metadata": {},
   "outputs": [
    {
     "data": {
      "text/plain": [
       "<AxesSubplot:xlabel='Location', ylabel='count'>"
      ]
     },
     "execution_count": 64,
     "metadata": {},
     "output_type": "execute_result"
    },
    {
     "data": {
      "image/png": "[encoded data removed]",
      "text/plain": [
       "<Figure size 432x288 with 1 Axes>"
      ]
     },
     "metadata": {
      "needs_background": "light"
     },
     "output_type": "display_data"
    }
   ],
   "source": [
    "sns.countplot(x=X['Location'])"
   ]
  },
  {
   "cell_type": "markdown",
   "id": "0bf35e84",
   "metadata": {},
   "source": [
    "Let's look at X closely. "
   ]
  },
  {
   "cell_type": "code",
   "execution_count": 65,
   "id": "a0010a4f",
   "metadata": {},
   "outputs": [
    {
     "data": {
      "text/html": [
       "<div>\n",
       "<style scoped>\n",
       "    .dataframe tbody tr th:only-of-type {\n",
       "        vertical-align: middle;\n",
       "    }\n",
       "\n",
       "    .dataframe tbody tr th {\n",
       "        vertical-align: top;\n",
       "    }\n",
       "\n",
       "    .dataframe thead th {\n",
       "        text-align: right;\n",
       "    }\n",
       "</style>\n",
       "<table border=\"1\" class=\"dataframe\">\n",
       "  <thead>\n",
       "    <tr style=\"text-align: right;\">\n",
       "      <th></th>\n",
       "      <th>Accout Number</th>\n",
       "      <th>Property Type</th>\n",
       "      <th>Property Address Street Number</th>\n",
       "      <th>Property Address Street Dir</th>\n",
       "      <th>Property Address Street Name</th>\n",
       "      <th>Property Address Street Suffix</th>\n",
       "      <th>Property Address Unit Number</th>\n",
       "      <th>Location</th>\n",
       "      <th>Design</th>\n",
       "      <th>Quality</th>\n",
       "      <th>...</th>\n",
       "      <th>Basemt Fin SF</th>\n",
       "      <th>Basemt Unf SF</th>\n",
       "      <th>Garage Type</th>\n",
       "      <th>Garage SF</th>\n",
       "      <th>Est Land SF</th>\n",
       "      <th>Reception No</th>\n",
       "      <th>Sale Date (Mon-Yr)</th>\n",
       "      <th>Sale Price</th>\n",
       "      <th>Time Adjust Sales Price</th>\n",
       "      <th>Market Area</th>\n",
       "    </tr>\n",
       "  </thead>\n",
       "  <tbody>\n",
       "    <tr>\n",
       "      <th>0</th>\n",
       "      <td>R0055558</td>\n",
       "      <td>SFR</td>\n",
       "      <td>5612</td>\n",
       "      <td>N</td>\n",
       "      <td>71ST</td>\n",
       "      <td>ST</td>\n",
       "      <td>NaN</td>\n",
       "      <td>UNINCORPORATED</td>\n",
       "      <td>Ranch</td>\n",
       "      <td>Avg ++</td>\n",
       "      <td>...</td>\n",
       "      <td>0</td>\n",
       "      <td>0</td>\n",
       "      <td>Attached</td>\n",
       "      <td>420</td>\n",
       "      <td>29780</td>\n",
       "      <td>3624229</td>\n",
       "      <td>2017-11-03</td>\n",
       "      <td>517000</td>\n",
       "      <td>581143.136625</td>\n",
       "      <td>401</td>\n",
       "    </tr>\n",
       "    <tr>\n",
       "      <th>1</th>\n",
       "      <td>R0055558</td>\n",
       "      <td>SFR</td>\n",
       "      <td>5612</td>\n",
       "      <td>N</td>\n",
       "      <td>71ST</td>\n",
       "      <td>ST</td>\n",
       "      <td>NaN</td>\n",
       "      <td>UNINCORPORATED</td>\n",
       "      <td>Ranch</td>\n",
       "      <td>Avg ++</td>\n",
       "      <td>...</td>\n",
       "      <td>0</td>\n",
       "      <td>0</td>\n",
       "      <td>Attached</td>\n",
       "      <td>420</td>\n",
       "      <td>29780</td>\n",
       "      <td>3654908</td>\n",
       "      <td>2018-05-10</td>\n",
       "      <td>597000</td>\n",
       "      <td>652607.758723</td>\n",
       "      <td>401</td>\n",
       "    </tr>\n",
       "    <tr>\n",
       "      <th>2</th>\n",
       "      <td>R0038733</td>\n",
       "      <td>SFR</td>\n",
       "      <td>4475</td>\n",
       "      <td>NaN</td>\n",
       "      <td>ABERDEEN</td>\n",
       "      <td>CT</td>\n",
       "      <td>NaN</td>\n",
       "      <td>UNINCORPORATED</td>\n",
       "      <td>Ranch</td>\n",
       "      <td>Avg</td>\n",
       "      <td>...</td>\n",
       "      <td>1050</td>\n",
       "      <td>0</td>\n",
       "      <td>Attached</td>\n",
       "      <td>475</td>\n",
       "      <td>14234</td>\n",
       "      <td>3720226</td>\n",
       "      <td>2019-06-21</td>\n",
       "      <td>531000</td>\n",
       "      <td>553206.861188</td>\n",
       "      <td>401</td>\n",
       "    </tr>\n",
       "    <tr>\n",
       "      <th>3</th>\n",
       "      <td>R0039073</td>\n",
       "      <td>SFR</td>\n",
       "      <td>4507</td>\n",
       "      <td>NaN</td>\n",
       "      <td>ABERDEEN</td>\n",
       "      <td>PL</td>\n",
       "      <td>NaN</td>\n",
       "      <td>UNINCORPORATED</td>\n",
       "      <td>Split level</td>\n",
       "      <td>Avg ++</td>\n",
       "      <td>...</td>\n",
       "      <td>500</td>\n",
       "      <td>0</td>\n",
       "      <td>Attached</td>\n",
       "      <td>475</td>\n",
       "      <td>8315</td>\n",
       "      <td>3747660</td>\n",
       "      <td>2019-11-06</td>\n",
       "      <td>484000</td>\n",
       "      <td>495706.522160</td>\n",
       "      <td>401</td>\n",
       "    </tr>\n",
       "    <tr>\n",
       "      <th>4</th>\n",
       "      <td>R0038934</td>\n",
       "      <td>SFR</td>\n",
       "      <td>4530</td>\n",
       "      <td>NaN</td>\n",
       "      <td>ABERDEEN</td>\n",
       "      <td>PL</td>\n",
       "      <td>NaN</td>\n",
       "      <td>UNINCORPORATED</td>\n",
       "      <td>Split level</td>\n",
       "      <td>Avg</td>\n",
       "      <td>...</td>\n",
       "      <td>500</td>\n",
       "      <td>0</td>\n",
       "      <td>Attached</td>\n",
       "      <td>475</td>\n",
       "      <td>10350</td>\n",
       "      <td>3663881</td>\n",
       "      <td>2018-06-29</td>\n",
       "      <td>530000</td>\n",
       "      <td>576679.694605</td>\n",
       "      <td>401</td>\n",
       "    </tr>\n",
       "  </tbody>\n",
       "</table>\n",
       "<p>5 rows × 23 columns</p>\n",
       "</div>"
      ],
      "text/plain": [
       "  Accout Number Property Type  Property Address Street Number  \\\n",
       "0      R0055558           SFR                            5612   \n",
       "1      R0055558           SFR                            5612   \n",
       "2      R0038733           SFR                            4475   \n",
       "3      R0039073           SFR                            4507   \n",
       "4      R0038934           SFR                            4530   \n",
       "\n",
       "  Property Address Street Dir Property Address Street Name  \\\n",
       "0                           N                         71ST   \n",
       "1                           N                         71ST   \n",
       "2                         NaN                     ABERDEEN   \n",
       "3                         NaN                     ABERDEEN   \n",
       "4                         NaN                     ABERDEEN   \n",
       "\n",
       "  Property Address Street Suffix Property Address Unit Number        Location  \\\n",
       "0                             ST                          NaN  UNINCORPORATED   \n",
       "1                             ST                          NaN  UNINCORPORATED   \n",
       "2                             CT                          NaN  UNINCORPORATED   \n",
       "3                             PL                          NaN  UNINCORPORATED   \n",
       "4                             PL                          NaN  UNINCORPORATED   \n",
       "\n",
       "        Design Quality  ...  Basemt Fin SF  Basemt Unf SF  Garage Type  \\\n",
       "0        Ranch  Avg ++  ...              0              0     Attached   \n",
       "1        Ranch  Avg ++  ...              0              0     Attached   \n",
       "2        Ranch     Avg  ...           1050              0     Attached   \n",
       "3  Split level  Avg ++  ...            500              0     Attached   \n",
       "4  Split level     Avg  ...            500              0     Attached   \n",
       "\n",
       "   Garage SF  Est Land SF Reception No Sale Date (Mon-Yr)  Sale Price  \\\n",
       "0        420        29780      3624229         2017-11-03      517000   \n",
       "1        420        29780      3654908         2018-05-10      597000   \n",
       "2        475        14234      3720226         2019-06-21      531000   \n",
       "3        475         8315      3747660         2019-11-06      484000   \n",
       "4        475        10350      3663881         2018-06-29      530000   \n",
       "\n",
       "   Time Adjust Sales Price Market Area  \n",
       "0            581143.136625         401  \n",
       "1            652607.758723         401  \n",
       "2            553206.861188         401  \n",
       "3            495706.522160         401  \n",
       "4            576679.694605         401  \n",
       "\n",
       "[5 rows x 23 columns]"
      ]
     },
     "execution_count": 65,
     "metadata": {},
     "output_type": "execute_result"
    }
   ],
   "source": [
    "X.head()"
   ]
  },
  {
   "cell_type": "markdown",
   "id": "ee31dd01",
   "metadata": {},
   "source": [
    "Let's expore if we have any missing data"
   ]
  },
  {
   "cell_type": "code",
   "execution_count": 51,
   "id": "5d5df990",
   "metadata": {},
   "outputs": [
    {
     "name": "stdout",
     "output_type": "stream",
     "text": [
      "(6,)\n"
     ]
    }
   ],
   "source": [
    "missing = X.isnull().sum()\n",
    "missing = missing[missing > 0]\n",
    "print(missing.shape)\n",
    "#missing.sort_values(inplace=True)\n",
    "#missing.plot.bar()"
   ]
  },
  {
   "cell_type": "code",
   "execution_count": 52,
   "id": "eda0fe8c",
   "metadata": {},
   "outputs": [
    {
     "name": "stdout",
     "output_type": "stream",
     "text": [
      "(10707, 23)\n",
      "(20, 23)\n"
     ]
    }
   ],
   "source": [
    "print(X.shape)\n",
    "#X.dropna(axis =0, inplace=True)\n",
    "print(X.shape)"
   ]
  },
  {
   "cell_type": "markdown",
   "id": "c05d9a16",
   "metadata": {},
   "source": [
    "We don't have any missing data. Let's check the data types. "
   ]
  },
  {
   "cell_type": "code",
   "execution_count": 68,
   "id": "369026e5",
   "metadata": {},
   "outputs": [
    {
     "data": {
      "text/plain": [
       "0"
      ]
     },
     "execution_count": 68,
     "metadata": {},
     "output_type": "execute_result"
    }
   ],
   "source": [
    "X['Garage SF'].isna().sum()"
   ]
  },
  {
   "cell_type": "markdown",
   "id": "e1cfe3d1",
   "metadata": {},
   "source": [
    "\n",
    "#### 1. Change 'Garage SF' to an int\n",
    "\n",
    "#### 2. We want to recode location, design, quality, garage type  as categorical variables things like "
   ]
  },
  {
   "cell_type": "code",
   "execution_count": 69,
   "id": "52bdaffe",
   "metadata": {},
   "outputs": [
    {
     "name": "stderr",
     "output_type": "stream",
     "text": [
      "/var/folders/93/rlhghy792jqb_shw4fl2xbn80000gn/T/ipykernel_3667/576785893.py:1: FutureWarning: The default value of regex will change from True to False in a future version.\n",
      "  X['Garage SF'] = X['Garage SF'].str.replace(r'\\D+', '').astype(int)\n"
     ]
    },
    {
     "ename": "ValueError",
     "evalue": "cannot convert float NaN to integer",
     "output_type": "error",
     "traceback": [
      "\u001b[0;31m---------------------------------------------------------------------------\u001b[0m",
      "\u001b[0;31mValueError\u001b[0m                                Traceback (most recent call last)",
      "Input \u001b[0;32mIn [69]\u001b[0m, in \u001b[0;36m<cell line: 1>\u001b[0;34m()\u001b[0m\n\u001b[0;32m----> 1\u001b[0m X[\u001b[38;5;124m'\u001b[39m\u001b[38;5;124mGarage SF\u001b[39m\u001b[38;5;124m'\u001b[39m] \u001b[38;5;241m=\u001b[39m \u001b[43mX\u001b[49m\u001b[43m[\u001b[49m\u001b[38;5;124;43m'\u001b[39;49m\u001b[38;5;124;43mGarage SF\u001b[39;49m\u001b[38;5;124;43m'\u001b[39;49m\u001b[43m]\u001b[49m\u001b[38;5;241;43m.\u001b[39;49m\u001b[43mstr\u001b[49m\u001b[38;5;241;43m.\u001b[39;49m\u001b[43mreplace\u001b[49m\u001b[43m(\u001b[49m\u001b[38;5;124;43mr\u001b[39;49m\u001b[38;5;124;43m'\u001b[39;49m\u001b[38;5;124;43m\\\u001b[39;49m\u001b[38;5;124;43mD+\u001b[39;49m\u001b[38;5;124;43m'\u001b[39;49m\u001b[43m,\u001b[49m\u001b[43m \u001b[49m\u001b[38;5;124;43m'\u001b[39;49m\u001b[38;5;124;43m'\u001b[39;49m\u001b[43m)\u001b[49m\u001b[38;5;241;43m.\u001b[39;49m\u001b[43mastype\u001b[49m\u001b[43m(\u001b[49m\u001b[38;5;28;43mint\u001b[39;49m\u001b[43m)\u001b[49m\n",
      "File \u001b[0;32m~/opt/anaconda3/lib/python3.9/site-packages/pandas/core/generic.py:5912\u001b[0m, in \u001b[0;36mNDFrame.astype\u001b[0;34m(self, dtype, copy, errors)\u001b[0m\n\u001b[1;32m   5905\u001b[0m     results \u001b[38;5;241m=\u001b[39m [\n\u001b[1;32m   5906\u001b[0m         \u001b[38;5;28mself\u001b[39m\u001b[38;5;241m.\u001b[39miloc[:, i]\u001b[38;5;241m.\u001b[39mastype(dtype, copy\u001b[38;5;241m=\u001b[39mcopy)\n\u001b[1;32m   5907\u001b[0m         \u001b[38;5;28;01mfor\u001b[39;00m i \u001b[38;5;129;01min\u001b[39;00m \u001b[38;5;28mrange\u001b[39m(\u001b[38;5;28mlen\u001b[39m(\u001b[38;5;28mself\u001b[39m\u001b[38;5;241m.\u001b[39mcolumns))\n\u001b[1;32m   5908\u001b[0m     ]\n\u001b[1;32m   5910\u001b[0m \u001b[38;5;28;01melse\u001b[39;00m:\n\u001b[1;32m   5911\u001b[0m     \u001b[38;5;66;03m# else, only a single dtype is given\u001b[39;00m\n\u001b[0;32m-> 5912\u001b[0m     new_data \u001b[38;5;241m=\u001b[39m \u001b[38;5;28;43mself\u001b[39;49m\u001b[38;5;241;43m.\u001b[39;49m\u001b[43m_mgr\u001b[49m\u001b[38;5;241;43m.\u001b[39;49m\u001b[43mastype\u001b[49m\u001b[43m(\u001b[49m\u001b[43mdtype\u001b[49m\u001b[38;5;241;43m=\u001b[39;49m\u001b[43mdtype\u001b[49m\u001b[43m,\u001b[49m\u001b[43m \u001b[49m\u001b[43mcopy\u001b[49m\u001b[38;5;241;43m=\u001b[39;49m\u001b[43mcopy\u001b[49m\u001b[43m,\u001b[49m\u001b[43m \u001b[49m\u001b[43merrors\u001b[49m\u001b[38;5;241;43m=\u001b[39;49m\u001b[43merrors\u001b[49m\u001b[43m)\u001b[49m\n\u001b[1;32m   5913\u001b[0m     \u001b[38;5;28;01mreturn\u001b[39;00m \u001b[38;5;28mself\u001b[39m\u001b[38;5;241m.\u001b[39m_constructor(new_data)\u001b[38;5;241m.\u001b[39m__finalize__(\u001b[38;5;28mself\u001b[39m, method\u001b[38;5;241m=\u001b[39m\u001b[38;5;124m\"\u001b[39m\u001b[38;5;124mastype\u001b[39m\u001b[38;5;124m\"\u001b[39m)\n\u001b[1;32m   5915\u001b[0m \u001b[38;5;66;03m# GH 33113: handle empty frame or series\u001b[39;00m\n",
      "File \u001b[0;32m~/opt/anaconda3/lib/python3.9/site-packages/pandas/core/internals/managers.py:419\u001b[0m, in \u001b[0;36mBaseBlockManager.astype\u001b[0;34m(self, dtype, copy, errors)\u001b[0m\n\u001b[1;32m    418\u001b[0m \u001b[38;5;28;01mdef\u001b[39;00m \u001b[38;5;21mastype\u001b[39m(\u001b[38;5;28mself\u001b[39m: T, dtype, copy: \u001b[38;5;28mbool\u001b[39m \u001b[38;5;241m=\u001b[39m \u001b[38;5;28;01mFalse\u001b[39;00m, errors: \u001b[38;5;28mstr\u001b[39m \u001b[38;5;241m=\u001b[39m \u001b[38;5;124m\"\u001b[39m\u001b[38;5;124mraise\u001b[39m\u001b[38;5;124m\"\u001b[39m) \u001b[38;5;241m-\u001b[39m\u001b[38;5;241m>\u001b[39m T:\n\u001b[0;32m--> 419\u001b[0m     \u001b[38;5;28;01mreturn\u001b[39;00m \u001b[38;5;28;43mself\u001b[39;49m\u001b[38;5;241;43m.\u001b[39;49m\u001b[43mapply\u001b[49m\u001b[43m(\u001b[49m\u001b[38;5;124;43m\"\u001b[39;49m\u001b[38;5;124;43mastype\u001b[39;49m\u001b[38;5;124;43m\"\u001b[39;49m\u001b[43m,\u001b[49m\u001b[43m \u001b[49m\u001b[43mdtype\u001b[49m\u001b[38;5;241;43m=\u001b[39;49m\u001b[43mdtype\u001b[49m\u001b[43m,\u001b[49m\u001b[43m \u001b[49m\u001b[43mcopy\u001b[49m\u001b[38;5;241;43m=\u001b[39;49m\u001b[43mcopy\u001b[49m\u001b[43m,\u001b[49m\u001b[43m \u001b[49m\u001b[43merrors\u001b[49m\u001b[38;5;241;43m=\u001b[39;49m\u001b[43merrors\u001b[49m\u001b[43m)\u001b[49m\n",
      "File \u001b[0;32m~/opt/anaconda3/lib/python3.9/site-packages/pandas/core/internals/managers.py:304\u001b[0m, in \u001b[0;36mBaseBlockManager.apply\u001b[0;34m(self, f, align_keys, ignore_failures, **kwargs)\u001b[0m\n\u001b[1;32m    302\u001b[0m         applied \u001b[38;5;241m=\u001b[39m b\u001b[38;5;241m.\u001b[39mapply(f, \u001b[38;5;241m*\u001b[39m\u001b[38;5;241m*\u001b[39mkwargs)\n\u001b[1;32m    303\u001b[0m     \u001b[38;5;28;01melse\u001b[39;00m:\n\u001b[0;32m--> 304\u001b[0m         applied \u001b[38;5;241m=\u001b[39m \u001b[38;5;28;43mgetattr\u001b[39;49m\u001b[43m(\u001b[49m\u001b[43mb\u001b[49m\u001b[43m,\u001b[49m\u001b[43m \u001b[49m\u001b[43mf\u001b[49m\u001b[43m)\u001b[49m\u001b[43m(\u001b[49m\u001b[38;5;241;43m*\u001b[39;49m\u001b[38;5;241;43m*\u001b[39;49m\u001b[43mkwargs\u001b[49m\u001b[43m)\u001b[49m\n\u001b[1;32m    305\u001b[0m \u001b[38;5;28;01mexcept\u001b[39;00m (\u001b[38;5;167;01mTypeError\u001b[39;00m, \u001b[38;5;167;01mNotImplementedError\u001b[39;00m):\n\u001b[1;32m    306\u001b[0m     \u001b[38;5;28;01mif\u001b[39;00m \u001b[38;5;129;01mnot\u001b[39;00m ignore_failures:\n",
      "File \u001b[0;32m~/opt/anaconda3/lib/python3.9/site-packages/pandas/core/internals/blocks.py:580\u001b[0m, in \u001b[0;36mBlock.astype\u001b[0;34m(self, dtype, copy, errors)\u001b[0m\n\u001b[1;32m    562\u001b[0m \u001b[38;5;124;03m\"\"\"\u001b[39;00m\n\u001b[1;32m    563\u001b[0m \u001b[38;5;124;03mCoerce to the new dtype.\u001b[39;00m\n\u001b[1;32m    564\u001b[0m \n\u001b[0;32m   (...)\u001b[0m\n\u001b[1;32m    576\u001b[0m \u001b[38;5;124;03mBlock\u001b[39;00m\n\u001b[1;32m    577\u001b[0m \u001b[38;5;124;03m\"\"\"\u001b[39;00m\n\u001b[1;32m    578\u001b[0m values \u001b[38;5;241m=\u001b[39m \u001b[38;5;28mself\u001b[39m\u001b[38;5;241m.\u001b[39mvalues\n\u001b[0;32m--> 580\u001b[0m new_values \u001b[38;5;241m=\u001b[39m \u001b[43mastype_array_safe\u001b[49m\u001b[43m(\u001b[49m\u001b[43mvalues\u001b[49m\u001b[43m,\u001b[49m\u001b[43m \u001b[49m\u001b[43mdtype\u001b[49m\u001b[43m,\u001b[49m\u001b[43m \u001b[49m\u001b[43mcopy\u001b[49m\u001b[38;5;241;43m=\u001b[39;49m\u001b[43mcopy\u001b[49m\u001b[43m,\u001b[49m\u001b[43m \u001b[49m\u001b[43merrors\u001b[49m\u001b[38;5;241;43m=\u001b[39;49m\u001b[43merrors\u001b[49m\u001b[43m)\u001b[49m\n\u001b[1;32m    582\u001b[0m new_values \u001b[38;5;241m=\u001b[39m maybe_coerce_values(new_values)\n\u001b[1;32m    583\u001b[0m newb \u001b[38;5;241m=\u001b[39m \u001b[38;5;28mself\u001b[39m\u001b[38;5;241m.\u001b[39mmake_block(new_values)\n",
      "File \u001b[0;32m~/opt/anaconda3/lib/python3.9/site-packages/pandas/core/dtypes/cast.py:1292\u001b[0m, in \u001b[0;36mastype_array_safe\u001b[0;34m(values, dtype, copy, errors)\u001b[0m\n\u001b[1;32m   1289\u001b[0m     dtype \u001b[38;5;241m=\u001b[39m dtype\u001b[38;5;241m.\u001b[39mnumpy_dtype\n\u001b[1;32m   1291\u001b[0m \u001b[38;5;28;01mtry\u001b[39;00m:\n\u001b[0;32m-> 1292\u001b[0m     new_values \u001b[38;5;241m=\u001b[39m \u001b[43mastype_array\u001b[49m\u001b[43m(\u001b[49m\u001b[43mvalues\u001b[49m\u001b[43m,\u001b[49m\u001b[43m \u001b[49m\u001b[43mdtype\u001b[49m\u001b[43m,\u001b[49m\u001b[43m \u001b[49m\u001b[43mcopy\u001b[49m\u001b[38;5;241;43m=\u001b[39;49m\u001b[43mcopy\u001b[49m\u001b[43m)\u001b[49m\n\u001b[1;32m   1293\u001b[0m \u001b[38;5;28;01mexcept\u001b[39;00m (\u001b[38;5;167;01mValueError\u001b[39;00m, \u001b[38;5;167;01mTypeError\u001b[39;00m):\n\u001b[1;32m   1294\u001b[0m     \u001b[38;5;66;03m# e.g. astype_nansafe can fail on object-dtype of strings\u001b[39;00m\n\u001b[1;32m   1295\u001b[0m     \u001b[38;5;66;03m#  trying to convert to float\u001b[39;00m\n\u001b[1;32m   1296\u001b[0m     \u001b[38;5;28;01mif\u001b[39;00m errors \u001b[38;5;241m==\u001b[39m \u001b[38;5;124m\"\u001b[39m\u001b[38;5;124mignore\u001b[39m\u001b[38;5;124m\"\u001b[39m:\n",
      "File \u001b[0;32m~/opt/anaconda3/lib/python3.9/site-packages/pandas/core/dtypes/cast.py:1237\u001b[0m, in \u001b[0;36mastype_array\u001b[0;34m(values, dtype, copy)\u001b[0m\n\u001b[1;32m   1234\u001b[0m     values \u001b[38;5;241m=\u001b[39m values\u001b[38;5;241m.\u001b[39mastype(dtype, copy\u001b[38;5;241m=\u001b[39mcopy)\n\u001b[1;32m   1236\u001b[0m \u001b[38;5;28;01melse\u001b[39;00m:\n\u001b[0;32m-> 1237\u001b[0m     values \u001b[38;5;241m=\u001b[39m \u001b[43mastype_nansafe\u001b[49m\u001b[43m(\u001b[49m\u001b[43mvalues\u001b[49m\u001b[43m,\u001b[49m\u001b[43m \u001b[49m\u001b[43mdtype\u001b[49m\u001b[43m,\u001b[49m\u001b[43m \u001b[49m\u001b[43mcopy\u001b[49m\u001b[38;5;241;43m=\u001b[39;49m\u001b[43mcopy\u001b[49m\u001b[43m)\u001b[49m\n\u001b[1;32m   1239\u001b[0m \u001b[38;5;66;03m# in pandas we don't store numpy str dtypes, so convert to object\u001b[39;00m\n\u001b[1;32m   1240\u001b[0m \u001b[38;5;28;01mif\u001b[39;00m \u001b[38;5;28misinstance\u001b[39m(dtype, np\u001b[38;5;241m.\u001b[39mdtype) \u001b[38;5;129;01mand\u001b[39;00m \u001b[38;5;28missubclass\u001b[39m(values\u001b[38;5;241m.\u001b[39mdtype\u001b[38;5;241m.\u001b[39mtype, \u001b[38;5;28mstr\u001b[39m):\n",
      "File \u001b[0;32m~/opt/anaconda3/lib/python3.9/site-packages/pandas/core/dtypes/cast.py:1154\u001b[0m, in \u001b[0;36mastype_nansafe\u001b[0;34m(arr, dtype, copy, skipna)\u001b[0m\n\u001b[1;32m   1150\u001b[0m \u001b[38;5;28;01melif\u001b[39;00m is_object_dtype(arr\u001b[38;5;241m.\u001b[39mdtype):\n\u001b[1;32m   1151\u001b[0m \n\u001b[1;32m   1152\u001b[0m     \u001b[38;5;66;03m# work around NumPy brokenness, #1987\u001b[39;00m\n\u001b[1;32m   1153\u001b[0m     \u001b[38;5;28;01mif\u001b[39;00m np\u001b[38;5;241m.\u001b[39missubdtype(dtype\u001b[38;5;241m.\u001b[39mtype, np\u001b[38;5;241m.\u001b[39minteger):\n\u001b[0;32m-> 1154\u001b[0m         \u001b[38;5;28;01mreturn\u001b[39;00m \u001b[43mlib\u001b[49m\u001b[38;5;241;43m.\u001b[39;49m\u001b[43mastype_intsafe\u001b[49m\u001b[43m(\u001b[49m\u001b[43marr\u001b[49m\u001b[43m,\u001b[49m\u001b[43m \u001b[49m\u001b[43mdtype\u001b[49m\u001b[43m)\u001b[49m\n\u001b[1;32m   1156\u001b[0m     \u001b[38;5;66;03m# if we have a datetime/timedelta array of objects\u001b[39;00m\n\u001b[1;32m   1157\u001b[0m     \u001b[38;5;66;03m# then coerce to a proper dtype and recall astype_nansafe\u001b[39;00m\n\u001b[1;32m   1159\u001b[0m     \u001b[38;5;28;01melif\u001b[39;00m is_datetime64_dtype(dtype):\n",
      "File \u001b[0;32m~/opt/anaconda3/lib/python3.9/site-packages/pandas/_libs/lib.pyx:668\u001b[0m, in \u001b[0;36mpandas._libs.lib.astype_intsafe\u001b[0;34m()\u001b[0m\n",
      "\u001b[0;31mValueError\u001b[0m: cannot convert float NaN to integer"
     ]
    }
   ],
   "source": [
    "X['Garage SF'] = X['Garage SF'].str.replace(r'\\D+', '').astype(int)"
   ]
  },
  {
   "cell_type": "code",
   "execution_count": 26,
   "id": "4932796d",
   "metadata": {},
   "outputs": [
    {
     "ename": "ValueError",
     "evalue": "invalid literal for int() with base 10: '1,321'",
     "output_type": "error",
     "traceback": [
      "\u001b[0;31m---------------------------------------------------------------------------\u001b[0m",
      "\u001b[0;31mValueError\u001b[0m                                Traceback (most recent call last)",
      "Input \u001b[0;32mIn [26]\u001b[0m, in \u001b[0;36m<cell line: 1>\u001b[0;34m()\u001b[0m\n\u001b[0;32m----> 1\u001b[0m X[\u001b[38;5;124m'\u001b[39m\u001b[38;5;124mGarage SF\u001b[39m\u001b[38;5;124m'\u001b[39m] \u001b[38;5;241m=\u001b[39m \u001b[43mX\u001b[49m\u001b[43m[\u001b[49m\u001b[38;5;124;43m'\u001b[39;49m\u001b[38;5;124;43mGarage SF\u001b[39;49m\u001b[38;5;124;43m'\u001b[39;49m\u001b[43m]\u001b[49m\u001b[38;5;241;43m.\u001b[39;49m\u001b[43mastype\u001b[49m\u001b[43m(\u001b[49m\u001b[38;5;28;43mstr\u001b[39;49m\u001b[43m)\u001b[49m\u001b[38;5;241;43m.\u001b[39;49m\u001b[43mastype\u001b[49m\u001b[43m(\u001b[49m\u001b[38;5;28;43mint\u001b[39;49m\u001b[43m)\u001b[49m\n",
      "File \u001b[0;32m~/opt/anaconda3/lib/python3.9/site-packages/pandas/core/generic.py:5912\u001b[0m, in \u001b[0;36mNDFrame.astype\u001b[0;34m(self, dtype, copy, errors)\u001b[0m\n\u001b[1;32m   5905\u001b[0m     results \u001b[38;5;241m=\u001b[39m [\n\u001b[1;32m   5906\u001b[0m         \u001b[38;5;28mself\u001b[39m\u001b[38;5;241m.\u001b[39miloc[:, i]\u001b[38;5;241m.\u001b[39mastype(dtype, copy\u001b[38;5;241m=\u001b[39mcopy)\n\u001b[1;32m   5907\u001b[0m         \u001b[38;5;28;01mfor\u001b[39;00m i \u001b[38;5;129;01min\u001b[39;00m \u001b[38;5;28mrange\u001b[39m(\u001b[38;5;28mlen\u001b[39m(\u001b[38;5;28mself\u001b[39m\u001b[38;5;241m.\u001b[39mcolumns))\n\u001b[1;32m   5908\u001b[0m     ]\n\u001b[1;32m   5910\u001b[0m \u001b[38;5;28;01melse\u001b[39;00m:\n\u001b[1;32m   5911\u001b[0m     \u001b[38;5;66;03m# else, only a single dtype is given\u001b[39;00m\n\u001b[0;32m-> 5912\u001b[0m     new_data \u001b[38;5;241m=\u001b[39m \u001b[38;5;28;43mself\u001b[39;49m\u001b[38;5;241;43m.\u001b[39;49m\u001b[43m_mgr\u001b[49m\u001b[38;5;241;43m.\u001b[39;49m\u001b[43mastype\u001b[49m\u001b[43m(\u001b[49m\u001b[43mdtype\u001b[49m\u001b[38;5;241;43m=\u001b[39;49m\u001b[43mdtype\u001b[49m\u001b[43m,\u001b[49m\u001b[43m \u001b[49m\u001b[43mcopy\u001b[49m\u001b[38;5;241;43m=\u001b[39;49m\u001b[43mcopy\u001b[49m\u001b[43m,\u001b[49m\u001b[43m \u001b[49m\u001b[43merrors\u001b[49m\u001b[38;5;241;43m=\u001b[39;49m\u001b[43merrors\u001b[49m\u001b[43m)\u001b[49m\n\u001b[1;32m   5913\u001b[0m     \u001b[38;5;28;01mreturn\u001b[39;00m \u001b[38;5;28mself\u001b[39m\u001b[38;5;241m.\u001b[39m_constructor(new_data)\u001b[38;5;241m.\u001b[39m__finalize__(\u001b[38;5;28mself\u001b[39m, method\u001b[38;5;241m=\u001b[39m\u001b[38;5;124m\"\u001b[39m\u001b[38;5;124mastype\u001b[39m\u001b[38;5;124m\"\u001b[39m)\n\u001b[1;32m   5915\u001b[0m \u001b[38;5;66;03m# GH 33113: handle empty frame or series\u001b[39;00m\n",
      "File \u001b[0;32m~/opt/anaconda3/lib/python3.9/site-packages/pandas/core/internals/managers.py:419\u001b[0m, in \u001b[0;36mBaseBlockManager.astype\u001b[0;34m(self, dtype, copy, errors)\u001b[0m\n\u001b[1;32m    418\u001b[0m \u001b[38;5;28;01mdef\u001b[39;00m \u001b[38;5;21mastype\u001b[39m(\u001b[38;5;28mself\u001b[39m: T, dtype, copy: \u001b[38;5;28mbool\u001b[39m \u001b[38;5;241m=\u001b[39m \u001b[38;5;28;01mFalse\u001b[39;00m, errors: \u001b[38;5;28mstr\u001b[39m \u001b[38;5;241m=\u001b[39m \u001b[38;5;124m\"\u001b[39m\u001b[38;5;124mraise\u001b[39m\u001b[38;5;124m\"\u001b[39m) \u001b[38;5;241m-\u001b[39m\u001b[38;5;241m>\u001b[39m T:\n\u001b[0;32m--> 419\u001b[0m     \u001b[38;5;28;01mreturn\u001b[39;00m \u001b[38;5;28;43mself\u001b[39;49m\u001b[38;5;241;43m.\u001b[39;49m\u001b[43mapply\u001b[49m\u001b[43m(\u001b[49m\u001b[38;5;124;43m\"\u001b[39;49m\u001b[38;5;124;43mastype\u001b[39;49m\u001b[38;5;124;43m\"\u001b[39;49m\u001b[43m,\u001b[49m\u001b[43m \u001b[49m\u001b[43mdtype\u001b[49m\u001b[38;5;241;43m=\u001b[39;49m\u001b[43mdtype\u001b[49m\u001b[43m,\u001b[49m\u001b[43m \u001b[49m\u001b[43mcopy\u001b[49m\u001b[38;5;241;43m=\u001b[39;49m\u001b[43mcopy\u001b[49m\u001b[43m,\u001b[49m\u001b[43m \u001b[49m\u001b[43merrors\u001b[49m\u001b[38;5;241;43m=\u001b[39;49m\u001b[43merrors\u001b[49m\u001b[43m)\u001b[49m\n",
      "File \u001b[0;32m~/opt/anaconda3/lib/python3.9/site-packages/pandas/core/internals/managers.py:304\u001b[0m, in \u001b[0;36mBaseBlockManager.apply\u001b[0;34m(self, f, align_keys, ignore_failures, **kwargs)\u001b[0m\n\u001b[1;32m    302\u001b[0m         applied \u001b[38;5;241m=\u001b[39m b\u001b[38;5;241m.\u001b[39mapply(f, \u001b[38;5;241m*\u001b[39m\u001b[38;5;241m*\u001b[39mkwargs)\n\u001b[1;32m    303\u001b[0m     \u001b[38;5;28;01melse\u001b[39;00m:\n\u001b[0;32m--> 304\u001b[0m         applied \u001b[38;5;241m=\u001b[39m \u001b[38;5;28;43mgetattr\u001b[39;49m\u001b[43m(\u001b[49m\u001b[43mb\u001b[49m\u001b[43m,\u001b[49m\u001b[43m \u001b[49m\u001b[43mf\u001b[49m\u001b[43m)\u001b[49m\u001b[43m(\u001b[49m\u001b[38;5;241;43m*\u001b[39;49m\u001b[38;5;241;43m*\u001b[39;49m\u001b[43mkwargs\u001b[49m\u001b[43m)\u001b[49m\n\u001b[1;32m    305\u001b[0m \u001b[38;5;28;01mexcept\u001b[39;00m (\u001b[38;5;167;01mTypeError\u001b[39;00m, \u001b[38;5;167;01mNotImplementedError\u001b[39;00m):\n\u001b[1;32m    306\u001b[0m     \u001b[38;5;28;01mif\u001b[39;00m \u001b[38;5;129;01mnot\u001b[39;00m ignore_failures:\n",
      "File \u001b[0;32m~/opt/anaconda3/lib/python3.9/site-packages/pandas/core/internals/blocks.py:580\u001b[0m, in \u001b[0;36mBlock.astype\u001b[0;34m(self, dtype, copy, errors)\u001b[0m\n\u001b[1;32m    562\u001b[0m \u001b[38;5;124;03m\"\"\"\u001b[39;00m\n\u001b[1;32m    563\u001b[0m \u001b[38;5;124;03mCoerce to the new dtype.\u001b[39;00m\n\u001b[1;32m    564\u001b[0m \n\u001b[0;32m   (...)\u001b[0m\n\u001b[1;32m    576\u001b[0m \u001b[38;5;124;03mBlock\u001b[39;00m\n\u001b[1;32m    577\u001b[0m \u001b[38;5;124;03m\"\"\"\u001b[39;00m\n\u001b[1;32m    578\u001b[0m values \u001b[38;5;241m=\u001b[39m \u001b[38;5;28mself\u001b[39m\u001b[38;5;241m.\u001b[39mvalues\n\u001b[0;32m--> 580\u001b[0m new_values \u001b[38;5;241m=\u001b[39m \u001b[43mastype_array_safe\u001b[49m\u001b[43m(\u001b[49m\u001b[43mvalues\u001b[49m\u001b[43m,\u001b[49m\u001b[43m \u001b[49m\u001b[43mdtype\u001b[49m\u001b[43m,\u001b[49m\u001b[43m \u001b[49m\u001b[43mcopy\u001b[49m\u001b[38;5;241;43m=\u001b[39;49m\u001b[43mcopy\u001b[49m\u001b[43m,\u001b[49m\u001b[43m \u001b[49m\u001b[43merrors\u001b[49m\u001b[38;5;241;43m=\u001b[39;49m\u001b[43merrors\u001b[49m\u001b[43m)\u001b[49m\n\u001b[1;32m    582\u001b[0m new_values \u001b[38;5;241m=\u001b[39m maybe_coerce_values(new_values)\n\u001b[1;32m    583\u001b[0m newb \u001b[38;5;241m=\u001b[39m \u001b[38;5;28mself\u001b[39m\u001b[38;5;241m.\u001b[39mmake_block(new_values)\n",
      "File \u001b[0;32m~/opt/anaconda3/lib/python3.9/site-packages/pandas/core/dtypes/cast.py:1292\u001b[0m, in \u001b[0;36mastype_array_safe\u001b[0;34m(values, dtype, copy, errors)\u001b[0m\n\u001b[1;32m   1289\u001b[0m     dtype \u001b[38;5;241m=\u001b[39m dtype\u001b[38;5;241m.\u001b[39mnumpy_dtype\n\u001b[1;32m   1291\u001b[0m \u001b[38;5;28;01mtry\u001b[39;00m:\n\u001b[0;32m-> 1292\u001b[0m     new_values \u001b[38;5;241m=\u001b[39m \u001b[43mastype_array\u001b[49m\u001b[43m(\u001b[49m\u001b[43mvalues\u001b[49m\u001b[43m,\u001b[49m\u001b[43m \u001b[49m\u001b[43mdtype\u001b[49m\u001b[43m,\u001b[49m\u001b[43m \u001b[49m\u001b[43mcopy\u001b[49m\u001b[38;5;241;43m=\u001b[39;49m\u001b[43mcopy\u001b[49m\u001b[43m)\u001b[49m\n\u001b[1;32m   1293\u001b[0m \u001b[38;5;28;01mexcept\u001b[39;00m (\u001b[38;5;167;01mValueError\u001b[39;00m, \u001b[38;5;167;01mTypeError\u001b[39;00m):\n\u001b[1;32m   1294\u001b[0m     \u001b[38;5;66;03m# e.g. astype_nansafe can fail on object-dtype of strings\u001b[39;00m\n\u001b[1;32m   1295\u001b[0m     \u001b[38;5;66;03m#  trying to convert to float\u001b[39;00m\n\u001b[1;32m   1296\u001b[0m     \u001b[38;5;28;01mif\u001b[39;00m errors \u001b[38;5;241m==\u001b[39m \u001b[38;5;124m\"\u001b[39m\u001b[38;5;124mignore\u001b[39m\u001b[38;5;124m\"\u001b[39m:\n",
      "File \u001b[0;32m~/opt/anaconda3/lib/python3.9/site-packages/pandas/core/dtypes/cast.py:1237\u001b[0m, in \u001b[0;36mastype_array\u001b[0;34m(values, dtype, copy)\u001b[0m\n\u001b[1;32m   1234\u001b[0m     values \u001b[38;5;241m=\u001b[39m values\u001b[38;5;241m.\u001b[39mastype(dtype, copy\u001b[38;5;241m=\u001b[39mcopy)\n\u001b[1;32m   1236\u001b[0m \u001b[38;5;28;01melse\u001b[39;00m:\n\u001b[0;32m-> 1237\u001b[0m     values \u001b[38;5;241m=\u001b[39m \u001b[43mastype_nansafe\u001b[49m\u001b[43m(\u001b[49m\u001b[43mvalues\u001b[49m\u001b[43m,\u001b[49m\u001b[43m \u001b[49m\u001b[43mdtype\u001b[49m\u001b[43m,\u001b[49m\u001b[43m \u001b[49m\u001b[43mcopy\u001b[49m\u001b[38;5;241;43m=\u001b[39;49m\u001b[43mcopy\u001b[49m\u001b[43m)\u001b[49m\n\u001b[1;32m   1239\u001b[0m \u001b[38;5;66;03m# in pandas we don't store numpy str dtypes, so convert to object\u001b[39;00m\n\u001b[1;32m   1240\u001b[0m \u001b[38;5;28;01mif\u001b[39;00m \u001b[38;5;28misinstance\u001b[39m(dtype, np\u001b[38;5;241m.\u001b[39mdtype) \u001b[38;5;129;01mand\u001b[39;00m \u001b[38;5;28missubclass\u001b[39m(values\u001b[38;5;241m.\u001b[39mdtype\u001b[38;5;241m.\u001b[39mtype, \u001b[38;5;28mstr\u001b[39m):\n",
      "File \u001b[0;32m~/opt/anaconda3/lib/python3.9/site-packages/pandas/core/dtypes/cast.py:1154\u001b[0m, in \u001b[0;36mastype_nansafe\u001b[0;34m(arr, dtype, copy, skipna)\u001b[0m\n\u001b[1;32m   1150\u001b[0m \u001b[38;5;28;01melif\u001b[39;00m is_object_dtype(arr\u001b[38;5;241m.\u001b[39mdtype):\n\u001b[1;32m   1151\u001b[0m \n\u001b[1;32m   1152\u001b[0m     \u001b[38;5;66;03m# work around NumPy brokenness, #1987\u001b[39;00m\n\u001b[1;32m   1153\u001b[0m     \u001b[38;5;28;01mif\u001b[39;00m np\u001b[38;5;241m.\u001b[39missubdtype(dtype\u001b[38;5;241m.\u001b[39mtype, np\u001b[38;5;241m.\u001b[39minteger):\n\u001b[0;32m-> 1154\u001b[0m         \u001b[38;5;28;01mreturn\u001b[39;00m \u001b[43mlib\u001b[49m\u001b[38;5;241;43m.\u001b[39;49m\u001b[43mastype_intsafe\u001b[49m\u001b[43m(\u001b[49m\u001b[43marr\u001b[49m\u001b[43m,\u001b[49m\u001b[43m \u001b[49m\u001b[43mdtype\u001b[49m\u001b[43m)\u001b[49m\n\u001b[1;32m   1156\u001b[0m     \u001b[38;5;66;03m# if we have a datetime/timedelta array of objects\u001b[39;00m\n\u001b[1;32m   1157\u001b[0m     \u001b[38;5;66;03m# then coerce to a proper dtype and recall astype_nansafe\u001b[39;00m\n\u001b[1;32m   1159\u001b[0m     \u001b[38;5;28;01melif\u001b[39;00m is_datetime64_dtype(dtype):\n",
      "File \u001b[0;32m~/opt/anaconda3/lib/python3.9/site-packages/pandas/_libs/lib.pyx:668\u001b[0m, in \u001b[0;36mpandas._libs.lib.astype_intsafe\u001b[0;34m()\u001b[0m\n",
      "\u001b[0;31mValueError\u001b[0m: invalid literal for int() with base 10: '1,321'"
     ]
    }
   ],
   "source": [
    "X['Garage SF'] = X['Garage SF'].astype(str).astype(int) "
   ]
  },
  {
   "cell_type": "code",
   "execution_count": 36,
   "id": "e39296bb",
   "metadata": {},
   "outputs": [
    {
     "data": {
      "text/plain": [
       "Accout Number                             object\n",
       "Property Type                             object\n",
       "Property Address Street Number             int64\n",
       "Property Address Street Dir               object\n",
       "Property Address Street Name              object\n",
       "Property Address Street Suffix            object\n",
       "Property Address Unit Number              object\n",
       "Location                                  object\n",
       "Design                                    object\n",
       "Quality                                   object\n",
       "Eff Yr Built                               int64\n",
       "Above Grd SF                               int64\n",
       "Basemt Tot SF                              int64\n",
       "Basemt Fin SF                              int64\n",
       "Basemt Unf SF                              int64\n",
       "Garage Type                               object\n",
       "Garage SF                                  int64\n",
       "Est Land SF                                int64\n",
       "Reception No                               int64\n",
       "Sale Date (Mon-Yr)                datetime64[ns]\n",
       "Sale Price                                 int64\n",
       "Time Adjust Sales Price                  float64\n",
       "Market Area                                int64\n",
       "dtype: object"
      ]
     },
     "execution_count": 36,
     "metadata": {},
     "output_type": "execute_result"
    }
   ],
   "source": [
    "X.dtypes"
   ]
  },
  {
   "cell_type": "markdown",
   "id": "ce7a8c9c",
   "metadata": {},
   "source": [
    "So we confirmed that 'Garage SF' is now numeric. Let's check unique values for Location, Design, Quality, Garage Type"
   ]
  },
  {
   "cell_type": "markdown",
   "id": "119d49cf",
   "metadata": {},
   "source": [
    "Let's check if data has any duplicates."
   ]
  },
  {
   "cell_type": "code",
   "execution_count": 43,
   "id": "785fa014",
   "metadata": {},
   "outputs": [
    {
     "data": {
      "text/html": [
       "<div>\n",
       "<style scoped>\n",
       "    .dataframe tbody tr th:only-of-type {\n",
       "        vertical-align: middle;\n",
       "    }\n",
       "\n",
       "    .dataframe tbody tr th {\n",
       "        vertical-align: top;\n",
       "    }\n",
       "\n",
       "    .dataframe thead th {\n",
       "        text-align: right;\n",
       "    }\n",
       "</style>\n",
       "<table border=\"1\" class=\"dataframe\">\n",
       "  <thead>\n",
       "    <tr style=\"text-align: right;\">\n",
       "      <th></th>\n",
       "      <th>Accout Number</th>\n",
       "      <th>Property Type</th>\n",
       "      <th>Property Address Street Number</th>\n",
       "      <th>Property Address Street Dir</th>\n",
       "      <th>Property Address Street Name</th>\n",
       "      <th>Property Address Street Suffix</th>\n",
       "      <th>Property Address Unit Number</th>\n",
       "      <th>Location</th>\n",
       "      <th>Design</th>\n",
       "      <th>Quality</th>\n",
       "      <th>...</th>\n",
       "      <th>Basemt Unf SF</th>\n",
       "      <th>Garage Type</th>\n",
       "      <th>Garage SF</th>\n",
       "      <th>Est Land SF</th>\n",
       "      <th>Reception No</th>\n",
       "      <th>Sale Date (Mon-Yr)</th>\n",
       "      <th>Sale Price</th>\n",
       "      <th>Time Adjust Sales Price</th>\n",
       "      <th>Market Area</th>\n",
       "      <th>Unincorporated</th>\n",
       "    </tr>\n",
       "  </thead>\n",
       "  <tbody>\n",
       "  </tbody>\n",
       "</table>\n",
       "<p>0 rows × 24 columns</p>\n",
       "</div>"
      ],
      "text/plain": [
       "Empty DataFrame\n",
       "Columns: [Accout Number, Property Type, Property Address Street Number, Property Address Street Dir, Property Address Street Name, Property Address Street Suffix, Property Address Unit Number, Location, Design, Quality, Eff Yr Built, Above Grd SF, Basemt Tot SF, Basemt Fin SF, Basemt Unf SF, Garage Type, Garage SF, Est Land SF, Reception No, Sale Date (Mon-Yr), Sale Price, Time Adjust Sales Price, Market Area, Unincorporated]\n",
       "Index: []\n",
       "\n",
       "[0 rows x 24 columns]"
      ]
     },
     "execution_count": 43,
     "metadata": {},
     "output_type": "execute_result"
    }
   ],
   "source": [
    "X[X.duplicated(subset=None, keep='first')]"
   ]
  },
  {
   "cell_type": "code",
   "execution_count": null,
   "id": "9c31f75f",
   "metadata": {},
   "outputs": [],
   "source": [
    "No duplicates detected. Very nice. "
   ]
  },
  {
   "cell_type": "code",
   "execution_count": null,
   "id": "f8afea76",
   "metadata": {},
   "outputs": [],
   "source": [
    "X.to_csv('data/clean_data.csv', index=False)"
   ]
  }
 ],
 "metadata": {
  "kernelspec": {
   "display_name": "Python 3 (ipykernel)",
   "language": "python",
   "name": "python3"
  },
  "language_info": {
   "codemirror_mode": {
    "name": "ipython",
    "version": 3
   },
   "file_extension": ".py",
   "mimetype": "text/x-python",
   "name": "python",
   "nbconvert_exporter": "python",
   "pygments_lexer": "ipython3",
   "version": "3.9.12"
  }
 },
 "nbformat": 4,
 "nbformat_minor": 5
}
