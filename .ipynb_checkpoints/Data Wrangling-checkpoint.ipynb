{
 "cells": [
  {
   "cell_type": "markdown",
   "id": "35c8b602",
   "metadata": {},
   "source": [
    "# Capstone 1. Data Wrangling"
   ]
  },
  {
   "cell_type": "markdown",
   "id": "6583dfaa",
   "metadata": {},
   "source": [
    "## #Current 2021/2022 Tax Years: Residential Sales\n",
    "Base Period Sales from July 1, 2018–June 30, 2020\n",
    "In areas with few sales, the Assessor is allowed to use comparable sales going back up to five years.\n",
    "\n",
    "https://bouldercounty.gov/property-and-land/assessor/sales/comps-2021/residential/\n",
    "\n",
    "### Single Family Residential Properties <br>\n",
    "Sales of single family homes, duplexes, and triplexes.\n",
    "Market Area Maps for Single Family Properties\n",
    "Comparable properties are often found in the same Market Area, which are groups of neighborhoods that have similar trends in the market. Boulder County uses these areas to establish market value for mass appraisal purposes."
   ]
  },
  {
   "cell_type": "markdown",
   "id": "f77aea78",
   "metadata": {},
   "source": [
    "## 1. Data Collection"
   ]
  },
  {
   "cell_type": "markdown",
   "id": "731fc836",
   "metadata": {},
   "source": [
    " #### Load the packages"
   ]
  },
  {
   "cell_type": "code",
   "execution_count": 1,
   "id": "b0de5744",
   "metadata": {},
   "outputs": [],
   "source": [
    "%matplotlib inline\n",
    "import numpy as np\n",
    "import pandas as pd \n",
    "import matplotlib.pyplot as plt\n",
    "import seaborn as sns\n"
   ]
  },
  {
   "cell_type": "markdown",
   "id": "7265f6bb",
   "metadata": {},
   "source": [
    "#### Data Loading "
   ]
  },
  {
   "cell_type": "code",
   "execution_count": 2,
   "id": "efccf101",
   "metadata": {},
   "outputs": [],
   "source": [
    "gunbarrel = pd.read_excel('data/ar-comp-2021-residential-401-sheet.xlsx',sheet_name='2021 Market Area 401' )\n",
    "superior = pd.read_excel('data/ar-comp-2021-residential-402-sheet.xlsx',sheet_name='2021 Market Area 402')\n",
    "louisville = pd.read_excel('data/ar-comp-2021-residential-403-sheet.xlsx',sheet_name='2021 Market Area 403')\n",
    "erie = pd.read_excel('data/ar-comp-2021-residential-404-sheet.xlsx',sheet_name='2021 Market Area 404')\n",
    "lafayette = pd.read_excel('data/ar-comp-2021-residential-405-sheet.xlsx',sheet_name='2021 Market Area 405')\n",
    "boulder1 = pd.read_excel('data/ar-comp-2021-residential-101-sheet.xlsx',sheet_name='2021 Market Area 101')\n",
    "boulder2 = pd.read_excel('data/ar-comp-2021-residential-102-sheet.xlsx',sheet_name='2021 Market Area 102')\n",
    "boulder3 = pd.read_excel('data/ar-comp-2021-residential-103-sheet.xlsx',sheet_name='2021 Market Area 103')\n",
    "boulder4 = pd.read_excel('data/ar-comp-2021-residential-104-sheet.xlsx',sheet_name='2021 Market Area 104')\n",
    "boulder5 = pd.read_excel('data/ar-comp-2021-residential-105-sheet.xlsx',sheet_name='2021 Market Area 105')\n",
    "boulder6 = pd.read_excel('data/ar-comp-2021-residential-106-sheet.xlsx',sheet_name='2021 Market Area 106')\n",
    "boulder7 = pd.read_excel('data/ar-comp-2021-residential-107-sheet.xlsx',sheet_name='2021 Market Area 107')\n",
    "\n",
    "county201 = pd.read_excel('data/ar-comp-2021-residential-201-sheet.xlsx',sheet_name='2021 Market Area 201')\n",
    "county202 = pd.read_excel('data/ar-comp-2021-residential-202-sheet.xlsx',sheet_name='2021 Market Area 202')\n",
    "county301 = pd.read_excel('data/ar-comp-2021-residential-301-sheet.xlsx',sheet_name='2021 Market Area 301')\n",
    "county302 = pd.read_excel('data/ar-comp-2021-residential-302-sheet.xlsx',sheet_name='2021 Market Area 302')\n",
    "county303 = pd.read_excel('data/ar-comp-2021-residential-303-sheet.xlsx',sheet_name='2021 Market Area 303')\n",
    "county304 = pd.read_excel('data/ar-comp-2021-residential-304-sheet.xlsx',sheet_name='2021 Market Area 304')\n",
    "\n",
    "longmont1 = pd.read_excel('data/ar-comp-2021-residential-501-sheet.xlsx',sheet_name='2021 Market Area 501')\n",
    "longmont2 = pd.read_excel('data/ar-comp-2021-residential-502-sheet.xlsx',sheet_name='2021 Market Area 502')\n",
    "longmont3 = pd.read_excel('data/ar-comp-2021-residential-503-sheet.xlsx',sheet_name='2021 Market Area 503')\n",
    "longmont5 = pd.read_excel('data/ar-comp-2021-residential-505-sheet.xlsx',sheet_name='2021 Market Area 505')\n",
    "longmont7 = pd.read_excel('data/ar-comp-2021-residential-507-sheet.xlsx',sheet_name='2021 Market Area 507')\n",
    "\n",
    "#townhomes \n",
    "townhome108 = pd.read_excel('data/ar-comp-2021-residential-108-sheet.xlsx',sheet_name='2021 Market Area 108')\n",
    "townhome109 = pd.read_excel('data/ar-comp-2021-residential-109-sheet.xlsx',sheet_name='2021 Market Area 109')\n",
    "townhome407= pd.read_excel('data/ar-comp-2021-residential-407-sheet.xlsx',sheet_name='2021 Market Area 407')\n",
    "townhome506 = pd.read_excel('data/ar-comp-2021-residential-506-sheet.xlsx',sheet_name='2021 Market Area 506')\n",
    "\n",
    "#condos\n",
    "condo630 = pd.read_excel('data/ar-comp-2021-residential-630-sheet.xlsx',sheet_name='2021 Market Area 630')\n",
    "condo632 =pd.read_excel('data/ar-comp-2021-residential-632-sheet.xlsx',sheet_name='2021 Market Area 632')\n",
    "condo633=pd.read_excel('data/ar-comp-2021-residential-633-sheet.xlsx',sheet_name='2021 Market Area 633')\n",
    "condo634=pd.read_excel('data/ar-comp-2021-residential-634-sheet.xlsx',sheet_name='2021 Market Area 634')"
   ]
  },
  {
   "cell_type": "code",
   "execution_count": 8,
   "id": "91e68d40",
   "metadata": {},
   "outputs": [
    {
     "name": "stdout",
     "output_type": "stream",
     "text": [
      "Number of propeties in each market area: \n",
      "Lafayette etc.  706 817 1321 1847 2389\n",
      "Boulder: 518 628 622 298 559 548 454\n",
      "Longmont 385 3500 1443 92 2874\n",
      "Townhomes 401 203 1127 861\n",
      "Condos 2711 1383 1133 27\n"
     ]
    }
   ],
   "source": [
    "print(\"Number of propeties in each market area: \")\n",
    "print(\"Lafayette etc. \", gunbarrel.shape[0], superior.shape[0], louisville.shape[0], erie.shape[0], lafayette.shape[0])\n",
    "print(\"Boulder:\", boulder1.shape[0], boulder2.shape[0], boulder3.shape[0], boulder4.shape[0], boulder5.shape[0], boulder6.shape[0], boulder7.shape[0])\n",
    "print(\"Longmont\",longmont1.shape[0], longmont2.shape[0], longmont3.shape[0], longmont5.shape[0], longmont7.shape[0])\n",
    "print(\"Townhomes\", townhome108.shape[0], townhome109.shape[0], townhome407.shape[0], townhome506.shape[0])\n",
    "print(\"Condos\", condo630.shape[0], condo632.shape[0], condo633.shape[0], condo634.shape[0])\n"
   ]
  },
  {
   "cell_type": "markdown",
   "id": "a895eb64",
   "metadata": {},
   "source": [
    "#### Data joining"
   ]
  },
  {
   "cell_type": "code",
   "execution_count": 9,
   "id": "c0d90045",
   "metadata": {},
   "outputs": [
    {
     "data": {
      "text/plain": [
       "(26847, 23)"
      ]
     },
     "execution_count": 9,
     "metadata": {},
     "output_type": "execute_result"
    }
   ],
   "source": [
    "df = pd.concat([gunbarrel, superior, louisville, erie, lafayette, boulder1,\n",
    "      boulder2, boulder3, boulder4, boulder5, boulder6, boulder7, longmont1, longmont2, longmont3, longmont5, longmont7,\n",
    "               townhome108, townhome109, townhome407, townhome506, condo630, condo632, condo633,condo634])\n",
    "df.shape"
   ]
  },
  {
   "cell_type": "markdown",
   "id": "4543e01a",
   "metadata": {},
   "source": [
    "## Data definition"
   ]
  },
  {
   "cell_type": "code",
   "execution_count": 10,
   "id": "ba06b059",
   "metadata": {},
   "outputs": [
    {
     "data": {
      "text/plain": [
       "Index(['Accout Number', 'Property Type', 'Property Address Street Number',\n",
       "       'Property Address Street Dir', 'Property Address Street Name',\n",
       "       'Property Address Street Suffix', 'Property Address Unit Number',\n",
       "       'Location', 'Design', 'Quality', 'Eff Yr Built', 'Above Grd SF',\n",
       "       'Basemt Tot SF', 'Basemt Fin SF', 'Basemt Unf SF', 'Garage Type',\n",
       "       'Garage SF', 'Est Land SF', 'Reception No', 'Sale Date (Mon-Yr)',\n",
       "       'Sale Price', 'Time Adjust Sales Price', 'Market Area'],\n",
       "      dtype='object')"
      ]
     },
     "execution_count": 10,
     "metadata": {},
     "output_type": "execute_result"
    }
   ],
   "source": [
    "df.columns"
   ]
  },
  {
   "cell_type": "code",
   "execution_count": 63,
   "id": "9084415e",
   "metadata": {},
   "outputs": [],
   "source": [
    "X = df"
   ]
  },
  {
   "cell_type": "markdown",
   "id": "edec30fe",
   "metadata": {},
   "source": [
    "We remove fields 'Reception No', 'Sale Date (Mon-Yr)','Sale Price', 'Time Adjust Sales Price' to be used as a response variable. Need to figure out whether to use time adjusted or actual sale price. <br>\n",
    "\n",
    "We also remove street address fields for now: <br>\n",
    "       'Accout Number', 'Property Address Street Number',<br>\n",
    "       'Property Address Street Dir', 'Property Address Street Name',<br>\n",
    "       'Property Address Street Suffix', 'Property Address Unit Number', but keep the 'Property Type' in case we add condos/apartments. "
   ]
  },
  {
   "cell_type": "code",
   "execution_count": 50,
   "id": "67d33dff",
   "metadata": {},
   "outputs": [],
   "source": [
    "Y= df.loc[:,'Time Adjust Sales Price']"
   ]
  },
  {
   "cell_type": "code",
   "execution_count": 51,
   "id": "b008e647",
   "metadata": {},
   "outputs": [
    {
     "data": {
      "text/plain": [
       "0     581143.136625\n",
       "1     652607.758723\n",
       "2     553206.861188\n",
       "3     495706.522160\n",
       "4     576679.694605\n",
       "          ...      \n",
       "22    461577.800000\n",
       "23    469010.140928\n",
       "24    386842.142077\n",
       "25    405727.210397\n",
       "26    438185.387229\n",
       "Name: Time Adjust Sales Price, Length: 26847, dtype: float64"
      ]
     },
     "execution_count": 51,
     "metadata": {},
     "output_type": "execute_result"
    }
   ],
   "source": [
    "Y\n"
   ]
  },
  {
   "cell_type": "markdown",
   "id": "be40ec07",
   "metadata": {},
   "source": [
    "This is our current response variable, need to determine whether to use it or some actual sale price or anything else. The sales are float 64."
   ]
  },
  {
   "cell_type": "code",
   "execution_count": 15,
   "id": "03f1fe4a",
   "metadata": {},
   "outputs": [
    {
     "data": {
      "text/plain": [
       "<AxesSubplot:xlabel='count', ylabel='Design'>"
      ]
     },
     "execution_count": 15,
     "metadata": {},
     "output_type": "execute_result"
    },
    {
     "data": {
      "image/png": "[encoded data removed]",
      "text/plain": [
       "<Figure size 432x288 with 1 Axes>"
      ]
     },
     "metadata": {
      "needs_background": "light"
     },
     "output_type": "display_data"
    }
   ],
   "source": [
    "sns.countplot(y=X['Design'])"
   ]
  },
  {
   "cell_type": "code",
   "execution_count": 16,
   "id": "d9a907b9",
   "metadata": {},
   "outputs": [
    {
     "data": {
      "text/plain": [
       "<AxesSubplot:xlabel='count', ylabel='Quality'>"
      ]
     },
     "execution_count": 16,
     "metadata": {},
     "output_type": "execute_result"
    },
    {
     "data": {
      "image/png": "[encoded data removed]",
      "text/plain": [
       "<Figure size 432x288 with 1 Axes>"
      ]
     },
     "metadata": {
      "needs_background": "light"
     },
     "output_type": "display_data"
    }
   ],
   "source": [
    "sns.countplot(y=X['Quality'])"
   ]
  },
  {
   "cell_type": "code",
   "execution_count": 20,
   "id": "2cfeb2c0",
   "metadata": {},
   "outputs": [
    {
     "data": {
      "text/plain": [
       "<AxesSubplot:xlabel='count', ylabel='Market Area'>"
      ]
     },
     "execution_count": 20,
     "metadata": {},
     "output_type": "execute_result"
    },
    {
     "data": {
      "image/png": "[encoded data removed]",
      "text/plain": [
       "<Figure size 432x288 with 1 Axes>"
      ]
     },
     "metadata": {
      "needs_background": "light"
     },
     "output_type": "display_data"
    }
   ],
   "source": [
    "sns.countplot(y=X['Market Area'])"
   ]
  },
  {
   "cell_type": "code",
   "execution_count": 22,
   "id": "a182c7be",
   "metadata": {},
   "outputs": [
    {
     "data": {
      "text/plain": [
       "<AxesSubplot:xlabel='count', ylabel='Location'>"
      ]
     },
     "execution_count": 22,
     "metadata": {},
     "output_type": "execute_result"
    },
    {
     "data": {
      "image/png": "[encoded data removed]",
      "text/plain": [
       "<Figure size 432x288 with 1 Axes>"
      ]
     },
     "metadata": {
      "needs_background": "light"
     },
     "output_type": "display_data"
    }
   ],
   "source": [
    "sns.countplot(y=X['Location'])"
   ]
  },
  {
   "cell_type": "markdown",
   "id": "ee31dd01",
   "metadata": {},
   "source": [
    "Let's expore if we have any missing data"
   ]
  },
  {
   "cell_type": "code",
   "execution_count": 53,
   "id": "5d5df990",
   "metadata": {},
   "outputs": [
    {
     "name": "stdout",
     "output_type": "stream",
     "text": [
      "(10,)\n"
     ]
    },
    {
     "data": {
      "text/plain": [
       "<AxesSubplot:>"
      ]
     },
     "execution_count": 53,
     "metadata": {},
     "output_type": "execute_result"
    },
    {
     "data": {
      "image/png": "[encoded data removed]",
      "text/plain": [
       "<Figure size 432x288 with 1 Axes>"
      ]
     },
     "metadata": {
      "needs_background": "light"
     },
     "output_type": "display_data"
    }
   ],
   "source": [
    "missing = X.isnull().sum()\n",
    "missing = missing[missing > 0]\n",
    "print(missing.shape)\n",
    "missing.sort_values(inplace=True)\n",
    "missing.plot.bar()"
   ]
  },
  {
   "cell_type": "markdown",
   "id": "c05d9a16",
   "metadata": {},
   "source": [
    "We have some missing data, which is not actually missing, but those fields are not available for each property, and we will drop this information before analysis, so we can keep all the observations."
   ]
  },
  {
   "cell_type": "markdown",
   "id": "e1cfe3d1",
   "metadata": {},
   "source": [
    "\n",
    "#### 1. Change 'Garage SF' to an int\n",
    "\n",
    "#### 2. We want to recode location, design, quality, garage type  as categorical variables things like "
   ]
  },
  {
   "cell_type": "code",
   "execution_count": 69,
   "id": "41daac25",
   "metadata": {},
   "outputs": [],
   "source": [
    "X.loc[X['Garage SF']==\"\", \"Garage SF\"]=0"
   ]
  },
  {
   "cell_type": "code",
   "execution_count": 72,
   "id": "52bdaffe",
   "metadata": {},
   "outputs": [
    {
     "name": "stderr",
     "output_type": "stream",
     "text": [
      "/var/folders/93/rlhghy792jqb_shw4fl2xbn80000gn/T/ipykernel_926/3273730357.py:1: FutureWarning: The default value of regex will change from True to False in a future version.\n",
      "  X['Garage SF'] = X['Garage SF'].astype(str).str.replace(r'\\D+', '').astype(int)\n"
     ]
    }
   ],
   "source": [
    "X['Garage SF'] = X['Garage SF'].astype(str).str.replace(r'\\D+', '').astype(int)"
   ]
  },
  {
   "cell_type": "markdown",
   "id": "ce7a8c9c",
   "metadata": {},
   "source": [
    "So we confirmed that 'Garage SF' is now numeric. "
   ]
  },
  {
   "cell_type": "markdown",
   "id": "119d49cf",
   "metadata": {},
   "source": [
    "### Let's check if data has any duplicates."
   ]
  },
  {
   "cell_type": "code",
   "execution_count": 77,
   "id": "785fa014",
   "metadata": {},
   "outputs": [
    {
     "data": {
      "text/html": [
       "<div>\n",
       "<style scoped>\n",
       "    .dataframe tbody tr th:only-of-type {\n",
       "        vertical-align: middle;\n",
       "    }\n",
       "\n",
       "    .dataframe tbody tr th {\n",
       "        vertical-align: top;\n",
       "    }\n",
       "\n",
       "    .dataframe thead th {\n",
       "        text-align: right;\n",
       "    }\n",
       "</style>\n",
       "<table border=\"1\" class=\"dataframe\">\n",
       "  <thead>\n",
       "    <tr style=\"text-align: right;\">\n",
       "      <th></th>\n",
       "      <th>Accout Number</th>\n",
       "      <th>Property Type</th>\n",
       "      <th>Property Address Street Number</th>\n",
       "      <th>Property Address Street Dir</th>\n",
       "      <th>Property Address Street Name</th>\n",
       "      <th>Property Address Street Suffix</th>\n",
       "      <th>Property Address Unit Number</th>\n",
       "      <th>Location</th>\n",
       "      <th>Design</th>\n",
       "      <th>Quality</th>\n",
       "      <th>...</th>\n",
       "      <th>Basemt Fin SF</th>\n",
       "      <th>Basemt Unf SF</th>\n",
       "      <th>Garage Type</th>\n",
       "      <th>Garage SF</th>\n",
       "      <th>Est Land SF</th>\n",
       "      <th>Reception No</th>\n",
       "      <th>Sale Date (Mon-Yr)</th>\n",
       "      <th>Sale Price</th>\n",
       "      <th>Time Adjust Sales Price</th>\n",
       "      <th>Market Area</th>\n",
       "    </tr>\n",
       "  </thead>\n",
       "  <tbody>\n",
       "    <tr>\n",
       "      <th>517</th>\n",
       "      <td>R0609250</td>\n",
       "      <td>RCON</td>\n",
       "      <td>3401</td>\n",
       "      <td>NaN</td>\n",
       "      <td>ARAPAHOE</td>\n",
       "      <td>AVE</td>\n",
       "      <td>317</td>\n",
       "      <td>BOULDER</td>\n",
       "      <td>1 Sty Condo</td>\n",
       "      <td>Good</td>\n",
       "      <td>...</td>\n",
       "      <td>0.0</td>\n",
       "      <td>0.0</td>\n",
       "      <td>Basement</td>\n",
       "      <td>4000</td>\n",
       "      <td>0.0</td>\n",
       "      <td>3806079</td>\n",
       "      <td>2020-08-11</td>\n",
       "      <td>1104400</td>\n",
       "      <td>1104400.0</td>\n",
       "      <td>630</td>\n",
       "    </tr>\n",
       "  </tbody>\n",
       "</table>\n",
       "<p>1 rows × 23 columns</p>\n",
       "</div>"
      ],
      "text/plain": [
       "    Accout Number Property Type  Property Address Street Number  \\\n",
       "517      R0609250          RCON                            3401   \n",
       "\n",
       "    Property Address Street Dir Property Address Street Name  \\\n",
       "517                         NaN                     ARAPAHOE   \n",
       "\n",
       "    Property Address Street Suffix Property Address Unit Number Location  \\\n",
       "517                            AVE                          317  BOULDER   \n",
       "\n",
       "          Design Quality  ...  Basemt Fin SF  Basemt Unf SF Garage Type  \\\n",
       "517  1 Sty Condo    Good  ...            0.0            0.0    Basement   \n",
       "\n",
       "     Garage SF  Est Land SF Reception No  Sale Date (Mon-Yr)  Sale Price  \\\n",
       "517       4000          0.0      3806079          2020-08-11     1104400   \n",
       "\n",
       "    Time Adjust Sales Price Market Area  \n",
       "517               1104400.0         630  \n",
       "\n",
       "[1 rows x 23 columns]"
      ]
     },
     "execution_count": 77,
     "metadata": {},
     "output_type": "execute_result"
    }
   ],
   "source": [
    "X[X.duplicated(subset=None)]"
   ]
  },
  {
   "cell_type": "code",
   "execution_count": 84,
   "id": "7e50db0d",
   "metadata": {},
   "outputs": [
    {
     "data": {
      "text/plain": [
       "(26847, 23)"
      ]
     },
     "execution_count": 84,
     "metadata": {},
     "output_type": "execute_result"
    }
   ],
   "source": [
    "X.shape"
   ]
  },
  {
   "cell_type": "code",
   "execution_count": 86,
   "id": "97b3eed2",
   "metadata": {},
   "outputs": [
    {
     "data": {
      "text/plain": [
       "(26846, 23)"
      ]
     },
     "execution_count": 86,
     "metadata": {},
     "output_type": "execute_result"
    }
   ],
   "source": [
    "X = X.drop_duplicates(subset=None, keep='last')\n",
    "X.shape"
   ]
  },
  {
   "cell_type": "markdown",
   "id": "3f8d410d",
   "metadata": {},
   "source": [
    "Dropped a single duplicate. Now we have 26846 rows and 23 columns. Time to save the data."
   ]
  },
  {
   "cell_type": "code",
   "execution_count": 90,
   "id": "f8afea76",
   "metadata": {},
   "outputs": [],
   "source": [
    "X.to_csv('data/clean_data.csv', index=False)"
   ]
  },
  {
   "cell_type": "code",
   "execution_count": null,
   "id": "6a86b10a",
   "metadata": {},
   "outputs": [],
   "source": []
  }
 ],
 "metadata": {
  "kernelspec": {
   "display_name": "Python 3 (ipykernel)",
   "language": "python",
   "name": "python3"
  },
  "language_info": {
   "codemirror_mode": {
    "name": "ipython",
    "version": 3
   },
   "file_extension": ".py",
   "mimetype": "text/x-python",
   "name": "python",
   "nbconvert_exporter": "python",
   "pygments_lexer": "ipython3",
   "version": "3.9.12"
  }
 },
 "nbformat": 4,
 "nbformat_minor": 5
}
