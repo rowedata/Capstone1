{
 "cells": [
  {
   "cell_type": "markdown",
   "id": "35c8b602",
   "metadata": {},
   "source": [
    "# Capstone 1. Data Wrangling"
   ]
  },
  {
   "cell_type": "markdown",
   "id": "6583dfaa",
   "metadata": {},
   "source": [
    "## #Current 2021/2022 Tax Years: Residential Sales\n",
    "Base Period Sales from July 1, 2018–June 30, 2020\n",
    "In areas with few sales, the Assessor is allowed to use comparable sales going back up to five years.\n",
    "\n",
    "https://bouldercounty.gov/property-and-land/assessor/sales/comps-2021/residential/\n",
    "\n",
    "### Single Family Residential Properties <br>\n",
    "Sales of single family homes, duplexes, and triplexes.\n",
    "Market Area Maps for Single Family Properties\n",
    "Comparable properties are often found in the same Market Area, which are groups of neighborhoods that have similar trends in the market. Boulder County uses these areas to establish market value for mass appraisal purposes."
   ]
  },
  {
   "cell_type": "markdown",
   "id": "f77aea78",
   "metadata": {},
   "source": [
    "## 1. Data Collection"
   ]
  },
  {
   "cell_type": "markdown",
   "id": "731fc836",
   "metadata": {},
   "source": [
    " #### Load the packages"
   ]
  },
  {
   "cell_type": "code",
   "execution_count": 2,
   "id": "b0de5744",
   "metadata": {},
   "outputs": [],
   "source": [
    "%matplotlib inline\n",
    "import numpy as np\n",
    "import pandas as pd \n",
    "import matplotlib.pyplot as plt\n",
    "import seaborn as sns\n"
   ]
  },
  {
   "cell_type": "markdown",
   "id": "7265f6bb",
   "metadata": {},
   "source": [
    "#### Data Loading "
   ]
  },
  {
   "cell_type": "code",
   "execution_count": 3,
   "id": "efccf101",
   "metadata": {},
   "outputs": [],
   "source": [
    "gunbarrel = pd.read_excel('data/ar-comp-2021-residential-401-sheet.xlsx',sheet_name='2021 Market Area 401' )\n",
    "superior = pd.read_excel('data/ar-comp-2021-residential-402-sheet.xlsx',sheet_name='2021 Market Area 402')\n",
    "louisville = pd.read_excel('data/ar-comp-2021-residential-403-sheet.xlsx',sheet_name='2021 Market Area 403')\n",
    "erie = pd.read_excel('data/ar-comp-2021-residential-404-sheet.xlsx',sheet_name='2021 Market Area 404')\n",
    "lafayette = pd.read_excel('data/ar-comp-2021-residential-405-sheet.xlsx',sheet_name='2021 Market Area 405')"
   ]
  },
  {
   "cell_type": "code",
   "execution_count": 4,
   "id": "91e68d40",
   "metadata": {},
   "outputs": [
    {
     "name": "stdout",
     "output_type": "stream",
     "text": [
      "(706, 23) (817, 23) (1321, 23) (1847, 23) (2389, 23)\n"
     ]
    }
   ],
   "source": [
    "print(gunbarrel.shape, superior.shape, louisville.shape, erie.shape, lafayette.shape)\n"
   ]
  },
  {
   "cell_type": "markdown",
   "id": "a895eb64",
   "metadata": {},
   "source": [
    "#### Data joining"
   ]
  },
  {
   "cell_type": "code",
   "execution_count": 5,
   "id": "c0d90045",
   "metadata": {},
   "outputs": [
    {
     "data": {
      "text/plain": [
       "(7080, 23)"
      ]
     },
     "execution_count": 5,
     "metadata": {},
     "output_type": "execute_result"
    }
   ],
   "source": [
    "df = pd.concat([gunbarrel, superior, louisville, erie, lafayette])\n",
    "df.shape"
   ]
  },
  {
   "cell_type": "markdown",
   "id": "4543e01a",
   "metadata": {},
   "source": [
    "## Data definition"
   ]
  },
  {
   "cell_type": "code",
   "execution_count": 6,
   "id": "ba06b059",
   "metadata": {},
   "outputs": [
    {
     "data": {
      "text/plain": [
       "Index(['Accout Number', 'Property Type', 'Property Address Street Number',\n",
       "       'Property Address Street Dir', 'Property Address Street Name',\n",
       "       'Property Address Street Suffix', 'Property Address Unit Number',\n",
       "       'Location', 'Design', 'Quality', 'Eff Yr Built', 'Above Grd SF',\n",
       "       'Basemt Tot SF', 'Basemt Fin SF', 'Basemt Unf SF', 'Garage Type',\n",
       "       'Garage SF', 'Est Land SF', 'Reception No', 'Sale Date (Mon-Yr)',\n",
       "       'Sale Price', 'Time Adjust Sales Price', 'Market Area'],\n",
       "      dtype='object')"
      ]
     },
     "execution_count": 6,
     "metadata": {},
     "output_type": "execute_result"
    }
   ],
   "source": [
    "df.columns"
   ]
  },
  {
   "cell_type": "code",
   "execution_count": 8,
   "id": "9084415e",
   "metadata": {},
   "outputs": [],
   "source": [
    "X = df.loc[:,['Property Type','Location', 'Design', 'Quality', 'Eff Yr Built', 'Above Grd SF',\n",
    "       'Basemt Tot SF', 'Basemt Fin SF', 'Basemt Unf SF', 'Garage Type',\n",
    "       'Garage SF', 'Est Land SF','Market Area','Time Adjust Sales Price']]\n"
   ]
  },
  {
   "cell_type": "markdown",
   "id": "edec30fe",
   "metadata": {},
   "source": [
    "We remove fields 'Reception No', 'Sale Date (Mon-Yr)','Sale Price', 'Time Adjust Sales Price' to be used as a response variable. Need to figure out whether to use time adjusted or actual sale price. <br>\n",
    "\n",
    "We also remove street address fields for now: <br>\n",
    "       'Accout Number', 'Property Address Street Number',<br>\n",
    "       'Property Address Street Dir', 'Property Address Street Name',<br>\n",
    "       'Property Address Street Suffix', 'Property Address Unit Number', but keep the 'Property Type' in case we add condos/apartments. "
   ]
  },
  {
   "cell_type": "code",
   "execution_count": 9,
   "id": "67d33dff",
   "metadata": {},
   "outputs": [],
   "source": [
    "Y= df.loc[:,'Time Adjust Sales Price']"
   ]
  },
  {
   "cell_type": "code",
   "execution_count": 11,
   "id": "b008e647",
   "metadata": {},
   "outputs": [
    {
     "data": {
      "text/plain": [
       "0       581143.136625\n",
       "1       652607.758723\n",
       "2       553206.861188\n",
       "3       495706.522160\n",
       "4       576679.694605\n",
       "            ...      \n",
       "2384    773180.319485\n",
       "2385    765964.675620\n",
       "2386    757164.350655\n",
       "2387    775666.458287\n",
       "2388    729660.642766\n",
       "Name: Time Adjust Sales Price, Length: 7080, dtype: float64"
      ]
     },
     "execution_count": 11,
     "metadata": {},
     "output_type": "execute_result"
    }
   ],
   "source": [
    "Y\n"
   ]
  },
  {
   "cell_type": "markdown",
   "id": "be40ec07",
   "metadata": {},
   "source": [
    "This is our current response variable, need to determine whether to use it or some actual sale price or anything else. The sales are float 64."
   ]
  },
  {
   "cell_type": "markdown",
   "id": "0bf35e84",
   "metadata": {},
   "source": [
    "Let's look at X closely. "
   ]
  },
  {
   "cell_type": "code",
   "execution_count": 12,
   "id": "a0010a4f",
   "metadata": {},
   "outputs": [
    {
     "data": {
      "text/html": [
       "<div>\n",
       "<style scoped>\n",
       "    .dataframe tbody tr th:only-of-type {\n",
       "        vertical-align: middle;\n",
       "    }\n",
       "\n",
       "    .dataframe tbody tr th {\n",
       "        vertical-align: top;\n",
       "    }\n",
       "\n",
       "    .dataframe thead th {\n",
       "        text-align: right;\n",
       "    }\n",
       "</style>\n",
       "<table border=\"1\" class=\"dataframe\">\n",
       "  <thead>\n",
       "    <tr style=\"text-align: right;\">\n",
       "      <th></th>\n",
       "      <th>Property Type</th>\n",
       "      <th>Location</th>\n",
       "      <th>Design</th>\n",
       "      <th>Quality</th>\n",
       "      <th>Eff Yr Built</th>\n",
       "      <th>Above Grd SF</th>\n",
       "      <th>Basemt Tot SF</th>\n",
       "      <th>Basemt Fin SF</th>\n",
       "      <th>Basemt Unf SF</th>\n",
       "      <th>Garage Type</th>\n",
       "      <th>Garage SF</th>\n",
       "      <th>Est Land SF</th>\n",
       "      <th>Market Area</th>\n",
       "      <th>Time Adjust Sales Price</th>\n",
       "    </tr>\n",
       "  </thead>\n",
       "  <tbody>\n",
       "    <tr>\n",
       "      <th>0</th>\n",
       "      <td>SFR</td>\n",
       "      <td>UNINCORPORATED</td>\n",
       "      <td>Ranch</td>\n",
       "      <td>Avg ++</td>\n",
       "      <td>1990</td>\n",
       "      <td>1311</td>\n",
       "      <td>0</td>\n",
       "      <td>0</td>\n",
       "      <td>0</td>\n",
       "      <td>Attached</td>\n",
       "      <td>420</td>\n",
       "      <td>29780</td>\n",
       "      <td>401</td>\n",
       "      <td>581143.136625</td>\n",
       "    </tr>\n",
       "    <tr>\n",
       "      <th>1</th>\n",
       "      <td>SFR</td>\n",
       "      <td>UNINCORPORATED</td>\n",
       "      <td>Ranch</td>\n",
       "      <td>Avg ++</td>\n",
       "      <td>2001</td>\n",
       "      <td>1311</td>\n",
       "      <td>0</td>\n",
       "      <td>0</td>\n",
       "      <td>0</td>\n",
       "      <td>Attached</td>\n",
       "      <td>420</td>\n",
       "      <td>29780</td>\n",
       "      <td>401</td>\n",
       "      <td>652607.758723</td>\n",
       "    </tr>\n",
       "    <tr>\n",
       "      <th>2</th>\n",
       "      <td>SFR</td>\n",
       "      <td>UNINCORPORATED</td>\n",
       "      <td>Ranch</td>\n",
       "      <td>Avg</td>\n",
       "      <td>1980</td>\n",
       "      <td>1380</td>\n",
       "      <td>1050</td>\n",
       "      <td>1050</td>\n",
       "      <td>0</td>\n",
       "      <td>Attached</td>\n",
       "      <td>475</td>\n",
       "      <td>14234</td>\n",
       "      <td>401</td>\n",
       "      <td>553206.861188</td>\n",
       "    </tr>\n",
       "    <tr>\n",
       "      <th>3</th>\n",
       "      <td>SFR</td>\n",
       "      <td>UNINCORPORATED</td>\n",
       "      <td>Split level</td>\n",
       "      <td>Avg ++</td>\n",
       "      <td>2000</td>\n",
       "      <td>1270</td>\n",
       "      <td>500</td>\n",
       "      <td>500</td>\n",
       "      <td>0</td>\n",
       "      <td>Attached</td>\n",
       "      <td>475</td>\n",
       "      <td>8315</td>\n",
       "      <td>401</td>\n",
       "      <td>495706.522160</td>\n",
       "    </tr>\n",
       "    <tr>\n",
       "      <th>4</th>\n",
       "      <td>SFR</td>\n",
       "      <td>UNINCORPORATED</td>\n",
       "      <td>Split level</td>\n",
       "      <td>Avg</td>\n",
       "      <td>1995</td>\n",
       "      <td>850</td>\n",
       "      <td>500</td>\n",
       "      <td>500</td>\n",
       "      <td>0</td>\n",
       "      <td>Attached</td>\n",
       "      <td>475</td>\n",
       "      <td>10350</td>\n",
       "      <td>401</td>\n",
       "      <td>576679.694605</td>\n",
       "    </tr>\n",
       "  </tbody>\n",
       "</table>\n",
       "</div>"
      ],
      "text/plain": [
       "  Property Type        Location       Design Quality  Eff Yr Built  \\\n",
       "0           SFR  UNINCORPORATED        Ranch  Avg ++          1990   \n",
       "1           SFR  UNINCORPORATED        Ranch  Avg ++          2001   \n",
       "2           SFR  UNINCORPORATED        Ranch     Avg          1980   \n",
       "3           SFR  UNINCORPORATED  Split level  Avg ++          2000   \n",
       "4           SFR  UNINCORPORATED  Split level     Avg          1995   \n",
       "\n",
       "   Above Grd SF  Basemt Tot SF  Basemt Fin SF  Basemt Unf SF Garage Type  \\\n",
       "0          1311              0              0              0    Attached   \n",
       "1          1311              0              0              0    Attached   \n",
       "2          1380           1050           1050              0    Attached   \n",
       "3          1270            500            500              0    Attached   \n",
       "4           850            500            500              0    Attached   \n",
       "\n",
       "  Garage SF  Est Land SF  Market Area  Time Adjust Sales Price  \n",
       "0       420        29780          401            581143.136625  \n",
       "1       420        29780          401            652607.758723  \n",
       "2       475        14234          401            553206.861188  \n",
       "3       475         8315          401            495706.522160  \n",
       "4       475        10350          401            576679.694605  "
      ]
     },
     "execution_count": 12,
     "metadata": {},
     "output_type": "execute_result"
    }
   ],
   "source": [
    "X.head()"
   ]
  },
  {
   "cell_type": "markdown",
   "id": "ee31dd01",
   "metadata": {},
   "source": [
    "Let's expore if we have any missing data"
   ]
  },
  {
   "cell_type": "code",
   "execution_count": 13,
   "id": "5d5df990",
   "metadata": {},
   "outputs": [
    {
     "name": "stdout",
     "output_type": "stream",
     "text": [
      "(0,)\n"
     ]
    }
   ],
   "source": [
    "missing = X.isnull().sum()\n",
    "missing = missing[missing > 0]\n",
    "print(missing.shape)\n",
    "#missing.sort_values(inplace=True)\n",
    "#missing.plot.bar()"
   ]
  },
  {
   "cell_type": "markdown",
   "id": "c05d9a16",
   "metadata": {},
   "source": [
    "We don't have any missing data. Let's check the data types. "
   ]
  },
  {
   "cell_type": "code",
   "execution_count": 14,
   "id": "369026e5",
   "metadata": {},
   "outputs": [
    {
     "data": {
      "text/plain": [
       "Property Type               object\n",
       "Location                    object\n",
       "Design                      object\n",
       "Quality                     object\n",
       "Eff Yr Built                 int64\n",
       "Above Grd SF                 int64\n",
       "Basemt Tot SF                int64\n",
       "Basemt Fin SF                int64\n",
       "Basemt Unf SF                int64\n",
       "Garage Type                 object\n",
       "Garage SF                   object\n",
       "Est Land SF                  int64\n",
       "Market Area                  int64\n",
       "Time Adjust Sales Price    float64\n",
       "dtype: object"
      ]
     },
     "execution_count": 14,
     "metadata": {},
     "output_type": "execute_result"
    }
   ],
   "source": [
    "X.dtypes"
   ]
  },
  {
   "cell_type": "markdown",
   "id": "e1cfe3d1",
   "metadata": {},
   "source": [
    "\n",
    "#### 1. Change 'Garage SF' to an int\n",
    "\n",
    "#### 2. We want to recode location, design, quality, garage type  as categorical variables things like "
   ]
  },
  {
   "cell_type": "code",
   "execution_count": 17,
   "id": "52bdaffe",
   "metadata": {},
   "outputs": [
    {
     "name": "stderr",
     "output_type": "stream",
     "text": [
      "/var/folders/93/rlhghy792jqb_shw4fl2xbn80000gn/T/ipykernel_86714/576785893.py:1: FutureWarning: The default value of regex will change from True to False in a future version.\n",
      "  X['Garage SF'] = X['Garage SF'].str.replace(r'\\D+', '').astype(int)\n"
     ]
    }
   ],
   "source": [
    "X['Garage SF'] = X['Garage SF'].str.replace(r'\\D+', '').astype(int)"
   ]
  },
  {
   "cell_type": "code",
   "execution_count": 18,
   "id": "4932796d",
   "metadata": {},
   "outputs": [
    {
     "data": {
      "text/plain": [
       "0       420\n",
       "1       420\n",
       "2       475\n",
       "3       475\n",
       "4       475\n",
       "       ... \n",
       "2384    706\n",
       "2385    706\n",
       "2386    440\n",
       "2387    600\n",
       "2388    486\n",
       "Name: Garage SF, Length: 7080, dtype: int64"
      ]
     },
     "execution_count": 18,
     "metadata": {},
     "output_type": "execute_result"
    }
   ],
   "source": [
    "X['Garage SF'] #X['Garage SF'] = X['Garage SF'].astype(str).astype(int) "
   ]
  },
  {
   "cell_type": "code",
   "execution_count": 19,
   "id": "e39296bb",
   "metadata": {},
   "outputs": [
    {
     "data": {
      "text/plain": [
       "Property Type               object\n",
       "Location                    object\n",
       "Design                      object\n",
       "Quality                     object\n",
       "Eff Yr Built                 int64\n",
       "Above Grd SF                 int64\n",
       "Basemt Tot SF                int64\n",
       "Basemt Fin SF                int64\n",
       "Basemt Unf SF                int64\n",
       "Garage Type                 object\n",
       "Garage SF                    int64\n",
       "Est Land SF                  int64\n",
       "Market Area                  int64\n",
       "Time Adjust Sales Price    float64\n",
       "dtype: object"
      ]
     },
     "execution_count": 19,
     "metadata": {},
     "output_type": "execute_result"
    }
   ],
   "source": [
    "X.dtypes"
   ]
  },
  {
   "cell_type": "markdown",
   "id": "ce7a8c9c",
   "metadata": {},
   "source": [
    "So we confirmed that 'Garage SF' is now numeric. Let's check unique values for Location, Design, Quality, Garage Type"
   ]
  },
  {
   "cell_type": "code",
   "execution_count": 20,
   "id": "46f5c62d",
   "metadata": {},
   "outputs": [
    {
     "data": {
      "text/plain": [
       "array(['UNINCORPORATED', 'BOULDER', 'SUPERIOR', 'LOUISVILLE', 'ERIE',\n",
       "       'LAFAYETTE'], dtype=object)"
      ]
     },
     "execution_count": 20,
     "metadata": {},
     "output_type": "execute_result"
    }
   ],
   "source": [
    "X['Location'].unique()"
   ]
  },
  {
   "cell_type": "markdown",
   "id": "e529aaad",
   "metadata": {},
   "source": [
    "The only new information we're learning beyond market are is whether the location is unincorporated or not. So we can drop the whole variable and only have a binary variable for Unincorporated =1, otherwise 0. "
   ]
  },
  {
   "cell_type": "code",
   "execution_count": 21,
   "id": "de9724b5",
   "metadata": {},
   "outputs": [
    {
     "data": {
      "text/plain": [
       "577"
      ]
     },
     "execution_count": 21,
     "metadata": {},
     "output_type": "execute_result"
    }
   ],
   "source": [
    "X['Unincorporated']= 0\n",
    "X.loc[X['Location']=='UNINCORPORATED', 'Unincorporated']=1\n",
    "X['Unincorporated'].sum()"
   ]
  },
  {
   "cell_type": "code",
   "execution_count": 22,
   "id": "634757f8",
   "metadata": {},
   "outputs": [
    {
     "data": {
      "text/plain": [
       "array(['Ranch', 'Split level', 'Bi Level', 'Multi Sty', 'Paired',\n",
       "       '1 Sty Townh', 'Modular'], dtype=object)"
      ]
     },
     "execution_count": 22,
     "metadata": {},
     "output_type": "execute_result"
    }
   ],
   "source": [
    "X['Design'].unique()"
   ]
  },
  {
   "cell_type": "markdown",
   "id": "0816befe",
   "metadata": {},
   "source": [
    "So for Design there is no natural progression, so we prefer to one hot encode the variables and perhaps drop one category. "
   ]
  },
  {
   "cell_type": "code",
   "execution_count": 23,
   "id": "d8465632",
   "metadata": {},
   "outputs": [],
   "source": [
    "# Convert the Country column to a one hot encoded Data Frame\n",
    "X = pd.get_dummies(X, columns=['Design'], prefix='Design')"
   ]
  },
  {
   "cell_type": "code",
   "execution_count": 24,
   "id": "e0c36c07",
   "metadata": {},
   "outputs": [
    {
     "data": {
      "text/plain": [
       "1646"
      ]
     },
     "execution_count": 24,
     "metadata": {},
     "output_type": "execute_result"
    }
   ],
   "source": [
    "X['Design_Ranch'].sum()"
   ]
  },
  {
   "cell_type": "code",
   "execution_count": 26,
   "id": "f6deeab4",
   "metadata": {},
   "outputs": [
    {
     "data": {
      "text/html": [
       "<div>\n",
       "<style scoped>\n",
       "    .dataframe tbody tr th:only-of-type {\n",
       "        vertical-align: middle;\n",
       "    }\n",
       "\n",
       "    .dataframe tbody tr th {\n",
       "        vertical-align: top;\n",
       "    }\n",
       "\n",
       "    .dataframe thead th {\n",
       "        text-align: right;\n",
       "    }\n",
       "</style>\n",
       "<table border=\"1\" class=\"dataframe\">\n",
       "  <thead>\n",
       "    <tr style=\"text-align: right;\">\n",
       "      <th></th>\n",
       "      <th>Property Type</th>\n",
       "      <th>Location</th>\n",
       "      <th>Quality</th>\n",
       "      <th>Eff Yr Built</th>\n",
       "      <th>Above Grd SF</th>\n",
       "      <th>Basemt Tot SF</th>\n",
       "      <th>Basemt Fin SF</th>\n",
       "      <th>Basemt Unf SF</th>\n",
       "      <th>Garage Type</th>\n",
       "      <th>Garage SF</th>\n",
       "      <th>...</th>\n",
       "      <th>Market Area</th>\n",
       "      <th>Time Adjust Sales Price</th>\n",
       "      <th>Unincorporated</th>\n",
       "      <th>Design_1 Sty Townh</th>\n",
       "      <th>Design_Bi Level</th>\n",
       "      <th>Design_Modular</th>\n",
       "      <th>Design_Multi Sty</th>\n",
       "      <th>Design_Paired</th>\n",
       "      <th>Design_Ranch</th>\n",
       "      <th>Design_Split level</th>\n",
       "    </tr>\n",
       "  </thead>\n",
       "  <tbody>\n",
       "    <tr>\n",
       "      <th>0</th>\n",
       "      <td>SFR</td>\n",
       "      <td>UNINCORPORATED</td>\n",
       "      <td>Avg ++</td>\n",
       "      <td>1990</td>\n",
       "      <td>1311</td>\n",
       "      <td>0</td>\n",
       "      <td>0</td>\n",
       "      <td>0</td>\n",
       "      <td>Attached</td>\n",
       "      <td>420</td>\n",
       "      <td>...</td>\n",
       "      <td>401</td>\n",
       "      <td>581143.136625</td>\n",
       "      <td>1</td>\n",
       "      <td>0</td>\n",
       "      <td>0</td>\n",
       "      <td>0</td>\n",
       "      <td>0</td>\n",
       "      <td>0</td>\n",
       "      <td>1</td>\n",
       "      <td>0</td>\n",
       "    </tr>\n",
       "    <tr>\n",
       "      <th>1</th>\n",
       "      <td>SFR</td>\n",
       "      <td>UNINCORPORATED</td>\n",
       "      <td>Avg ++</td>\n",
       "      <td>2001</td>\n",
       "      <td>1311</td>\n",
       "      <td>0</td>\n",
       "      <td>0</td>\n",
       "      <td>0</td>\n",
       "      <td>Attached</td>\n",
       "      <td>420</td>\n",
       "      <td>...</td>\n",
       "      <td>401</td>\n",
       "      <td>652607.758723</td>\n",
       "      <td>1</td>\n",
       "      <td>0</td>\n",
       "      <td>0</td>\n",
       "      <td>0</td>\n",
       "      <td>0</td>\n",
       "      <td>0</td>\n",
       "      <td>1</td>\n",
       "      <td>0</td>\n",
       "    </tr>\n",
       "    <tr>\n",
       "      <th>2</th>\n",
       "      <td>SFR</td>\n",
       "      <td>UNINCORPORATED</td>\n",
       "      <td>Avg</td>\n",
       "      <td>1980</td>\n",
       "      <td>1380</td>\n",
       "      <td>1050</td>\n",
       "      <td>1050</td>\n",
       "      <td>0</td>\n",
       "      <td>Attached</td>\n",
       "      <td>475</td>\n",
       "      <td>...</td>\n",
       "      <td>401</td>\n",
       "      <td>553206.861188</td>\n",
       "      <td>1</td>\n",
       "      <td>0</td>\n",
       "      <td>0</td>\n",
       "      <td>0</td>\n",
       "      <td>0</td>\n",
       "      <td>0</td>\n",
       "      <td>1</td>\n",
       "      <td>0</td>\n",
       "    </tr>\n",
       "    <tr>\n",
       "      <th>3</th>\n",
       "      <td>SFR</td>\n",
       "      <td>UNINCORPORATED</td>\n",
       "      <td>Avg ++</td>\n",
       "      <td>2000</td>\n",
       "      <td>1270</td>\n",
       "      <td>500</td>\n",
       "      <td>500</td>\n",
       "      <td>0</td>\n",
       "      <td>Attached</td>\n",
       "      <td>475</td>\n",
       "      <td>...</td>\n",
       "      <td>401</td>\n",
       "      <td>495706.522160</td>\n",
       "      <td>1</td>\n",
       "      <td>0</td>\n",
       "      <td>0</td>\n",
       "      <td>0</td>\n",
       "      <td>0</td>\n",
       "      <td>0</td>\n",
       "      <td>0</td>\n",
       "      <td>1</td>\n",
       "    </tr>\n",
       "    <tr>\n",
       "      <th>4</th>\n",
       "      <td>SFR</td>\n",
       "      <td>UNINCORPORATED</td>\n",
       "      <td>Avg</td>\n",
       "      <td>1995</td>\n",
       "      <td>850</td>\n",
       "      <td>500</td>\n",
       "      <td>500</td>\n",
       "      <td>0</td>\n",
       "      <td>Attached</td>\n",
       "      <td>475</td>\n",
       "      <td>...</td>\n",
       "      <td>401</td>\n",
       "      <td>576679.694605</td>\n",
       "      <td>1</td>\n",
       "      <td>0</td>\n",
       "      <td>0</td>\n",
       "      <td>0</td>\n",
       "      <td>0</td>\n",
       "      <td>0</td>\n",
       "      <td>0</td>\n",
       "      <td>1</td>\n",
       "    </tr>\n",
       "  </tbody>\n",
       "</table>\n",
       "<p>5 rows × 21 columns</p>\n",
       "</div>"
      ],
      "text/plain": [
       "  Property Type        Location Quality  Eff Yr Built  Above Grd SF  \\\n",
       "0           SFR  UNINCORPORATED  Avg ++          1990          1311   \n",
       "1           SFR  UNINCORPORATED  Avg ++          2001          1311   \n",
       "2           SFR  UNINCORPORATED     Avg          1980          1380   \n",
       "3           SFR  UNINCORPORATED  Avg ++          2000          1270   \n",
       "4           SFR  UNINCORPORATED     Avg          1995           850   \n",
       "\n",
       "   Basemt Tot SF  Basemt Fin SF  Basemt Unf SF Garage Type  Garage SF  ...  \\\n",
       "0              0              0              0    Attached        420  ...   \n",
       "1              0              0              0    Attached        420  ...   \n",
       "2           1050           1050              0    Attached        475  ...   \n",
       "3            500            500              0    Attached        475  ...   \n",
       "4            500            500              0    Attached        475  ...   \n",
       "\n",
       "   Market Area  Time Adjust Sales Price  Unincorporated  Design_1 Sty Townh  \\\n",
       "0          401            581143.136625               1                   0   \n",
       "1          401            652607.758723               1                   0   \n",
       "2          401            553206.861188               1                   0   \n",
       "3          401            495706.522160               1                   0   \n",
       "4          401            576679.694605               1                   0   \n",
       "\n",
       "   Design_Bi Level  Design_Modular  Design_Multi Sty  Design_Paired  \\\n",
       "0                0               0                 0              0   \n",
       "1                0               0                 0              0   \n",
       "2                0               0                 0              0   \n",
       "3                0               0                 0              0   \n",
       "4                0               0                 0              0   \n",
       "\n",
       "   Design_Ranch  Design_Split level  \n",
       "0             1                   0  \n",
       "1             1                   0  \n",
       "2             1                   0  \n",
       "3             0                   1  \n",
       "4             0                   1  \n",
       "\n",
       "[5 rows x 21 columns]"
      ]
     },
     "execution_count": 26,
     "metadata": {},
     "output_type": "execute_result"
    }
   ],
   "source": [
    "X.head()"
   ]
  },
  {
   "cell_type": "markdown",
   "id": "bcadb35b",
   "metadata": {},
   "source": [
    "So for quality there is a natural progression. It seems that the assumption of equal distance between the quality levels is correct as well. So we recode it as a single variable"
   ]
  },
  {
   "cell_type": "code",
   "execution_count": 27,
   "id": "e770dc05",
   "metadata": {},
   "outputs": [
    {
     "data": {
      "text/plain": [
       "array(['Avg ++', 'Avg', 'Avg +', 'Good ++', 'Good', 'V Good', 'Good +',\n",
       "       'V Good +', 'V Good++', 'Excel', 'Excel+', 'Fair', 'Excel++'],\n",
       "      dtype=object)"
      ]
     },
     "execution_count": 27,
     "metadata": {},
     "output_type": "execute_result"
    }
   ],
   "source": [
    "X['Quality'].unique()"
   ]
  },
  {
   "cell_type": "code",
   "execution_count": 28,
   "id": "3462b6a0",
   "metadata": {},
   "outputs": [
    {
     "data": {
      "image/png": "[encoded data removed]",
      "text/plain": [
       "<Figure size 360x360 with 1 Axes>"
      ]
     },
     "metadata": {
      "needs_background": "light"
     },
     "output_type": "display_data"
    }
   ],
   "source": [
    "sns.catplot(x='Quality', data=X, kind='count')\n",
    "plt.show()"
   ]
  },
  {
   "cell_type": "code",
   "execution_count": 29,
   "id": "1b19f25d",
   "metadata": {},
   "outputs": [],
   "source": [
    "# Create the Quality_cat column filled with zeros\n",
    "X['Quality_cat'] = 0\n",
    "\n",
    "X.loc[X['Quality']=='Avg', 'Quality_cat'] = 1\n",
    "X.loc[X['Quality']=='Avg +', 'Quality_cat'] = 2\n",
    "X.loc[X['Quality']=='Avg ++', 'Quality_cat'] = 3\n",
    "X.loc[X['Quality']=='Good', 'Quality_cat'] = 4\n",
    "X.loc[X['Quality']=='Good +', 'Quality_cat'] = 5\n",
    "X.loc[X['Quality']=='Good ++', 'Quality_cat'] = 6\n",
    "X.loc[X['Quality']=='V Good', 'Quality_cat'] = 7\n",
    "X.loc[X['Quality']=='V Good +', 'Quality_cat'] = 8\n",
    "X.loc[X['Quality']=='V Good++', 'Quality_cat'] = 9\n",
    "X.loc[X['Quality']=='Excel', 'Quality_cat'] = 10\n",
    "X.loc[X['Quality']=='Excel+', 'Quality_cat'] = 11\n",
    "X.loc[X['Quality']=='Excel++', 'Quality_cat'] = 12"
   ]
  },
  {
   "cell_type": "code",
   "execution_count": 30,
   "id": "759ff0af",
   "metadata": {},
   "outputs": [
    {
     "data": {
      "text/plain": [
       "0       3\n",
       "1       3\n",
       "2       1\n",
       "3       3\n",
       "4       1\n",
       "       ..\n",
       "2384    6\n",
       "2385    6\n",
       "2386    4\n",
       "2387    5\n",
       "2388    4\n",
       "Name: Quality_cat, Length: 7080, dtype: int64"
      ]
     },
     "execution_count": 30,
     "metadata": {},
     "output_type": "execute_result"
    }
   ],
   "source": [
    "X['Quality_cat']"
   ]
  },
  {
   "cell_type": "code",
   "execution_count": 31,
   "id": "267cf1e4",
   "metadata": {},
   "outputs": [
    {
     "data": {
      "text/plain": [
       "array(['Attached', 'Carport', 'Detached', 'None', 'Multiple', 'Basement',\n",
       "       'Workshop'], dtype=object)"
      ]
     },
     "execution_count": 31,
     "metadata": {},
     "output_type": "execute_result"
    }
   ],
   "source": [
    "X['Garage Type'].unique()"
   ]
  },
  {
   "cell_type": "code",
   "execution_count": 32,
   "id": "344db2d9",
   "metadata": {},
   "outputs": [
    {
     "data": {
      "image/png": "[encoded data removed]",
      "text/plain": [
       "<Figure size 360x360 with 1 Axes>"
      ]
     },
     "metadata": {
      "needs_background": "light"
     },
     "output_type": "display_data"
    }
   ],
   "source": [
    "sns.catplot(x='Garage Type', data=X, kind='count')\n",
    "plt.show()"
   ]
  },
  {
   "cell_type": "markdown",
   "id": "56b55304",
   "metadata": {},
   "source": [
    "For garage we will binarize to attached and other"
   ]
  },
  {
   "cell_type": "code",
   "execution_count": 33,
   "id": "0123da06",
   "metadata": {},
   "outputs": [
    {
     "data": {
      "text/plain": [
       "6590"
      ]
     },
     "execution_count": 33,
     "metadata": {},
     "output_type": "execute_result"
    }
   ],
   "source": [
    "X['Garage Attached'] = 0\n",
    "X.loc[X['Garage Type']=='Attached', 'Garage Attached'] = 1\n",
    "X['Garage Attached'].sum()"
   ]
  },
  {
   "cell_type": "markdown",
   "id": "6637e925",
   "metadata": {},
   "source": [
    "Encode market area as numbers 1-5. "
   ]
  },
  {
   "cell_type": "code",
   "execution_count": 34,
   "id": "32346d41",
   "metadata": {},
   "outputs": [],
   "source": [
    "X['Market Area']=X['Market Area']-400"
   ]
  },
  {
   "cell_type": "code",
   "execution_count": 35,
   "id": "cbbfce1f",
   "metadata": {},
   "outputs": [
    {
     "data": {
      "text/plain": [
       "0       1\n",
       "1       1\n",
       "2       1\n",
       "3       1\n",
       "4       1\n",
       "       ..\n",
       "2384    5\n",
       "2385    5\n",
       "2386    5\n",
       "2387    5\n",
       "2388    5\n",
       "Name: Market Area, Length: 7080, dtype: int64"
      ]
     },
     "execution_count": 35,
     "metadata": {},
     "output_type": "execute_result"
    }
   ],
   "source": [
    "X['Market Area']"
   ]
  },
  {
   "cell_type": "code",
   "execution_count": 36,
   "id": "7b762061",
   "metadata": {},
   "outputs": [
    {
     "data": {
      "text/plain": [
       "Property Type               object\n",
       "Location                    object\n",
       "Quality                     object\n",
       "Eff Yr Built                 int64\n",
       "Above Grd SF                 int64\n",
       "Basemt Tot SF                int64\n",
       "Basemt Fin SF                int64\n",
       "Basemt Unf SF                int64\n",
       "Garage Type                 object\n",
       "Garage SF                    int64\n",
       "Est Land SF                  int64\n",
       "Market Area                  int64\n",
       "Time Adjust Sales Price    float64\n",
       "Unincorporated               int64\n",
       "Design_1 Sty Townh           uint8\n",
       "Design_Bi Level              uint8\n",
       "Design_Modular               uint8\n",
       "Design_Multi Sty             uint8\n",
       "Design_Paired                uint8\n",
       "Design_Ranch                 uint8\n",
       "Design_Split level           uint8\n",
       "Quality_cat                  int64\n",
       "Garage Attached              int64\n",
       "dtype: object"
      ]
     },
     "execution_count": 36,
     "metadata": {},
     "output_type": "execute_result"
    }
   ],
   "source": [
    "X.dtypes"
   ]
  },
  {
   "cell_type": "code",
   "execution_count": 38,
   "id": "86cc92a9",
   "metadata": {},
   "outputs": [
    {
     "data": {
      "text/html": [
       "<div>\n",
       "<style scoped>\n",
       "    .dataframe tbody tr th:only-of-type {\n",
       "        vertical-align: middle;\n",
       "    }\n",
       "\n",
       "    .dataframe tbody tr th {\n",
       "        vertical-align: top;\n",
       "    }\n",
       "\n",
       "    .dataframe thead th {\n",
       "        text-align: right;\n",
       "    }\n",
       "</style>\n",
       "<table border=\"1\" class=\"dataframe\">\n",
       "  <thead>\n",
       "    <tr style=\"text-align: right;\">\n",
       "      <th></th>\n",
       "      <th>Eff Yr Built</th>\n",
       "      <th>Above Grd SF</th>\n",
       "      <th>Basemt Tot SF</th>\n",
       "      <th>Basemt Fin SF</th>\n",
       "      <th>Basemt Unf SF</th>\n",
       "      <th>Garage SF</th>\n",
       "      <th>Est Land SF</th>\n",
       "      <th>Market Area</th>\n",
       "      <th>Time Adjust Sales Price</th>\n",
       "      <th>Unincorporated</th>\n",
       "      <th>Design_1 Sty Townh</th>\n",
       "      <th>Design_Bi Level</th>\n",
       "      <th>Design_Modular</th>\n",
       "      <th>Design_Multi Sty</th>\n",
       "      <th>Design_Paired</th>\n",
       "      <th>Design_Ranch</th>\n",
       "      <th>Design_Split level</th>\n",
       "      <th>Quality_cat</th>\n",
       "      <th>Garage Attached</th>\n",
       "    </tr>\n",
       "  </thead>\n",
       "  <tbody>\n",
       "    <tr>\n",
       "      <th>0</th>\n",
       "      <td>1990</td>\n",
       "      <td>1311</td>\n",
       "      <td>0</td>\n",
       "      <td>0</td>\n",
       "      <td>0</td>\n",
       "      <td>420</td>\n",
       "      <td>29780</td>\n",
       "      <td>1</td>\n",
       "      <td>581143.136625</td>\n",
       "      <td>1</td>\n",
       "      <td>0</td>\n",
       "      <td>0</td>\n",
       "      <td>0</td>\n",
       "      <td>0</td>\n",
       "      <td>0</td>\n",
       "      <td>1</td>\n",
       "      <td>0</td>\n",
       "      <td>3</td>\n",
       "      <td>1</td>\n",
       "    </tr>\n",
       "    <tr>\n",
       "      <th>1</th>\n",
       "      <td>2001</td>\n",
       "      <td>1311</td>\n",
       "      <td>0</td>\n",
       "      <td>0</td>\n",
       "      <td>0</td>\n",
       "      <td>420</td>\n",
       "      <td>29780</td>\n",
       "      <td>1</td>\n",
       "      <td>652607.758723</td>\n",
       "      <td>1</td>\n",
       "      <td>0</td>\n",
       "      <td>0</td>\n",
       "      <td>0</td>\n",
       "      <td>0</td>\n",
       "      <td>0</td>\n",
       "      <td>1</td>\n",
       "      <td>0</td>\n",
       "      <td>3</td>\n",
       "      <td>1</td>\n",
       "    </tr>\n",
       "    <tr>\n",
       "      <th>2</th>\n",
       "      <td>1980</td>\n",
       "      <td>1380</td>\n",
       "      <td>1050</td>\n",
       "      <td>1050</td>\n",
       "      <td>0</td>\n",
       "      <td>475</td>\n",
       "      <td>14234</td>\n",
       "      <td>1</td>\n",
       "      <td>553206.861188</td>\n",
       "      <td>1</td>\n",
       "      <td>0</td>\n",
       "      <td>0</td>\n",
       "      <td>0</td>\n",
       "      <td>0</td>\n",
       "      <td>0</td>\n",
       "      <td>1</td>\n",
       "      <td>0</td>\n",
       "      <td>1</td>\n",
       "      <td>1</td>\n",
       "    </tr>\n",
       "    <tr>\n",
       "      <th>3</th>\n",
       "      <td>2000</td>\n",
       "      <td>1270</td>\n",
       "      <td>500</td>\n",
       "      <td>500</td>\n",
       "      <td>0</td>\n",
       "      <td>475</td>\n",
       "      <td>8315</td>\n",
       "      <td>1</td>\n",
       "      <td>495706.522160</td>\n",
       "      <td>1</td>\n",
       "      <td>0</td>\n",
       "      <td>0</td>\n",
       "      <td>0</td>\n",
       "      <td>0</td>\n",
       "      <td>0</td>\n",
       "      <td>0</td>\n",
       "      <td>1</td>\n",
       "      <td>3</td>\n",
       "      <td>1</td>\n",
       "    </tr>\n",
       "    <tr>\n",
       "      <th>4</th>\n",
       "      <td>1995</td>\n",
       "      <td>850</td>\n",
       "      <td>500</td>\n",
       "      <td>500</td>\n",
       "      <td>0</td>\n",
       "      <td>475</td>\n",
       "      <td>10350</td>\n",
       "      <td>1</td>\n",
       "      <td>576679.694605</td>\n",
       "      <td>1</td>\n",
       "      <td>0</td>\n",
       "      <td>0</td>\n",
       "      <td>0</td>\n",
       "      <td>0</td>\n",
       "      <td>0</td>\n",
       "      <td>0</td>\n",
       "      <td>1</td>\n",
       "      <td>1</td>\n",
       "      <td>1</td>\n",
       "    </tr>\n",
       "    <tr>\n",
       "      <th>...</th>\n",
       "      <td>...</td>\n",
       "      <td>...</td>\n",
       "      <td>...</td>\n",
       "      <td>...</td>\n",
       "      <td>...</td>\n",
       "      <td>...</td>\n",
       "      <td>...</td>\n",
       "      <td>...</td>\n",
       "      <td>...</td>\n",
       "      <td>...</td>\n",
       "      <td>...</td>\n",
       "      <td>...</td>\n",
       "      <td>...</td>\n",
       "      <td>...</td>\n",
       "      <td>...</td>\n",
       "      <td>...</td>\n",
       "      <td>...</td>\n",
       "      <td>...</td>\n",
       "      <td>...</td>\n",
       "    </tr>\n",
       "    <tr>\n",
       "      <th>2384</th>\n",
       "      <td>2005</td>\n",
       "      <td>2170</td>\n",
       "      <td>1030</td>\n",
       "      <td>0</td>\n",
       "      <td>1030</td>\n",
       "      <td>706</td>\n",
       "      <td>14842</td>\n",
       "      <td>5</td>\n",
       "      <td>773180.319485</td>\n",
       "      <td>0</td>\n",
       "      <td>0</td>\n",
       "      <td>0</td>\n",
       "      <td>0</td>\n",
       "      <td>1</td>\n",
       "      <td>0</td>\n",
       "      <td>0</td>\n",
       "      <td>0</td>\n",
       "      <td>6</td>\n",
       "      <td>1</td>\n",
       "    </tr>\n",
       "    <tr>\n",
       "      <th>2385</th>\n",
       "      <td>2005</td>\n",
       "      <td>2170</td>\n",
       "      <td>1030</td>\n",
       "      <td>0</td>\n",
       "      <td>1030</td>\n",
       "      <td>706</td>\n",
       "      <td>14842</td>\n",
       "      <td>5</td>\n",
       "      <td>765964.675620</td>\n",
       "      <td>0</td>\n",
       "      <td>0</td>\n",
       "      <td>0</td>\n",
       "      <td>0</td>\n",
       "      <td>1</td>\n",
       "      <td>0</td>\n",
       "      <td>0</td>\n",
       "      <td>0</td>\n",
       "      <td>6</td>\n",
       "      <td>1</td>\n",
       "    </tr>\n",
       "    <tr>\n",
       "      <th>2386</th>\n",
       "      <td>2005</td>\n",
       "      <td>2188</td>\n",
       "      <td>1072</td>\n",
       "      <td>965</td>\n",
       "      <td>107</td>\n",
       "      <td>440</td>\n",
       "      <td>12110</td>\n",
       "      <td>5</td>\n",
       "      <td>757164.350655</td>\n",
       "      <td>0</td>\n",
       "      <td>0</td>\n",
       "      <td>0</td>\n",
       "      <td>0</td>\n",
       "      <td>1</td>\n",
       "      <td>0</td>\n",
       "      <td>0</td>\n",
       "      <td>0</td>\n",
       "      <td>4</td>\n",
       "      <td>1</td>\n",
       "    </tr>\n",
       "    <tr>\n",
       "      <th>2387</th>\n",
       "      <td>2004</td>\n",
       "      <td>2450</td>\n",
       "      <td>1254</td>\n",
       "      <td>0</td>\n",
       "      <td>1254</td>\n",
       "      <td>600</td>\n",
       "      <td>13294</td>\n",
       "      <td>5</td>\n",
       "      <td>775666.458287</td>\n",
       "      <td>0</td>\n",
       "      <td>0</td>\n",
       "      <td>0</td>\n",
       "      <td>0</td>\n",
       "      <td>1</td>\n",
       "      <td>0</td>\n",
       "      <td>0</td>\n",
       "      <td>0</td>\n",
       "      <td>5</td>\n",
       "      <td>1</td>\n",
       "    </tr>\n",
       "    <tr>\n",
       "      <th>2388</th>\n",
       "      <td>2003</td>\n",
       "      <td>2170</td>\n",
       "      <td>1030</td>\n",
       "      <td>0</td>\n",
       "      <td>1030</td>\n",
       "      <td>486</td>\n",
       "      <td>12911</td>\n",
       "      <td>5</td>\n",
       "      <td>729660.642766</td>\n",
       "      <td>0</td>\n",
       "      <td>0</td>\n",
       "      <td>0</td>\n",
       "      <td>0</td>\n",
       "      <td>1</td>\n",
       "      <td>0</td>\n",
       "      <td>0</td>\n",
       "      <td>0</td>\n",
       "      <td>4</td>\n",
       "      <td>1</td>\n",
       "    </tr>\n",
       "  </tbody>\n",
       "</table>\n",
       "<p>7080 rows × 19 columns</p>\n",
       "</div>"
      ],
      "text/plain": [
       "      Eff Yr Built  Above Grd SF  Basemt Tot SF  Basemt Fin SF  Basemt Unf SF  \\\n",
       "0             1990          1311              0              0              0   \n",
       "1             2001          1311              0              0              0   \n",
       "2             1980          1380           1050           1050              0   \n",
       "3             2000          1270            500            500              0   \n",
       "4             1995           850            500            500              0   \n",
       "...            ...           ...            ...            ...            ...   \n",
       "2384          2005          2170           1030              0           1030   \n",
       "2385          2005          2170           1030              0           1030   \n",
       "2386          2005          2188           1072            965            107   \n",
       "2387          2004          2450           1254              0           1254   \n",
       "2388          2003          2170           1030              0           1030   \n",
       "\n",
       "      Garage SF  Est Land SF  Market Area  Time Adjust Sales Price  \\\n",
       "0           420        29780            1            581143.136625   \n",
       "1           420        29780            1            652607.758723   \n",
       "2           475        14234            1            553206.861188   \n",
       "3           475         8315            1            495706.522160   \n",
       "4           475        10350            1            576679.694605   \n",
       "...         ...          ...          ...                      ...   \n",
       "2384        706        14842            5            773180.319485   \n",
       "2385        706        14842            5            765964.675620   \n",
       "2386        440        12110            5            757164.350655   \n",
       "2387        600        13294            5            775666.458287   \n",
       "2388        486        12911            5            729660.642766   \n",
       "\n",
       "      Unincorporated  Design_1 Sty Townh  Design_Bi Level  Design_Modular  \\\n",
       "0                  1                   0                0               0   \n",
       "1                  1                   0                0               0   \n",
       "2                  1                   0                0               0   \n",
       "3                  1                   0                0               0   \n",
       "4                  1                   0                0               0   \n",
       "...              ...                 ...              ...             ...   \n",
       "2384               0                   0                0               0   \n",
       "2385               0                   0                0               0   \n",
       "2386               0                   0                0               0   \n",
       "2387               0                   0                0               0   \n",
       "2388               0                   0                0               0   \n",
       "\n",
       "      Design_Multi Sty  Design_Paired  Design_Ranch  Design_Split level  \\\n",
       "0                    0              0             1                   0   \n",
       "1                    0              0             1                   0   \n",
       "2                    0              0             1                   0   \n",
       "3                    0              0             0                   1   \n",
       "4                    0              0             0                   1   \n",
       "...                ...            ...           ...                 ...   \n",
       "2384                 1              0             0                   0   \n",
       "2385                 1              0             0                   0   \n",
       "2386                 1              0             0                   0   \n",
       "2387                 1              0             0                   0   \n",
       "2388                 1              0             0                   0   \n",
       "\n",
       "      Quality_cat  Garage Attached  \n",
       "0               3                1  \n",
       "1               3                1  \n",
       "2               1                1  \n",
       "3               3                1  \n",
       "4               1                1  \n",
       "...           ...              ...  \n",
       "2384            6                1  \n",
       "2385            6                1  \n",
       "2386            4                1  \n",
       "2387            5                1  \n",
       "2388            4                1  \n",
       "\n",
       "[7080 rows x 19 columns]"
      ]
     },
     "execution_count": 38,
     "metadata": {},
     "output_type": "execute_result"
    }
   ],
   "source": [
    "X.drop(['Property Type','Location','Quality', 'Garage Type'], axis=1)"
   ]
  },
  {
   "cell_type": "code",
   "execution_count": 39,
   "id": "ddce44c2",
   "metadata": {},
   "outputs": [
    {
     "data": {
      "text/plain": [
       "Property Type               object\n",
       "Location                    object\n",
       "Quality                     object\n",
       "Eff Yr Built                 int64\n",
       "Above Grd SF                 int64\n",
       "Basemt Tot SF                int64\n",
       "Basemt Fin SF                int64\n",
       "Basemt Unf SF                int64\n",
       "Garage Type                 object\n",
       "Garage SF                    int64\n",
       "Est Land SF                  int64\n",
       "Market Area                  int64\n",
       "Time Adjust Sales Price    float64\n",
       "Unincorporated               int64\n",
       "Design_1 Sty Townh           uint8\n",
       "Design_Bi Level              uint8\n",
       "Design_Modular               uint8\n",
       "Design_Multi Sty             uint8\n",
       "Design_Paired                uint8\n",
       "Design_Ranch                 uint8\n",
       "Design_Split level           uint8\n",
       "Quality_cat                  int64\n",
       "Garage Attached              int64\n",
       "dtype: object"
      ]
     },
     "execution_count": 39,
     "metadata": {},
     "output_type": "execute_result"
    }
   ],
   "source": [
    "X.dtypes"
   ]
  },
  {
   "cell_type": "code",
   "execution_count": 42,
   "id": "c7c9c057",
   "metadata": {},
   "outputs": [],
   "source": [
    "X.to_csv('data/clean_data.csv', index=False)"
   ]
  }
 ],
 "metadata": {
  "kernelspec": {
   "display_name": "Python 3 (ipykernel)",
   "language": "python",
   "name": "python3"
  },
  "language_info": {
   "codemirror_mode": {
    "name": "ipython",
    "version": 3
   },
   "file_extension": ".py",
   "mimetype": "text/x-python",
   "name": "python",
   "nbconvert_exporter": "python",
   "pygments_lexer": "ipython3",
   "version": "3.9.12"
  }
 },
 "nbformat": 4,
 "nbformat_minor": 5
}
