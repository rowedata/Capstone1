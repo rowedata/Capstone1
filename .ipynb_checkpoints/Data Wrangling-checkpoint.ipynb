{
 "cells": [
  {
   "cell_type": "markdown",
   "id": "35c8b602",
   "metadata": {},
   "source": [
    "# Capstone 1. Data Wrangling"
   ]
  },
  {
   "cell_type": "markdown",
   "id": "6583dfaa",
   "metadata": {},
   "source": [
    "## #Current 2021/2022 Tax Years: Residential Sales\n",
    "Base Period Sales from July 1, 2018–June 30, 2020\n",
    "In areas with few sales, the Assessor is allowed to use comparable sales going back up to five years.\n",
    "\n",
    "https://bouldercounty.gov/property-and-land/assessor/sales/comps-2021/residential/\n",
    "\n",
    "### Single Family Residential Properties <br>\n",
    "Sales of single family homes, duplexes, and triplexes.\n",
    "Market Area Maps for Single Family Properties\n",
    "Comparable properties are often found in the same Market Area, which are groups of neighborhoods that have similar trends in the market. Boulder County uses these areas to establish market value for mass appraisal purposes."
   ]
  },
  {
   "cell_type": "markdown",
   "id": "f77aea78",
   "metadata": {},
   "source": [
    "## 1. Data Collection"
   ]
  },
  {
   "cell_type": "markdown",
   "id": "731fc836",
   "metadata": {},
   "source": [
    " #### Load the packages"
   ]
  },
  {
   "cell_type": "code",
   "execution_count": 1,
   "id": "b0de5744",
   "metadata": {},
   "outputs": [],
   "source": [
    "%matplotlib inline\n",
    "import numpy as np\n",
    "import pandas as pd \n",
    "import matplotlib.pyplot as plt\n",
    "import seaborn as sns\n"
   ]
  },
  {
   "cell_type": "markdown",
   "id": "7265f6bb",
   "metadata": {},
   "source": [
    "#### Data Loading "
   ]
  },
  {
   "cell_type": "code",
   "execution_count": 2,
   "id": "efccf101",
   "metadata": {},
   "outputs": [],
   "source": [
    "gunbarrel = pd.read_excel('data/ar-comp-2021-residential-401-sheet.xlsx',sheet_name='2021 Market Area 401' )\n",
    "superior = pd.read_excel('data/ar-comp-2021-residential-402-sheet.xlsx',sheet_name='2021 Market Area 402')\n",
    "louisville = pd.read_excel('data/ar-comp-2021-residential-403-sheet.xlsx',sheet_name='2021 Market Area 403')\n",
    "erie = pd.read_excel('data/ar-comp-2021-residential-404-sheet.xlsx',sheet_name='2021 Market Area 404')\n",
    "lafayette = pd.read_excel('data/ar-comp-2021-residential-405-sheet.xlsx',sheet_name='2021 Market Area 405')\n",
    "boulder1 = pd.read_excel('data/ar-comp-2021-residential-101-sheet.xlsx',sheet_name='2021 Market Area 101')\n",
    "boulder2 = pd.read_excel('data/ar-comp-2021-residential-102-sheet.xlsx',sheet_name='2021 Market Area 102')\n",
    "boulder3 = pd.read_excel('data/ar-comp-2021-residential-103-sheet.xlsx',sheet_name='2021 Market Area 103')\n",
    "boulder4 = pd.read_excel('data/ar-comp-2021-residential-104-sheet.xlsx',sheet_name='2021 Market Area 104')\n",
    "boulder5 = pd.read_excel('data/ar-comp-2021-residential-105-sheet.xlsx',sheet_name='2021 Market Area 105')\n",
    "boulder6 = pd.read_excel('data/ar-comp-2021-residential-106-sheet.xlsx',sheet_name='2021 Market Area 106')\n",
    "boulder7 = pd.read_excel('data/ar-comp-2021-residential-107-sheet.xlsx',sheet_name='2021 Market Area 107')\n",
    "\n",
    "county201 = pd.read_excel('data/ar-comp-2021-residential-201-sheet.xlsx',sheet_name='2021 Market Area 201')\n",
    "county202 = pd.read_excel('data/ar-comp-2021-residential-202-sheet.xlsx',sheet_name='2021 Market Area 202')\n",
    "county301 = pd.read_excel('data/ar-comp-2021-residential-301-sheet.xlsx',sheet_name='2021 Market Area 301')\n",
    "county302 = pd.read_excel('data/ar-comp-2021-residential-302-sheet.xlsx',sheet_name='2021 Market Area 302')\n",
    "county303 = pd.read_excel('data/ar-comp-2021-residential-303-sheet.xlsx',sheet_name='2021 Market Area 303')\n",
    "county304 = pd.read_excel('data/ar-comp-2021-residential-304-sheet.xlsx',sheet_name='2021 Market Area 304')\n",
    "\n",
    "longmont1 = pd.read_excel('data/ar-comp-2021-residential-501-sheet.xlsx',sheet_name='2021 Market Area 501')\n",
    "longmont2 = pd.read_excel('data/ar-comp-2021-residential-502-sheet.xlsx',sheet_name='2021 Market Area 502')\n",
    "longmont3 = pd.read_excel('data/ar-comp-2021-residential-503-sheet.xlsx',sheet_name='2021 Market Area 503')\n",
    "longmont5 = pd.read_excel('data/ar-comp-2021-residential-505-sheet.xlsx',sheet_name='2021 Market Area 505')\n",
    "longmont7 = pd.read_excel('data/ar-comp-2021-residential-507-sheet.xlsx',sheet_name='2021 Market Area 507')\n",
    "\n",
    "#townhomes \n",
    "townhome108 = pd.read_excel('data/ar-comp-2021-residential-108-sheet.xlsx',sheet_name='2021 Market Area 108')\n",
    "townhome109 = pd.read_excel('data/ar-comp-2021-residential-109-sheet.xlsx',sheet_name='2021 Market Area 109')\n",
    "townhome407= pd.read_excel('data/ar-comp-2021-residential-407-sheet.xlsx',sheet_name='2021 Market Area 407')\n",
    "townhome506 = pd.read_excel('data/ar-comp-2021-residential-506-sheet.xlsx',sheet_name='2021 Market Area 506')\n",
    "\n",
    "#condos\n",
    "condo630 = pd.read_excel('data/ar-comp-2021-residential-630-sheet.xlsx',sheet_name='2021 Market Area 630')\n",
    "condo632 =pd.read_excel('data/ar-comp-2021-residential-632-sheet.xlsx',sheet_name='2021 Market Area 632')\n",
    "condo633=pd.read_excel('data/ar-comp-2021-residential-633-sheet.xlsx',sheet_name='2021 Market Area 633')\n",
    "condo634=pd.read_excel('data/ar-comp-2021-residential-634-sheet.xlsx',sheet_name='2021 Market Area 634')"
   ]
  },
  {
   "cell_type": "code",
   "execution_count": 3,
   "id": "c8a8ab0d",
   "metadata": {},
   "outputs": [
    {
     "data": {
      "text/html": [
       "<div>\n",
       "<style scoped>\n",
       "    .dataframe tbody tr th:only-of-type {\n",
       "        vertical-align: middle;\n",
       "    }\n",
       "\n",
       "    .dataframe tbody tr th {\n",
       "        vertical-align: top;\n",
       "    }\n",
       "\n",
       "    .dataframe thead th {\n",
       "        text-align: right;\n",
       "    }\n",
       "</style>\n",
       "<table border=\"1\" class=\"dataframe\">\n",
       "  <thead>\n",
       "    <tr style=\"text-align: right;\">\n",
       "      <th></th>\n",
       "      <th>Accout Number</th>\n",
       "      <th>Property Type</th>\n",
       "      <th>Property Address Street Number</th>\n",
       "      <th>Property Address Street Dir</th>\n",
       "      <th>Property Address Street Name</th>\n",
       "      <th>Property Address Street Suffix</th>\n",
       "      <th>Property Address Unit Number</th>\n",
       "      <th>Location</th>\n",
       "      <th>Design</th>\n",
       "      <th>Quality</th>\n",
       "      <th>...</th>\n",
       "      <th>Basemt Fin SF</th>\n",
       "      <th>Basemt Unf SF</th>\n",
       "      <th>Garage Type</th>\n",
       "      <th>Garage SF</th>\n",
       "      <th>Est Land SF</th>\n",
       "      <th>Reception No</th>\n",
       "      <th>Sale Date (Mon-Yr)</th>\n",
       "      <th>Sale Price</th>\n",
       "      <th>Time Adjust Sales Price</th>\n",
       "      <th>Market Area</th>\n",
       "    </tr>\n",
       "  </thead>\n",
       "  <tbody>\n",
       "    <tr>\n",
       "      <th>0</th>\n",
       "      <td>R0056680</td>\n",
       "      <td>SFR</td>\n",
       "      <td>150</td>\n",
       "      <td>NaN</td>\n",
       "      <td>1ST</td>\n",
       "      <td>AVE</td>\n",
       "      <td>NaN</td>\n",
       "      <td>UNINCORPORATED</td>\n",
       "      <td>Multi Sty</td>\n",
       "      <td>Avg +</td>\n",
       "      <td>...</td>\n",
       "      <td>0</td>\n",
       "      <td>0</td>\n",
       "      <td>Detached</td>\n",
       "      <td>360</td>\n",
       "      <td>8294.0</td>\n",
       "      <td>3575259</td>\n",
       "      <td>2017-02-14</td>\n",
       "      <td>717000</td>\n",
       "      <td>8.401280e+05</td>\n",
       "      <td>501</td>\n",
       "    </tr>\n",
       "    <tr>\n",
       "      <th>1</th>\n",
       "      <td>R0056724</td>\n",
       "      <td>SFR</td>\n",
       "      <td>260</td>\n",
       "      <td>NaN</td>\n",
       "      <td>3RD</td>\n",
       "      <td>AVE</td>\n",
       "      <td>NaN</td>\n",
       "      <td>UNINCORPORATED</td>\n",
       "      <td>Ranch</td>\n",
       "      <td>Avg</td>\n",
       "      <td>...</td>\n",
       "      <td>0</td>\n",
       "      <td>0</td>\n",
       "      <td>Detached</td>\n",
       "      <td>420</td>\n",
       "      <td>7000.0</td>\n",
       "      <td>3468682</td>\n",
       "      <td>2015-08-21</td>\n",
       "      <td>442000</td>\n",
       "      <td>5.754425e+05</td>\n",
       "      <td>501</td>\n",
       "    </tr>\n",
       "    <tr>\n",
       "      <th>2</th>\n",
       "      <td>R0056788</td>\n",
       "      <td>SFR</td>\n",
       "      <td>335</td>\n",
       "      <td>NaN</td>\n",
       "      <td>3RD</td>\n",
       "      <td>AVE</td>\n",
       "      <td>NaN</td>\n",
       "      <td>UNINCORPORATED</td>\n",
       "      <td>Multi Sty</td>\n",
       "      <td>Avg</td>\n",
       "      <td>...</td>\n",
       "      <td>0</td>\n",
       "      <td>0</td>\n",
       "      <td>Attached</td>\n",
       "      <td>576</td>\n",
       "      <td>14000.0</td>\n",
       "      <td>3803766</td>\n",
       "      <td>2020-07-31</td>\n",
       "      <td>717300</td>\n",
       "      <td>7.173000e+05</td>\n",
       "      <td>501</td>\n",
       "    </tr>\n",
       "    <tr>\n",
       "      <th>3</th>\n",
       "      <td>R0056611</td>\n",
       "      <td>SFR</td>\n",
       "      <td>377</td>\n",
       "      <td>NaN</td>\n",
       "      <td>3RD</td>\n",
       "      <td>AVE</td>\n",
       "      <td>NaN</td>\n",
       "      <td>UNINCORPORATED</td>\n",
       "      <td>Multi Sty</td>\n",
       "      <td>Avg</td>\n",
       "      <td>...</td>\n",
       "      <td>0</td>\n",
       "      <td>0</td>\n",
       "      <td>Attached</td>\n",
       "      <td>504</td>\n",
       "      <td>12740.0</td>\n",
       "      <td>3614381</td>\n",
       "      <td>2017-09-06</td>\n",
       "      <td>475000</td>\n",
       "      <td>5.342283e+05</td>\n",
       "      <td>501</td>\n",
       "    </tr>\n",
       "    <tr>\n",
       "      <th>4</th>\n",
       "      <td>R0056611</td>\n",
       "      <td>SFR</td>\n",
       "      <td>377</td>\n",
       "      <td>NaN</td>\n",
       "      <td>3RD</td>\n",
       "      <td>AVE</td>\n",
       "      <td>NaN</td>\n",
       "      <td>UNINCORPORATED</td>\n",
       "      <td>Multi Sty</td>\n",
       "      <td>Avg</td>\n",
       "      <td>...</td>\n",
       "      <td>0</td>\n",
       "      <td>0</td>\n",
       "      <td>Attached</td>\n",
       "      <td>504</td>\n",
       "      <td>12740.0</td>\n",
       "      <td>3739871</td>\n",
       "      <td>2019-09-05</td>\n",
       "      <td>660500</td>\n",
       "      <td>6.800727e+05</td>\n",
       "      <td>501</td>\n",
       "    </tr>\n",
       "    <tr>\n",
       "      <th>...</th>\n",
       "      <td>...</td>\n",
       "      <td>...</td>\n",
       "      <td>...</td>\n",
       "      <td>...</td>\n",
       "      <td>...</td>\n",
       "      <td>...</td>\n",
       "      <td>...</td>\n",
       "      <td>...</td>\n",
       "      <td>...</td>\n",
       "      <td>...</td>\n",
       "      <td>...</td>\n",
       "      <td>...</td>\n",
       "      <td>...</td>\n",
       "      <td>...</td>\n",
       "      <td>...</td>\n",
       "      <td>...</td>\n",
       "      <td>...</td>\n",
       "      <td>...</td>\n",
       "      <td>...</td>\n",
       "      <td>...</td>\n",
       "      <td>...</td>\n",
       "    </tr>\n",
       "    <tr>\n",
       "      <th>380</th>\n",
       "      <td>R0113718</td>\n",
       "      <td>SFR</td>\n",
       "      <td>7911</td>\n",
       "      <td>NaN</td>\n",
       "      <td>WELLSHIRE</td>\n",
       "      <td>CT</td>\n",
       "      <td>NaN</td>\n",
       "      <td>UNINCORPORATED</td>\n",
       "      <td>Multi Sty</td>\n",
       "      <td>Good</td>\n",
       "      <td>...</td>\n",
       "      <td>1032</td>\n",
       "      <td>0</td>\n",
       "      <td>Attached</td>\n",
       "      <td>706</td>\n",
       "      <td>9072.0</td>\n",
       "      <td>3540391</td>\n",
       "      <td>2016-08-30</td>\n",
       "      <td>685000</td>\n",
       "      <td>8.313196e+05</td>\n",
       "      <td>501</td>\n",
       "    </tr>\n",
       "    <tr>\n",
       "      <th>381</th>\n",
       "      <td>R0113719</td>\n",
       "      <td>SFR</td>\n",
       "      <td>7917</td>\n",
       "      <td>NaN</td>\n",
       "      <td>WELLSHIRE</td>\n",
       "      <td>CT</td>\n",
       "      <td>NaN</td>\n",
       "      <td>UNINCORPORATED</td>\n",
       "      <td>Multi Sty</td>\n",
       "      <td>Avg ++</td>\n",
       "      <td>...</td>\n",
       "      <td>350</td>\n",
       "      <td>800</td>\n",
       "      <td>Attached</td>\n",
       "      <td>576</td>\n",
       "      <td>10176.0</td>\n",
       "      <td>3640069</td>\n",
       "      <td>2018-02-08</td>\n",
       "      <td>710000</td>\n",
       "      <td>7.775263e+05</td>\n",
       "      <td>501</td>\n",
       "    </tr>\n",
       "    <tr>\n",
       "      <th>382</th>\n",
       "      <td>R0507932</td>\n",
       "      <td>SFR</td>\n",
       "      <td>7455</td>\n",
       "      <td>NaN</td>\n",
       "      <td>WHIRLAWAY</td>\n",
       "      <td>LN</td>\n",
       "      <td>NaN</td>\n",
       "      <td>UNINCORPORATED</td>\n",
       "      <td>Ranch</td>\n",
       "      <td>V Good</td>\n",
       "      <td>...</td>\n",
       "      <td>1424</td>\n",
       "      <td>845</td>\n",
       "      <td>Attached</td>\n",
       "      <td>972</td>\n",
       "      <td>20996.0</td>\n",
       "      <td>3515798</td>\n",
       "      <td>2016-04-29</td>\n",
       "      <td>795000</td>\n",
       "      <td>9.876703e+05</td>\n",
       "      <td>501</td>\n",
       "    </tr>\n",
       "    <tr>\n",
       "      <th>383</th>\n",
       "      <td>R0106778</td>\n",
       "      <td>SFR</td>\n",
       "      <td>8217</td>\n",
       "      <td>NaN</td>\n",
       "      <td>WILLOW</td>\n",
       "      <td>LN</td>\n",
       "      <td>NaN</td>\n",
       "      <td>UNINCORPORATED</td>\n",
       "      <td>Multi Sty</td>\n",
       "      <td>V Good</td>\n",
       "      <td>...</td>\n",
       "      <td>1040</td>\n",
       "      <td>538</td>\n",
       "      <td>Multiple</td>\n",
       "      <td>1,167</td>\n",
       "      <td>31790.0</td>\n",
       "      <td>3503722</td>\n",
       "      <td>2016-02-22</td>\n",
       "      <td>824105</td>\n",
       "      <td>1.035884e+06</td>\n",
       "      <td>501</td>\n",
       "    </tr>\n",
       "    <tr>\n",
       "      <th>384</th>\n",
       "      <td>R0106779</td>\n",
       "      <td>SFR</td>\n",
       "      <td>8239</td>\n",
       "      <td>NaN</td>\n",
       "      <td>WILLOW</td>\n",
       "      <td>LN</td>\n",
       "      <td>NaN</td>\n",
       "      <td>UNINCORPORATED</td>\n",
       "      <td>Multi Sty</td>\n",
       "      <td>V Good</td>\n",
       "      <td>...</td>\n",
       "      <td>1531</td>\n",
       "      <td>270</td>\n",
       "      <td>Attached</td>\n",
       "      <td>741</td>\n",
       "      <td>21831.0</td>\n",
       "      <td>3659987</td>\n",
       "      <td>2018-06-08</td>\n",
       "      <td>1075000</td>\n",
       "      <td>1.162060e+06</td>\n",
       "      <td>501</td>\n",
       "    </tr>\n",
       "  </tbody>\n",
       "</table>\n",
       "<p>385 rows × 23 columns</p>\n",
       "</div>"
      ],
      "text/plain": [
       "    Accout Number Property Type  Property Address Street Number  \\\n",
       "0        R0056680           SFR                             150   \n",
       "1        R0056724           SFR                             260   \n",
       "2        R0056788           SFR                             335   \n",
       "3        R0056611           SFR                             377   \n",
       "4        R0056611           SFR                             377   \n",
       "..            ...           ...                             ...   \n",
       "380      R0113718           SFR                            7911   \n",
       "381      R0113719           SFR                            7917   \n",
       "382      R0507932           SFR                            7455   \n",
       "383      R0106778           SFR                            8217   \n",
       "384      R0106779           SFR                            8239   \n",
       "\n",
       "    Property Address Street Dir Property Address Street Name  \\\n",
       "0                           NaN                          1ST   \n",
       "1                           NaN                          3RD   \n",
       "2                           NaN                          3RD   \n",
       "3                           NaN                          3RD   \n",
       "4                           NaN                          3RD   \n",
       "..                          ...                          ...   \n",
       "380                         NaN                    WELLSHIRE   \n",
       "381                         NaN                    WELLSHIRE   \n",
       "382                         NaN                    WHIRLAWAY   \n",
       "383                         NaN                       WILLOW   \n",
       "384                         NaN                       WILLOW   \n",
       "\n",
       "    Property Address Street Suffix  Property Address Unit Number  \\\n",
       "0                              AVE                           NaN   \n",
       "1                              AVE                           NaN   \n",
       "2                              AVE                           NaN   \n",
       "3                              AVE                           NaN   \n",
       "4                              AVE                           NaN   \n",
       "..                             ...                           ...   \n",
       "380                             CT                           NaN   \n",
       "381                             CT                           NaN   \n",
       "382                             LN                           NaN   \n",
       "383                             LN                           NaN   \n",
       "384                             LN                           NaN   \n",
       "\n",
       "           Location     Design Quality  ...  Basemt Fin SF  Basemt Unf SF  \\\n",
       "0    UNINCORPORATED  Multi Sty   Avg +  ...              0              0   \n",
       "1    UNINCORPORATED      Ranch     Avg  ...              0              0   \n",
       "2    UNINCORPORATED  Multi Sty     Avg  ...              0              0   \n",
       "3    UNINCORPORATED  Multi Sty     Avg  ...              0              0   \n",
       "4    UNINCORPORATED  Multi Sty     Avg  ...              0              0   \n",
       "..              ...        ...     ...  ...            ...            ...   \n",
       "380  UNINCORPORATED  Multi Sty    Good  ...           1032              0   \n",
       "381  UNINCORPORATED  Multi Sty  Avg ++  ...            350            800   \n",
       "382  UNINCORPORATED      Ranch  V Good  ...           1424            845   \n",
       "383  UNINCORPORATED  Multi Sty  V Good  ...           1040            538   \n",
       "384  UNINCORPORATED  Multi Sty  V Good  ...           1531            270   \n",
       "\n",
       "     Garage Type  Garage SF  Est Land SF Reception No Sale Date (Mon-Yr)  \\\n",
       "0       Detached        360       8294.0      3575259         2017-02-14   \n",
       "1       Detached        420       7000.0      3468682         2015-08-21   \n",
       "2       Attached        576      14000.0      3803766         2020-07-31   \n",
       "3       Attached        504      12740.0      3614381         2017-09-06   \n",
       "4       Attached        504      12740.0      3739871         2019-09-05   \n",
       "..           ...        ...          ...          ...                ...   \n",
       "380     Attached        706       9072.0      3540391         2016-08-30   \n",
       "381     Attached        576      10176.0      3640069         2018-02-08   \n",
       "382     Attached        972      20996.0      3515798         2016-04-29   \n",
       "383     Multiple      1,167      31790.0      3503722         2016-02-22   \n",
       "384     Attached        741      21831.0      3659987         2018-06-08   \n",
       "\n",
       "     Sale Price  Time Adjust Sales Price Market Area  \n",
       "0        717000             8.401280e+05         501  \n",
       "1        442000             5.754425e+05         501  \n",
       "2        717300             7.173000e+05         501  \n",
       "3        475000             5.342283e+05         501  \n",
       "4        660500             6.800727e+05         501  \n",
       "..          ...                      ...         ...  \n",
       "380      685000             8.313196e+05         501  \n",
       "381      710000             7.775263e+05         501  \n",
       "382      795000             9.876703e+05         501  \n",
       "383      824105             1.035884e+06         501  \n",
       "384     1075000             1.162060e+06         501  \n",
       "\n",
       "[385 rows x 23 columns]"
      ]
     },
     "execution_count": 3,
     "metadata": {},
     "output_type": "execute_result"
    }
   ],
   "source": [
    "longmont1"
   ]
  },
  {
   "cell_type": "code",
   "execution_count": 4,
   "id": "91e68d40",
   "metadata": {},
   "outputs": [
    {
     "name": "stdout",
     "output_type": "stream",
     "text": [
      "Number of propeties in each market area: \n",
      "Lafayette etc.  706 817 1321 1847 2389\n",
      "Boulder: 518 628 622 298 559 548 454\n",
      "Longmont 385 3500 1443 92 2874\n",
      "Townhomes 401 203 1127 861\n",
      "Condos 2711 1383 1133 27\n"
     ]
    }
   ],
   "source": [
    "print(\"Number of propeties in each market area: \")\n",
    "print(\"Lafayette etc. \", gunbarrel.shape[0], superior.shape[0], louisville.shape[0], erie.shape[0], lafayette.shape[0])\n",
    "print(\"Boulder:\", boulder1.shape[0], boulder2.shape[0], boulder3.shape[0], boulder4.shape[0], boulder5.shape[0], boulder6.shape[0], boulder7.shape[0])\n",
    "print(\"Longmont\",longmont1.shape[0], longmont2.shape[0], longmont3.shape[0], longmont5.shape[0], longmont7.shape[0])\n",
    "print(\"Townhomes\", townhome108.shape[0], townhome109.shape[0], townhome407.shape[0], townhome506.shape[0])\n",
    "print(\"Condos\", condo630.shape[0], condo632.shape[0], condo633.shape[0], condo634.shape[0])\n"
   ]
  },
  {
   "cell_type": "markdown",
   "id": "a895eb64",
   "metadata": {},
   "source": [
    "#### Data joining"
   ]
  },
  {
   "cell_type": "code",
   "execution_count": 5,
   "id": "c0d90045",
   "metadata": {},
   "outputs": [
    {
     "data": {
      "text/plain": [
       "(26847, 23)"
      ]
     },
     "execution_count": 5,
     "metadata": {},
     "output_type": "execute_result"
    }
   ],
   "source": [
    "df = pd.concat([gunbarrel, superior, louisville, erie, lafayette, boulder1,\n",
    "      boulder2, boulder3, boulder4, boulder5, boulder6, boulder7, longmont1, longmont2, longmont3, longmont5, longmont7,\n",
    "               townhome108, townhome109, townhome407, townhome506, condo630, condo632, condo633,condo634])\n",
    "df.shape"
   ]
  },
  {
   "cell_type": "markdown",
   "id": "4543e01a",
   "metadata": {},
   "source": [
    "## Data definition"
   ]
  },
  {
   "cell_type": "code",
   "execution_count": 233,
   "id": "ba06b059",
   "metadata": {},
   "outputs": [
    {
     "data": {
      "text/plain": [
       "Index(['Accout Number', 'Property Type', 'Property Address Street Number',\n",
       "       'Property Address Street Dir', 'Property Address Street Name',\n",
       "       'Property Address Street Suffix', 'Property Address Unit Number',\n",
       "       'Location', 'Design', 'Quality', 'Eff Yr Built', 'Above Grd SF',\n",
       "       'Basemt Tot SF', 'Basemt Fin SF', 'Basemt Unf SF', 'Garage Type',\n",
       "       'Garage SF', 'Est Land SF', 'Reception No', 'Sale Date (Mon-Yr)',\n",
       "       'Sale Price', 'Time Adjust Sales Price', 'Market Area'],\n",
       "      dtype='object')"
      ]
     },
     "execution_count": 233,
     "metadata": {},
     "output_type": "execute_result"
    }
   ],
   "source": [
    "df.columns"
   ]
  },
  {
   "cell_type": "code",
   "execution_count": 234,
   "id": "9084415e",
   "metadata": {},
   "outputs": [],
   "source": [
    "X = df\n",
    "X.reset_index(inplace=True, drop=True)"
   ]
  },
  {
   "cell_type": "markdown",
   "id": "edec30fe",
   "metadata": {},
   "source": [
    "We remove fields 'Reception No', 'Sale Date (Mon-Yr)','Sale Price', 'Time Adjust Sales Price' to be used as a response variable. Need to figure out whether to use time adjusted or actual sale price. <br>\n",
    "\n",
    "We also remove street address fields for now: <br>\n",
    "       'Accout Number', 'Property Address Street Number',<br>\n",
    "       'Property Address Street Dir', 'Property Address Street Name',<br>\n",
    "       'Property Address Street Suffix', 'Property Address Unit Number', but keep the 'Property Type' in case we add condos/apartments. "
   ]
  },
  {
   "cell_type": "code",
   "execution_count": 235,
   "id": "67d33dff",
   "metadata": {},
   "outputs": [],
   "source": [
    "Y= df.loc[:,'Time Adjust Sales Price']"
   ]
  },
  {
   "cell_type": "code",
   "execution_count": 236,
   "id": "b008e647",
   "metadata": {},
   "outputs": [
    {
     "data": {
      "text/plain": [
       "0        581143.136625\n",
       "1        652607.758723\n",
       "2        553206.861188\n",
       "3        495706.522160\n",
       "4        576679.694605\n",
       "             ...      \n",
       "26842    461577.800000\n",
       "26843    469010.140928\n",
       "26844    386842.142077\n",
       "26845    405727.210397\n",
       "26846    438185.387229\n",
       "Name: Time Adjust Sales Price, Length: 26847, dtype: float64"
      ]
     },
     "execution_count": 236,
     "metadata": {},
     "output_type": "execute_result"
    }
   ],
   "source": [
    "Y\n"
   ]
  },
  {
   "cell_type": "markdown",
   "id": "be40ec07",
   "metadata": {},
   "source": [
    "This is our current response variable, need to determine whether to use it or some actual sale price or anything else. The sales are float 64."
   ]
  },
  {
   "cell_type": "code",
   "execution_count": 237,
   "id": "03f1fe4a",
   "metadata": {},
   "outputs": [
    {
     "data": {
      "text/plain": [
       "<AxesSubplot:xlabel='count', ylabel='Design'>"
      ]
     },
     "execution_count": 237,
     "metadata": {},
     "output_type": "execute_result"
    },
    {
     "data": {
      "image/png": "[encoded data removed]",
      "text/plain": [
       "<Figure size 432x288 with 1 Axes>"
      ]
     },
     "metadata": {
      "needs_background": "light"
     },
     "output_type": "display_data"
    }
   ],
   "source": [
    "sns.countplot(y=X['Design'])"
   ]
  },
  {
   "cell_type": "code",
   "execution_count": 238,
   "id": "d9a907b9",
   "metadata": {},
   "outputs": [
    {
     "data": {
      "text/plain": [
       "<AxesSubplot:xlabel='count', ylabel='Quality'>"
      ]
     },
     "execution_count": 238,
     "metadata": {},
     "output_type": "execute_result"
    },
    {
     "data": {
      "image/png": "[encoded data removed]",
      "text/plain": [
       "<Figure size 432x288 with 1 Axes>"
      ]
     },
     "metadata": {
      "needs_background": "light"
     },
     "output_type": "display_data"
    }
   ],
   "source": [
    "sns.countplot(y=X['Quality'])"
   ]
  },
  {
   "cell_type": "code",
   "execution_count": 239,
   "id": "2cfeb2c0",
   "metadata": {},
   "outputs": [
    {
     "data": {
      "text/plain": [
       "<AxesSubplot:xlabel='count', ylabel='Market Area'>"
      ]
     },
     "execution_count": 239,
     "metadata": {},
     "output_type": "execute_result"
    },
    {
     "data": {
      "image/png": "[encoded data removed]",
      "text/plain": [
       "<Figure size 432x288 with 1 Axes>"
      ]
     },
     "metadata": {
      "needs_background": "light"
     },
     "output_type": "display_data"
    }
   ],
   "source": [
    "sns.countplot(y=X['Market Area'])"
   ]
  },
  {
   "cell_type": "code",
   "execution_count": 240,
   "id": "a182c7be",
   "metadata": {},
   "outputs": [
    {
     "data": {
      "text/plain": [
       "<AxesSubplot:xlabel='count', ylabel='Location'>"
      ]
     },
     "execution_count": 240,
     "metadata": {},
     "output_type": "execute_result"
    },
    {
     "data": {
      "image/png": "[encoded data removed]",
      "text/plain": [
       "<Figure size 432x288 with 1 Axes>"
      ]
     },
     "metadata": {
      "needs_background": "light"
     },
     "output_type": "display_data"
    }
   ],
   "source": [
    "sns.countplot(y=X['Location'])"
   ]
  },
  {
   "cell_type": "markdown",
   "id": "ee31dd01",
   "metadata": {},
   "source": [
    "Let's expore if we have any missing data"
   ]
  },
  {
   "cell_type": "code",
   "execution_count": 241,
   "id": "5d5df990",
   "metadata": {},
   "outputs": [
    {
     "name": "stdout",
     "output_type": "stream",
     "text": [
      "(11,)\n"
     ]
    },
    {
     "data": {
      "text/plain": [
       "<AxesSubplot:>"
      ]
     },
     "execution_count": 241,
     "metadata": {},
     "output_type": "execute_result"
    },
    {
     "data": {
      "image/png": "[encoded data removed]",
      "text/plain": [
       "<Figure size 432x288 with 1 Axes>"
      ]
     },
     "metadata": {
      "needs_background": "light"
     },
     "output_type": "display_data"
    }
   ],
   "source": [
    "missing = X.isnull().sum()\n",
    "missing = missing[missing > 0]\n",
    "print(missing.shape)\n",
    "missing.sort_values(inplace=True)\n",
    "missing.plot.bar()"
   ]
  },
  {
   "cell_type": "markdown",
   "id": "c05d9a16",
   "metadata": {},
   "source": [
    "We have some missing data, which is not actually missing, but those fields are not available for each property, and we will drop this information before analysis, so we can keep all the observations."
   ]
  },
  {
   "cell_type": "markdown",
   "id": "e1cfe3d1",
   "metadata": {},
   "source": [
    "\n",
    "#### 1. Change 'Garage SF' to an int\n",
    "\n",
    "#### 2. We want to recode location, design, quality, garage type  as categorical variables things like "
   ]
  },
  {
   "cell_type": "code",
   "execution_count": 244,
   "id": "41daac25",
   "metadata": {},
   "outputs": [],
   "source": [
    "X.loc[X['Garage SF']==\"\", \"Garage SF\"]= 0"
   ]
  },
  {
   "cell_type": "code",
   "execution_count": 254,
   "id": "52bdaffe",
   "metadata": {},
   "outputs": [
    {
     "name": "stderr",
     "output_type": "stream",
     "text": [
      "/var/folders/93/rlhghy792jqb_shw4fl2xbn80000gn/T/ipykernel_926/3273730357.py:1: FutureWarning: The default value of regex will change from True to False in a future version.\n",
      "  X['Garage SF'] = X['Garage SF'].astype(str).str.replace(r'\\D+', '').astype(int)\n"
     ]
    }
   ],
   "source": [
    "X['Garage SF'] = X['Garage SF'].astype(str).str.replace(r'\\D+', '').astype(int)"
   ]
  },
  {
   "cell_type": "code",
   "execution_count": 246,
   "id": "53277534",
   "metadata": {},
   "outputs": [
    {
     "data": {
      "text/html": [
       "<div>\n",
       "<style scoped>\n",
       "    .dataframe tbody tr th:only-of-type {\n",
       "        vertical-align: middle;\n",
       "    }\n",
       "\n",
       "    .dataframe tbody tr th {\n",
       "        vertical-align: top;\n",
       "    }\n",
       "\n",
       "    .dataframe thead th {\n",
       "        text-align: right;\n",
       "    }\n",
       "</style>\n",
       "<table border=\"1\" class=\"dataframe\">\n",
       "  <thead>\n",
       "    <tr style=\"text-align: right;\">\n",
       "      <th></th>\n",
       "      <th>Accout Number</th>\n",
       "      <th>Property Type</th>\n",
       "      <th>Property Address Street Number</th>\n",
       "      <th>Property Address Street Dir</th>\n",
       "      <th>Property Address Street Name</th>\n",
       "      <th>Property Address Street Suffix</th>\n",
       "      <th>Property Address Unit Number</th>\n",
       "      <th>Location</th>\n",
       "      <th>Design</th>\n",
       "      <th>Quality</th>\n",
       "      <th>...</th>\n",
       "      <th>Basemt Fin SF</th>\n",
       "      <th>Basemt Unf SF</th>\n",
       "      <th>Garage Type</th>\n",
       "      <th>Garage SF</th>\n",
       "      <th>Est Land SF</th>\n",
       "      <th>Reception No</th>\n",
       "      <th>Sale Date (Mon-Yr)</th>\n",
       "      <th>Sale Price</th>\n",
       "      <th>Time Adjust Sales Price</th>\n",
       "      <th>Market Area</th>\n",
       "    </tr>\n",
       "  </thead>\n",
       "  <tbody>\n",
       "  </tbody>\n",
       "</table>\n",
       "<p>0 rows × 23 columns</p>\n",
       "</div>"
      ],
      "text/plain": [
       "Empty DataFrame\n",
       "Columns: [Accout Number, Property Type, Property Address Street Number, Property Address Street Dir, Property Address Street Name, Property Address Street Suffix, Property Address Unit Number, Location, Design, Quality, Eff Yr Built, Above Grd SF, Basemt Tot SF, Basemt Fin SF, Basemt Unf SF, Garage Type, Garage SF, Est Land SF, Reception No, Sale Date (Mon-Yr), Sale Price, Time Adjust Sales Price, Market Area]\n",
       "Index: []\n",
       "\n",
       "[0 rows x 23 columns]"
      ]
     },
     "execution_count": 246,
     "metadata": {},
     "output_type": "execute_result"
    }
   ],
   "source": [
    " X[X['Basemt Tot SF']==\"\"]"
   ]
  },
  {
   "cell_type": "code",
   "execution_count": 247,
   "id": "cbc8118d",
   "metadata": {},
   "outputs": [
    {
     "data": {
      "text/html": [
       "<div>\n",
       "<style scoped>\n",
       "    .dataframe tbody tr th:only-of-type {\n",
       "        vertical-align: middle;\n",
       "    }\n",
       "\n",
       "    .dataframe tbody tr th {\n",
       "        vertical-align: top;\n",
       "    }\n",
       "\n",
       "    .dataframe thead th {\n",
       "        text-align: right;\n",
       "    }\n",
       "</style>\n",
       "<table border=\"1\" class=\"dataframe\">\n",
       "  <thead>\n",
       "    <tr style=\"text-align: right;\">\n",
       "      <th></th>\n",
       "      <th>Accout Number</th>\n",
       "      <th>Property Type</th>\n",
       "      <th>Property Address Street Number</th>\n",
       "      <th>Property Address Street Dir</th>\n",
       "      <th>Property Address Street Name</th>\n",
       "      <th>Property Address Street Suffix</th>\n",
       "      <th>Property Address Unit Number</th>\n",
       "      <th>Location</th>\n",
       "      <th>Design</th>\n",
       "      <th>Quality</th>\n",
       "      <th>...</th>\n",
       "      <th>Basemt Fin SF</th>\n",
       "      <th>Basemt Unf SF</th>\n",
       "      <th>Garage Type</th>\n",
       "      <th>Garage SF</th>\n",
       "      <th>Est Land SF</th>\n",
       "      <th>Reception No</th>\n",
       "      <th>Sale Date (Mon-Yr)</th>\n",
       "      <th>Sale Price</th>\n",
       "      <th>Time Adjust Sales Price</th>\n",
       "      <th>Market Area</th>\n",
       "    </tr>\n",
       "  </thead>\n",
       "  <tbody>\n",
       "    <tr>\n",
       "      <th>21831</th>\n",
       "      <td>R0611020</td>\n",
       "      <td>RCON</td>\n",
       "      <td>2793</td>\n",
       "      <td>NaN</td>\n",
       "      <td>32ND</td>\n",
       "      <td>ST</td>\n",
       "      <td>NaN</td>\n",
       "      <td>BOULDER</td>\n",
       "      <td>Multi Sty Condo</td>\n",
       "      <td>Good</td>\n",
       "      <td>...</td>\n",
       "      <td>NaN</td>\n",
       "      <td>NaN</td>\n",
       "      <td>None</td>\n",
       "      <td>NaN</td>\n",
       "      <td>0.0</td>\n",
       "      <td>3719417</td>\n",
       "      <td>2019-06-19</td>\n",
       "      <td>812700</td>\n",
       "      <td>822210.45972</td>\n",
       "      <td>630</td>\n",
       "    </tr>\n",
       "  </tbody>\n",
       "</table>\n",
       "<p>1 rows × 23 columns</p>\n",
       "</div>"
      ],
      "text/plain": [
       "      Accout Number Property Type  Property Address Street Number  \\\n",
       "21831      R0611020          RCON                            2793   \n",
       "\n",
       "      Property Address Street Dir Property Address Street Name  \\\n",
       "21831                         NaN                         32ND   \n",
       "\n",
       "      Property Address Street Suffix Property Address Unit Number Location  \\\n",
       "21831                             ST                          NaN  BOULDER   \n",
       "\n",
       "                Design Quality  ...  Basemt Fin SF  Basemt Unf SF Garage Type  \\\n",
       "21831  Multi Sty Condo    Good  ...            NaN            NaN        None   \n",
       "\n",
       "       Garage SF  Est Land SF Reception No Sale Date (Mon-Yr)  Sale Price  \\\n",
       "21831        NaN          0.0      3719417         2019-06-19      812700   \n",
       "\n",
       "      Time Adjust Sales Price Market Area  \n",
       "21831            822210.45972         630  \n",
       "\n",
       "[1 rows x 23 columns]"
      ]
     },
     "execution_count": 247,
     "metadata": {},
     "output_type": "execute_result"
    }
   ],
   "source": [
    "X[X['Above Grd SF'].isna()]"
   ]
  },
  {
   "cell_type": "code",
   "execution_count": 248,
   "id": "e207e203",
   "metadata": {},
   "outputs": [
    {
     "name": "stdout",
     "output_type": "stream",
     "text": [
      "(26847, 23)\n"
     ]
    },
    {
     "data": {
      "text/plain": [
       "(26846, 23)"
      ]
     },
     "execution_count": 248,
     "metadata": {},
     "output_type": "execute_result"
    }
   ],
   "source": [
    "print(X.shape)\n",
    "X.drop([21831], inplace=True)\n",
    "X.shape\n"
   ]
  },
  {
   "cell_type": "code",
   "execution_count": 249,
   "id": "1d77bca7",
   "metadata": {},
   "outputs": [
    {
     "name": "stderr",
     "output_type": "stream",
     "text": [
      "/var/folders/93/rlhghy792jqb_shw4fl2xbn80000gn/T/ipykernel_926/2415359084.py:1: FutureWarning: The default value of regex will change from True to False in a future version.\n",
      "  X['Basemt Tot SF'] = X['Basemt Tot SF'].astype(str).str.replace(r'\\D+', '').astype(int)\n"
     ]
    }
   ],
   "source": [
    "X['Basemt Tot SF'] = X['Basemt Tot SF'].astype(str).str.replace(r'\\D+', '').astype(int)"
   ]
  },
  {
   "cell_type": "code",
   "execution_count": 255,
   "id": "6e263e51",
   "metadata": {},
   "outputs": [
    {
     "data": {
      "text/plain": [
       "Accout Number                         0\n",
       "Property Type                         0\n",
       "Property Address Street Number        0\n",
       "Property Address Street Dir       24934\n",
       "Property Address Street Name          0\n",
       "Property Address Street Suffix      231\n",
       "Property Address Unit Number      21727\n",
       "Location                              0\n",
       "Design                                0\n",
       "Quality                               0\n",
       "Eff Yr Built                          0\n",
       "Above Grd SF                          0\n",
       "Basemt Tot SF                         0\n",
       "Basemt Fin SF                         0\n",
       "Basemt Unf SF                         0\n",
       "Garage Type                           0\n",
       "Garage SF                             0\n",
       "Est Land SF                           0\n",
       "Reception No                          0\n",
       "Sale Date (Mon-Yr)                    0\n",
       "Sale Price                            0\n",
       "Time Adjust Sales Price               0\n",
       "Market Area                           0\n",
       "dtype: int64"
      ]
     },
     "execution_count": 255,
     "metadata": {},
     "output_type": "execute_result"
    }
   ],
   "source": [
    "X.isna().sum()"
   ]
  },
  {
   "cell_type": "code",
   "execution_count": 251,
   "id": "7268018a",
   "metadata": {},
   "outputs": [
    {
     "data": {
      "text/html": [
       "<div>\n",
       "<style scoped>\n",
       "    .dataframe tbody tr th:only-of-type {\n",
       "        vertical-align: middle;\n",
       "    }\n",
       "\n",
       "    .dataframe tbody tr th {\n",
       "        vertical-align: top;\n",
       "    }\n",
       "\n",
       "    .dataframe thead th {\n",
       "        text-align: right;\n",
       "    }\n",
       "</style>\n",
       "<table border=\"1\" class=\"dataframe\">\n",
       "  <thead>\n",
       "    <tr style=\"text-align: right;\">\n",
       "      <th></th>\n",
       "      <th>Accout Number</th>\n",
       "      <th>Property Type</th>\n",
       "      <th>Property Address Street Number</th>\n",
       "      <th>Property Address Street Dir</th>\n",
       "      <th>Property Address Street Name</th>\n",
       "      <th>Property Address Street Suffix</th>\n",
       "      <th>Property Address Unit Number</th>\n",
       "      <th>Location</th>\n",
       "      <th>Design</th>\n",
       "      <th>Quality</th>\n",
       "      <th>...</th>\n",
       "      <th>Basemt Fin SF</th>\n",
       "      <th>Basemt Unf SF</th>\n",
       "      <th>Garage Type</th>\n",
       "      <th>Garage SF</th>\n",
       "      <th>Est Land SF</th>\n",
       "      <th>Reception No</th>\n",
       "      <th>Sale Date (Mon-Yr)</th>\n",
       "      <th>Sale Price</th>\n",
       "      <th>Time Adjust Sales Price</th>\n",
       "      <th>Market Area</th>\n",
       "    </tr>\n",
       "  </thead>\n",
       "  <tbody>\n",
       "    <tr>\n",
       "      <th>7532</th>\n",
       "      <td>R0008499</td>\n",
       "      <td>NaN</td>\n",
       "      <td>528</td>\n",
       "      <td>NaN</td>\n",
       "      <td>PEARL</td>\n",
       "      <td>ST</td>\n",
       "      <td>NaN</td>\n",
       "      <td>BOULDER</td>\n",
       "      <td>NaN</td>\n",
       "      <td>NaN</td>\n",
       "      <td>...</td>\n",
       "      <td>0.0</td>\n",
       "      <td>0.0</td>\n",
       "      <td>Carport</td>\n",
       "      <td>224</td>\n",
       "      <td>7332.0</td>\n",
       "      <td>3517555</td>\n",
       "      <td>2016-05-04</td>\n",
       "      <td>1390000</td>\n",
       "      <td>1.733706e+06</td>\n",
       "      <td>101</td>\n",
       "    </tr>\n",
       "    <tr>\n",
       "      <th>7704</th>\n",
       "      <td>R0001113</td>\n",
       "      <td>NaN</td>\n",
       "      <td>2961</td>\n",
       "      <td>NaN</td>\n",
       "      <td>BROADWAY</td>\n",
       "      <td>NaN</td>\n",
       "      <td>NaN</td>\n",
       "      <td>BOULDER</td>\n",
       "      <td>NaN</td>\n",
       "      <td>NaN</td>\n",
       "      <td>...</td>\n",
       "      <td>0.0</td>\n",
       "      <td>0.0</td>\n",
       "      <td>Detached</td>\n",
       "      <td>400</td>\n",
       "      <td>5847.0</td>\n",
       "      <td>3629659</td>\n",
       "      <td>2017-12-05</td>\n",
       "      <td>1435000</td>\n",
       "      <td>1.604092e+06</td>\n",
       "      <td>102</td>\n",
       "    </tr>\n",
       "    <tr>\n",
       "      <th>10660</th>\n",
       "      <td>R0006045</td>\n",
       "      <td>NaN</td>\n",
       "      <td>2304</td>\n",
       "      <td>NaN</td>\n",
       "      <td>PINE</td>\n",
       "      <td>ST</td>\n",
       "      <td>NaN</td>\n",
       "      <td>BOULDER</td>\n",
       "      <td>NaN</td>\n",
       "      <td>NaN</td>\n",
       "      <td>...</td>\n",
       "      <td>0.0</td>\n",
       "      <td>0.0</td>\n",
       "      <td>Detached</td>\n",
       "      <td>360</td>\n",
       "      <td>10599.0</td>\n",
       "      <td>3648336</td>\n",
       "      <td>2018-04-02</td>\n",
       "      <td>1200000</td>\n",
       "      <td>1.321625e+06</td>\n",
       "      <td>107</td>\n",
       "    </tr>\n",
       "    <tr>\n",
       "      <th>13285</th>\n",
       "      <td>R0043437</td>\n",
       "      <td>NaN</td>\n",
       "      <td>218</td>\n",
       "      <td>S</td>\n",
       "      <td>MAIN</td>\n",
       "      <td>ST</td>\n",
       "      <td>NaN</td>\n",
       "      <td>LONGMONT</td>\n",
       "      <td>NaN</td>\n",
       "      <td>NaN</td>\n",
       "      <td>...</td>\n",
       "      <td>0.0</td>\n",
       "      <td>0.0</td>\n",
       "      <td>None</td>\n",
       "      <td>0</td>\n",
       "      <td>8140.0</td>\n",
       "      <td>3464836</td>\n",
       "      <td>2015-07-31</td>\n",
       "      <td>964300</td>\n",
       "      <td>1.392711e+06</td>\n",
       "      <td>502</td>\n",
       "    </tr>\n",
       "    <tr>\n",
       "      <th>13286</th>\n",
       "      <td>R0045068</td>\n",
       "      <td>NaN</td>\n",
       "      <td>1401</td>\n",
       "      <td>NaN</td>\n",
       "      <td>MAIN</td>\n",
       "      <td>ST</td>\n",
       "      <td>NaN</td>\n",
       "      <td>LONGMONT</td>\n",
       "      <td>NaN</td>\n",
       "      <td>NaN</td>\n",
       "      <td>...</td>\n",
       "      <td>0.0</td>\n",
       "      <td>0.0</td>\n",
       "      <td>None</td>\n",
       "      <td>0</td>\n",
       "      <td>46219.0</td>\n",
       "      <td>3542182</td>\n",
       "      <td>2016-09-07</td>\n",
       "      <td>1015000</td>\n",
       "      <td>1.291147e+06</td>\n",
       "      <td>502</td>\n",
       "    </tr>\n",
       "    <tr>\n",
       "      <th>25946</th>\n",
       "      <td>R0611655</td>\n",
       "      <td>RCON</td>\n",
       "      <td>816</td>\n",
       "      <td>S</td>\n",
       "      <td>COFFMAN</td>\n",
       "      <td>ST</td>\n",
       "      <td>68</td>\n",
       "      <td>LONGMONT</td>\n",
       "      <td>NaN</td>\n",
       "      <td>NaN</td>\n",
       "      <td>...</td>\n",
       "      <td>0.0</td>\n",
       "      <td>0.0</td>\n",
       "      <td>Attached</td>\n",
       "      <td>240</td>\n",
       "      <td>0.0</td>\n",
       "      <td>3777915</td>\n",
       "      <td>2020-04-15</td>\n",
       "      <td>325000</td>\n",
       "      <td>3.272333e+05</td>\n",
       "      <td>633</td>\n",
       "    </tr>\n",
       "    <tr>\n",
       "      <th>26684</th>\n",
       "      <td>R0506292</td>\n",
       "      <td>RCON</td>\n",
       "      <td>726</td>\n",
       "      <td>NaN</td>\n",
       "      <td>TENACITY</td>\n",
       "      <td>DR</td>\n",
       "      <td>A</td>\n",
       "      <td>LONGMONT</td>\n",
       "      <td>NaN</td>\n",
       "      <td>NaN</td>\n",
       "      <td>...</td>\n",
       "      <td>0.0</td>\n",
       "      <td>515.0</td>\n",
       "      <td>Detached</td>\n",
       "      <td>253</td>\n",
       "      <td>10477.0</td>\n",
       "      <td>3490773</td>\n",
       "      <td>2015-12-15</td>\n",
       "      <td>340000</td>\n",
       "      <td>4.777405e+05</td>\n",
       "      <td>633</td>\n",
       "    </tr>\n",
       "    <tr>\n",
       "      <th>26685</th>\n",
       "      <td>R0506292</td>\n",
       "      <td>RCON</td>\n",
       "      <td>726</td>\n",
       "      <td>NaN</td>\n",
       "      <td>TENACITY</td>\n",
       "      <td>DR</td>\n",
       "      <td>A</td>\n",
       "      <td>LONGMONT</td>\n",
       "      <td>NaN</td>\n",
       "      <td>NaN</td>\n",
       "      <td>...</td>\n",
       "      <td>515.0</td>\n",
       "      <td>0.0</td>\n",
       "      <td>Detached</td>\n",
       "      <td>253</td>\n",
       "      <td>10477.0</td>\n",
       "      <td>3790763</td>\n",
       "      <td>2020-06-09</td>\n",
       "      <td>440000</td>\n",
       "      <td>4.400000e+05</td>\n",
       "      <td>633</td>\n",
       "    </tr>\n",
       "  </tbody>\n",
       "</table>\n",
       "<p>8 rows × 23 columns</p>\n",
       "</div>"
      ],
      "text/plain": [
       "      Accout Number Property Type  Property Address Street Number  \\\n",
       "7532       R0008499           NaN                             528   \n",
       "7704       R0001113           NaN                            2961   \n",
       "10660      R0006045           NaN                            2304   \n",
       "13285      R0043437           NaN                             218   \n",
       "13286      R0045068           NaN                            1401   \n",
       "25946      R0611655          RCON                             816   \n",
       "26684      R0506292          RCON                             726   \n",
       "26685      R0506292          RCON                             726   \n",
       "\n",
       "      Property Address Street Dir Property Address Street Name  \\\n",
       "7532                          NaN                        PEARL   \n",
       "7704                          NaN                     BROADWAY   \n",
       "10660                         NaN                         PINE   \n",
       "13285                           S                         MAIN   \n",
       "13286                         NaN                         MAIN   \n",
       "25946                           S                      COFFMAN   \n",
       "26684                         NaN                     TENACITY   \n",
       "26685                         NaN                     TENACITY   \n",
       "\n",
       "      Property Address Street Suffix Property Address Unit Number  Location  \\\n",
       "7532                              ST                          NaN   BOULDER   \n",
       "7704                             NaN                          NaN   BOULDER   \n",
       "10660                             ST                          NaN   BOULDER   \n",
       "13285                             ST                          NaN  LONGMONT   \n",
       "13286                             ST                          NaN  LONGMONT   \n",
       "25946                             ST                           68  LONGMONT   \n",
       "26684                             DR                            A  LONGMONT   \n",
       "26685                             DR                            A  LONGMONT   \n",
       "\n",
       "      Design Quality  ...  Basemt Fin SF  Basemt Unf SF  Garage Type  \\\n",
       "7532     NaN     NaN  ...            0.0            0.0      Carport   \n",
       "7704     NaN     NaN  ...            0.0            0.0     Detached   \n",
       "10660    NaN     NaN  ...            0.0            0.0     Detached   \n",
       "13285    NaN     NaN  ...            0.0            0.0         None   \n",
       "13286    NaN     NaN  ...            0.0            0.0         None   \n",
       "25946    NaN     NaN  ...            0.0            0.0     Attached   \n",
       "26684    NaN     NaN  ...            0.0          515.0     Detached   \n",
       "26685    NaN     NaN  ...          515.0            0.0     Detached   \n",
       "\n",
       "       Garage SF  Est Land SF Reception No Sale Date (Mon-Yr)  Sale Price  \\\n",
       "7532         224       7332.0      3517555         2016-05-04     1390000   \n",
       "7704         400       5847.0      3629659         2017-12-05     1435000   \n",
       "10660        360      10599.0      3648336         2018-04-02     1200000   \n",
       "13285          0       8140.0      3464836         2015-07-31      964300   \n",
       "13286          0      46219.0      3542182         2016-09-07     1015000   \n",
       "25946        240          0.0      3777915         2020-04-15      325000   \n",
       "26684        253      10477.0      3490773         2015-12-15      340000   \n",
       "26685        253      10477.0      3790763         2020-06-09      440000   \n",
       "\n",
       "      Time Adjust Sales Price Market Area  \n",
       "7532             1.733706e+06         101  \n",
       "7704             1.604092e+06         102  \n",
       "10660            1.321625e+06         107  \n",
       "13285            1.392711e+06         502  \n",
       "13286            1.291147e+06         502  \n",
       "25946            3.272333e+05         633  \n",
       "26684            4.777405e+05         633  \n",
       "26685            4.400000e+05         633  \n",
       "\n",
       "[8 rows x 23 columns]"
      ]
     },
     "execution_count": 251,
     "metadata": {},
     "output_type": "execute_result"
    }
   ],
   "source": [
    "X[X.Quality.isna()]\n"
   ]
  },
  {
   "cell_type": "code",
   "execution_count": 252,
   "id": "6fdbc703",
   "metadata": {},
   "outputs": [
    {
     "name": "stdout",
     "output_type": "stream",
     "text": [
      "(26846, 23)\n",
      "(26838, 23)\n"
     ]
    }
   ],
   "source": [
    "print(X.shape)\n",
    "X.drop([7532,7704,10660,13285,13286,25946,26684,26685],inplace=True )\n",
    "print(X.shape)"
   ]
  },
  {
   "cell_type": "code",
   "execution_count": 256,
   "id": "c9a3fdb0",
   "metadata": {},
   "outputs": [
    {
     "data": {
      "text/plain": [
       "Accout Number                             object\n",
       "Property Type                             object\n",
       "Property Address Street Number             int64\n",
       "Property Address Street Dir               object\n",
       "Property Address Street Name              object\n",
       "Property Address Street Suffix            object\n",
       "Property Address Unit Number              object\n",
       "Location                                  object\n",
       "Design                                    object\n",
       "Quality                                   object\n",
       "Eff Yr Built                               int64\n",
       "Above Grd SF                             float64\n",
       "Basemt Tot SF                              int64\n",
       "Basemt Fin SF                            float64\n",
       "Basemt Unf SF                            float64\n",
       "Garage Type                               object\n",
       "Garage SF                                  int64\n",
       "Est Land SF                              float64\n",
       "Reception No                              object\n",
       "Sale Date (Mon-Yr)                datetime64[ns]\n",
       "Sale Price                                 int64\n",
       "Time Adjust Sales Price                  float64\n",
       "Market Area                                int64\n",
       "dtype: object"
      ]
     },
     "execution_count": 256,
     "metadata": {},
     "output_type": "execute_result"
    }
   ],
   "source": [
    "X.dtypes"
   ]
  },
  {
   "cell_type": "markdown",
   "id": "ce7a8c9c",
   "metadata": {},
   "source": [
    "So we confirmed that 'Garage SF' is now numeric. "
   ]
  },
  {
   "cell_type": "markdown",
   "id": "119d49cf",
   "metadata": {},
   "source": [
    "### Let's check if data has any duplicates."
   ]
  },
  {
   "cell_type": "code",
   "execution_count": 257,
   "id": "785fa014",
   "metadata": {},
   "outputs": [
    {
     "data": {
      "text/html": [
       "<div>\n",
       "<style scoped>\n",
       "    .dataframe tbody tr th:only-of-type {\n",
       "        vertical-align: middle;\n",
       "    }\n",
       "\n",
       "    .dataframe tbody tr th {\n",
       "        vertical-align: top;\n",
       "    }\n",
       "\n",
       "    .dataframe thead th {\n",
       "        text-align: right;\n",
       "    }\n",
       "</style>\n",
       "<table border=\"1\" class=\"dataframe\">\n",
       "  <thead>\n",
       "    <tr style=\"text-align: right;\">\n",
       "      <th></th>\n",
       "      <th>Accout Number</th>\n",
       "      <th>Property Type</th>\n",
       "      <th>Property Address Street Number</th>\n",
       "      <th>Property Address Street Dir</th>\n",
       "      <th>Property Address Street Name</th>\n",
       "      <th>Property Address Street Suffix</th>\n",
       "      <th>Property Address Unit Number</th>\n",
       "      <th>Location</th>\n",
       "      <th>Design</th>\n",
       "      <th>Quality</th>\n",
       "      <th>...</th>\n",
       "      <th>Basemt Fin SF</th>\n",
       "      <th>Basemt Unf SF</th>\n",
       "      <th>Garage Type</th>\n",
       "      <th>Garage SF</th>\n",
       "      <th>Est Land SF</th>\n",
       "      <th>Reception No</th>\n",
       "      <th>Sale Date (Mon-Yr)</th>\n",
       "      <th>Sale Price</th>\n",
       "      <th>Time Adjust Sales Price</th>\n",
       "      <th>Market Area</th>\n",
       "    </tr>\n",
       "  </thead>\n",
       "  <tbody>\n",
       "    <tr>\n",
       "      <th>22110</th>\n",
       "      <td>R0609250</td>\n",
       "      <td>RCON</td>\n",
       "      <td>3401</td>\n",
       "      <td>NaN</td>\n",
       "      <td>ARAPAHOE</td>\n",
       "      <td>AVE</td>\n",
       "      <td>317</td>\n",
       "      <td>BOULDER</td>\n",
       "      <td>1 Sty Condo</td>\n",
       "      <td>Good</td>\n",
       "      <td>...</td>\n",
       "      <td>0.0</td>\n",
       "      <td>0.0</td>\n",
       "      <td>Basement</td>\n",
       "      <td>4000</td>\n",
       "      <td>0.0</td>\n",
       "      <td>3806079</td>\n",
       "      <td>2020-08-11</td>\n",
       "      <td>1104400</td>\n",
       "      <td>1104400.0</td>\n",
       "      <td>630</td>\n",
       "    </tr>\n",
       "  </tbody>\n",
       "</table>\n",
       "<p>1 rows × 23 columns</p>\n",
       "</div>"
      ],
      "text/plain": [
       "      Accout Number Property Type  Property Address Street Number  \\\n",
       "22110      R0609250          RCON                            3401   \n",
       "\n",
       "      Property Address Street Dir Property Address Street Name  \\\n",
       "22110                         NaN                     ARAPAHOE   \n",
       "\n",
       "      Property Address Street Suffix Property Address Unit Number Location  \\\n",
       "22110                            AVE                          317  BOULDER   \n",
       "\n",
       "            Design Quality  ...  Basemt Fin SF  Basemt Unf SF  Garage Type  \\\n",
       "22110  1 Sty Condo    Good  ...            0.0            0.0     Basement   \n",
       "\n",
       "       Garage SF  Est Land SF Reception No  Sale Date (Mon-Yr)  Sale Price  \\\n",
       "22110       4000          0.0      3806079          2020-08-11     1104400   \n",
       "\n",
       "      Time Adjust Sales Price Market Area  \n",
       "22110               1104400.0         630  \n",
       "\n",
       "[1 rows x 23 columns]"
      ]
     },
     "execution_count": 257,
     "metadata": {},
     "output_type": "execute_result"
    }
   ],
   "source": [
    "X[X.duplicated(subset=None)]"
   ]
  },
  {
   "cell_type": "code",
   "execution_count": 258,
   "id": "7e50db0d",
   "metadata": {},
   "outputs": [
    {
     "data": {
      "text/plain": [
       "(26838, 23)"
      ]
     },
     "execution_count": 258,
     "metadata": {},
     "output_type": "execute_result"
    }
   ],
   "source": [
    "X.shape"
   ]
  },
  {
   "cell_type": "code",
   "execution_count": 259,
   "id": "97b3eed2",
   "metadata": {},
   "outputs": [
    {
     "data": {
      "text/plain": [
       "(26837, 23)"
      ]
     },
     "execution_count": 259,
     "metadata": {},
     "output_type": "execute_result"
    }
   ],
   "source": [
    "X = X.drop_duplicates(subset=None, keep='last')\n",
    "X.shape"
   ]
  },
  {
   "cell_type": "markdown",
   "id": "3f8d410d",
   "metadata": {},
   "source": [
    "Dropped a single duplicate. Now we have 26846 rows and 23 columns. Time to save the data."
   ]
  },
  {
   "cell_type": "code",
   "execution_count": 261,
   "id": "f8afea76",
   "metadata": {},
   "outputs": [],
   "source": [
    "X.to_csv('data/clean_data.csv', index=False)"
   ]
  },
  {
   "cell_type": "code",
   "execution_count": null,
   "id": "6a86b10a",
   "metadata": {},
   "outputs": [],
   "source": []
  }
 ],
 "metadata": {
  "kernelspec": {
   "display_name": "Python 3 (ipykernel)",
   "language": "python",
   "name": "python3"
  },
  "language_info": {
   "codemirror_mode": {
    "name": "ipython",
    "version": 3
   },
   "file_extension": ".py",
   "mimetype": "text/x-python",
   "name": "python",
   "nbconvert_exporter": "python",
   "pygments_lexer": "ipython3",
   "version": "3.9.12"
  }
 },
 "nbformat": 4,
 "nbformat_minor": 5
}
