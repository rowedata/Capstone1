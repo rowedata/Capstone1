{
 "cells": [
  {
   "cell_type": "markdown",
   "id": "35c8b602",
   "metadata": {},
   "source": [
    "# Capstone 1. Data Wrangling"
   ]
  },
  {
   "cell_type": "markdown",
   "id": "6583dfaa",
   "metadata": {},
   "source": [
    "## #Current 2021/2022 Tax Years: Residential Sales\n",
    "Base Period Sales from July 1, 2018–June 30, 2020\n",
    "In areas with few sales, the Assessor is allowed to use comparable sales going back up to five years.\n",
    "\n",
    "https://bouldercounty.gov/property-and-land/assessor/sales/comps-2021/residential/\n",
    "\n",
    "### Single Family Residential Properties <br>\n",
    "Sales of single family homes, duplexes, and triplexes.\n",
    "Market Area Maps for Single Family Properties\n",
    "Comparable properties are often found in the same Market Area, which are groups of neighborhoods that have similar trends in the market. Boulder County uses these areas to establish market value for mass appraisal purposes."
   ]
  },
  {
   "cell_type": "markdown",
   "id": "f77aea78",
   "metadata": {},
   "source": [
    "## 1. Data Collection"
   ]
  },
  {
   "cell_type": "markdown",
   "id": "731fc836",
   "metadata": {},
   "source": [
    " #### Load the packages"
   ]
  },
  {
   "cell_type": "code",
   "execution_count": 17,
   "id": "b0de5744",
   "metadata": {},
   "outputs": [],
   "source": [
    "%matplotlib inline\n",
    "import numpy as np\n",
    "import pandas as pd \n",
    "import matplotlib.pyplot as plt\n",
    "import seaborn as sns\n"
   ]
  },
  {
   "cell_type": "markdown",
   "id": "7265f6bb",
   "metadata": {},
   "source": [
    "#### Data Loading "
   ]
  },
  {
   "cell_type": "code",
   "execution_count": 18,
   "id": "efccf101",
   "metadata": {},
   "outputs": [],
   "source": [
    "gunbarrel = pd.read_excel('data/ar-comp-2021-residential-401-sheet.xlsx',sheet_name='2021 Market Area 401' )\n",
    "superior = pd.read_excel('data/ar-comp-2021-residential-402-sheet.xlsx',sheet_name='2021 Market Area 402')\n",
    "louisville = pd.read_excel('data/ar-comp-2021-residential-403-sheet.xlsx',sheet_name='2021 Market Area 403')\n",
    "erie = pd.read_excel('data/ar-comp-2021-residential-404-sheet.xlsx',sheet_name='2021 Market Area 404')\n",
    "lafayette = pd.read_excel('data/ar-comp-2021-residential-405-sheet.xlsx',sheet_name='2021 Market Area 405')"
   ]
  },
  {
   "cell_type": "code",
   "execution_count": 19,
   "id": "91e68d40",
   "metadata": {},
   "outputs": [
    {
     "name": "stdout",
     "output_type": "stream",
     "text": [
      "(706, 23) (817, 23) (1321, 23) (1847, 23) (2389, 23)\n"
     ]
    }
   ],
   "source": [
    "print(gunbarrel.shape, superior.shape, louisville.shape, erie.shape, lafayette.shape)\n"
   ]
  },
  {
   "cell_type": "markdown",
   "id": "a895eb64",
   "metadata": {},
   "source": [
    "#### Data joining"
   ]
  },
  {
   "cell_type": "code",
   "execution_count": 20,
   "id": "c0d90045",
   "metadata": {},
   "outputs": [
    {
     "data": {
      "text/plain": [
       "(7080, 23)"
      ]
     },
     "execution_count": 20,
     "metadata": {},
     "output_type": "execute_result"
    }
   ],
   "source": [
    "df = pd.concat([gunbarrel, superior, louisville, erie, lafayette])\n",
    "df.shape"
   ]
  },
  {
   "cell_type": "markdown",
   "id": "4543e01a",
   "metadata": {},
   "source": [
    "## Data definition"
   ]
  },
  {
   "cell_type": "code",
   "execution_count": 5,
   "id": "ba06b059",
   "metadata": {},
   "outputs": [
    {
     "data": {
      "text/plain": [
       "Index(['Accout Number', 'Property Type', 'Property Address Street Number',\n",
       "       'Property Address Street Dir', 'Property Address Street Name',\n",
       "       'Property Address Street Suffix', 'Property Address Unit Number',\n",
       "       'Location', 'Design', 'Quality', 'Eff Yr Built', 'Above Grd SF',\n",
       "       'Basemt Tot SF', 'Basemt Fin SF', 'Basemt Unf SF', 'Garage Type',\n",
       "       'Garage SF', 'Est Land SF', 'Reception No', 'Sale Date (Mon-Yr)',\n",
       "       'Sale Price', 'Time Adjust Sales Price', 'Market Area'],\n",
       "      dtype='object')"
      ]
     },
     "execution_count": 5,
     "metadata": {},
     "output_type": "execute_result"
    }
   ],
   "source": [
    "df.columns"
   ]
  },
  {
   "cell_type": "code",
   "execution_count": 21,
   "id": "9084415e",
   "metadata": {},
   "outputs": [],
   "source": [
    "X = df\n",
    "#df.loc[:,['Property Type','Location', 'Design', 'Quality', 'Eff Yr Built', 'Above Grd SF','Basemt Tot SF', 'Basemt Fin SF', 'Basemt Unf SF', 'Garage Type','Garage SF', 'Est Land SF','Market Area','Time Adjust Sales Price']]\n"
   ]
  },
  {
   "cell_type": "markdown",
   "id": "edec30fe",
   "metadata": {},
   "source": [
    "We remove fields 'Reception No', 'Sale Date (Mon-Yr)','Sale Price', 'Time Adjust Sales Price' to be used as a response variable. Need to figure out whether to use time adjusted or actual sale price. <br>\n",
    "\n",
    "We also remove street address fields for now: <br>\n",
    "       'Accout Number', 'Property Address Street Number',<br>\n",
    "       'Property Address Street Dir', 'Property Address Street Name',<br>\n",
    "       'Property Address Street Suffix', 'Property Address Unit Number', but keep the 'Property Type' in case we add condos/apartments. "
   ]
  },
  {
   "cell_type": "code",
   "execution_count": 22,
   "id": "67d33dff",
   "metadata": {},
   "outputs": [],
   "source": [
    "Y= df.loc[:,'Time Adjust Sales Price']"
   ]
  },
  {
   "cell_type": "code",
   "execution_count": 23,
   "id": "b008e647",
   "metadata": {},
   "outputs": [
    {
     "data": {
      "text/plain": [
       "0       581143.136625\n",
       "1       652607.758723\n",
       "2       553206.861188\n",
       "3       495706.522160\n",
       "4       576679.694605\n",
       "            ...      \n",
       "2384    773180.319485\n",
       "2385    765964.675620\n",
       "2386    757164.350655\n",
       "2387    775666.458287\n",
       "2388    729660.642766\n",
       "Name: Time Adjust Sales Price, Length: 7080, dtype: float64"
      ]
     },
     "execution_count": 23,
     "metadata": {},
     "output_type": "execute_result"
    }
   ],
   "source": [
    "Y\n"
   ]
  },
  {
   "cell_type": "markdown",
   "id": "be40ec07",
   "metadata": {},
   "source": [
    "This is our current response variable, need to determine whether to use it or some actual sale price or anything else. The sales are float 64."
   ]
  },
  {
   "cell_type": "code",
   "execution_count": 26,
   "id": "03f1fe4a",
   "metadata": {},
   "outputs": [
    {
     "data": {
      "text/plain": [
       "<AxesSubplot:xlabel='Design', ylabel='count'>"
      ]
     },
     "execution_count": 26,
     "metadata": {},
     "output_type": "execute_result"
    },
    {
     "data": {
      "image/png": "[encoded data removed]",
      "text/plain": [
       "<Figure size 432x288 with 1 Axes>"
      ]
     },
     "metadata": {
      "needs_background": "light"
     },
     "output_type": "display_data"
    }
   ],
   "source": [
    "sns.countplot(x=X['Design'])"
   ]
  },
  {
   "cell_type": "code",
   "execution_count": 27,
   "id": "d9a907b9",
   "metadata": {},
   "outputs": [
    {
     "data": {
      "text/plain": [
       "<AxesSubplot:xlabel='count', ylabel='Quality'>"
      ]
     },
     "execution_count": 27,
     "metadata": {},
     "output_type": "execute_result"
    },
    {
     "data": {
      "image/png": "[encoded data removed]",
      "text/plain": [
       "<Figure size 432x288 with 1 Axes>"
      ]
     },
     "metadata": {
      "needs_background": "light"
     },
     "output_type": "display_data"
    }
   ],
   "source": [
    "sns.countplot(y=X['Quality'])"
   ]
  },
  {
   "cell_type": "code",
   "execution_count": 30,
   "id": "2cfeb2c0",
   "metadata": {},
   "outputs": [
    {
     "data": {
      "text/plain": [
       "<AxesSubplot:xlabel='Market Area', ylabel='count'>"
      ]
     },
     "execution_count": 30,
     "metadata": {},
     "output_type": "execute_result"
    },
    {
     "data": {
      "image/png": "[encoded data removed]",
      "text/plain": [
       "<Figure size 432x288 with 1 Axes>"
      ]
     },
     "metadata": {
      "needs_background": "light"
     },
     "output_type": "display_data"
    }
   ],
   "source": [
    "sns.countplot(x=X['Market Area'])"
   ]
  },
  {
   "cell_type": "code",
   "execution_count": 31,
   "id": "a182c7be",
   "metadata": {},
   "outputs": [
    {
     "data": {
      "text/plain": [
       "<AxesSubplot:xlabel='Location', ylabel='count'>"
      ]
     },
     "execution_count": 31,
     "metadata": {},
     "output_type": "execute_result"
    },
    {
     "data": {
      "image/png": "[encoded data removed]",
      "text/plain": [
       "<Figure size 432x288 with 1 Axes>"
      ]
     },
     "metadata": {
      "needs_background": "light"
     },
     "output_type": "display_data"
    }
   ],
   "source": [
    "sns.countplot(x=X['Location'])"
   ]
  },
  {
   "cell_type": "markdown",
   "id": "0bf35e84",
   "metadata": {},
   "source": [
    "Let's look at X closely. "
   ]
  },
  {
   "cell_type": "code",
   "execution_count": 12,
   "id": "a0010a4f",
   "metadata": {},
   "outputs": [
    {
     "data": {
      "text/html": [
       "<div>\n",
       "<style scoped>\n",
       "    .dataframe tbody tr th:only-of-type {\n",
       "        vertical-align: middle;\n",
       "    }\n",
       "\n",
       "    .dataframe tbody tr th {\n",
       "        vertical-align: top;\n",
       "    }\n",
       "\n",
       "    .dataframe thead th {\n",
       "        text-align: right;\n",
       "    }\n",
       "</style>\n",
       "<table border=\"1\" class=\"dataframe\">\n",
       "  <thead>\n",
       "    <tr style=\"text-align: right;\">\n",
       "      <th></th>\n",
       "      <th>Property Type</th>\n",
       "      <th>Location</th>\n",
       "      <th>Design</th>\n",
       "      <th>Quality</th>\n",
       "      <th>Eff Yr Built</th>\n",
       "      <th>Above Grd SF</th>\n",
       "      <th>Basemt Tot SF</th>\n",
       "      <th>Basemt Fin SF</th>\n",
       "      <th>Basemt Unf SF</th>\n",
       "      <th>Garage Type</th>\n",
       "      <th>Garage SF</th>\n",
       "      <th>Est Land SF</th>\n",
       "      <th>Market Area</th>\n",
       "      <th>Time Adjust Sales Price</th>\n",
       "    </tr>\n",
       "  </thead>\n",
       "  <tbody>\n",
       "    <tr>\n",
       "      <th>0</th>\n",
       "      <td>SFR</td>\n",
       "      <td>UNINCORPORATED</td>\n",
       "      <td>Ranch</td>\n",
       "      <td>Avg ++</td>\n",
       "      <td>1990</td>\n",
       "      <td>1311</td>\n",
       "      <td>0</td>\n",
       "      <td>0</td>\n",
       "      <td>0</td>\n",
       "      <td>Attached</td>\n",
       "      <td>420</td>\n",
       "      <td>29780</td>\n",
       "      <td>401</td>\n",
       "      <td>581143.136625</td>\n",
       "    </tr>\n",
       "    <tr>\n",
       "      <th>1</th>\n",
       "      <td>SFR</td>\n",
       "      <td>UNINCORPORATED</td>\n",
       "      <td>Ranch</td>\n",
       "      <td>Avg ++</td>\n",
       "      <td>2001</td>\n",
       "      <td>1311</td>\n",
       "      <td>0</td>\n",
       "      <td>0</td>\n",
       "      <td>0</td>\n",
       "      <td>Attached</td>\n",
       "      <td>420</td>\n",
       "      <td>29780</td>\n",
       "      <td>401</td>\n",
       "      <td>652607.758723</td>\n",
       "    </tr>\n",
       "    <tr>\n",
       "      <th>2</th>\n",
       "      <td>SFR</td>\n",
       "      <td>UNINCORPORATED</td>\n",
       "      <td>Ranch</td>\n",
       "      <td>Avg</td>\n",
       "      <td>1980</td>\n",
       "      <td>1380</td>\n",
       "      <td>1050</td>\n",
       "      <td>1050</td>\n",
       "      <td>0</td>\n",
       "      <td>Attached</td>\n",
       "      <td>475</td>\n",
       "      <td>14234</td>\n",
       "      <td>401</td>\n",
       "      <td>553206.861188</td>\n",
       "    </tr>\n",
       "    <tr>\n",
       "      <th>3</th>\n",
       "      <td>SFR</td>\n",
       "      <td>UNINCORPORATED</td>\n",
       "      <td>Split level</td>\n",
       "      <td>Avg ++</td>\n",
       "      <td>2000</td>\n",
       "      <td>1270</td>\n",
       "      <td>500</td>\n",
       "      <td>500</td>\n",
       "      <td>0</td>\n",
       "      <td>Attached</td>\n",
       "      <td>475</td>\n",
       "      <td>8315</td>\n",
       "      <td>401</td>\n",
       "      <td>495706.522160</td>\n",
       "    </tr>\n",
       "    <tr>\n",
       "      <th>4</th>\n",
       "      <td>SFR</td>\n",
       "      <td>UNINCORPORATED</td>\n",
       "      <td>Split level</td>\n",
       "      <td>Avg</td>\n",
       "      <td>1995</td>\n",
       "      <td>850</td>\n",
       "      <td>500</td>\n",
       "      <td>500</td>\n",
       "      <td>0</td>\n",
       "      <td>Attached</td>\n",
       "      <td>475</td>\n",
       "      <td>10350</td>\n",
       "      <td>401</td>\n",
       "      <td>576679.694605</td>\n",
       "    </tr>\n",
       "  </tbody>\n",
       "</table>\n",
       "</div>"
      ],
      "text/plain": [
       "  Property Type        Location       Design Quality  Eff Yr Built  \\\n",
       "0           SFR  UNINCORPORATED        Ranch  Avg ++          1990   \n",
       "1           SFR  UNINCORPORATED        Ranch  Avg ++          2001   \n",
       "2           SFR  UNINCORPORATED        Ranch     Avg          1980   \n",
       "3           SFR  UNINCORPORATED  Split level  Avg ++          2000   \n",
       "4           SFR  UNINCORPORATED  Split level     Avg          1995   \n",
       "\n",
       "   Above Grd SF  Basemt Tot SF  Basemt Fin SF  Basemt Unf SF Garage Type  \\\n",
       "0          1311              0              0              0    Attached   \n",
       "1          1311              0              0              0    Attached   \n",
       "2          1380           1050           1050              0    Attached   \n",
       "3          1270            500            500              0    Attached   \n",
       "4           850            500            500              0    Attached   \n",
       "\n",
       "  Garage SF  Est Land SF  Market Area  Time Adjust Sales Price  \n",
       "0       420        29780          401            581143.136625  \n",
       "1       420        29780          401            652607.758723  \n",
       "2       475        14234          401            553206.861188  \n",
       "3       475         8315          401            495706.522160  \n",
       "4       475        10350          401            576679.694605  "
      ]
     },
     "execution_count": 12,
     "metadata": {},
     "output_type": "execute_result"
    }
   ],
   "source": [
    "X.head()"
   ]
  },
  {
   "cell_type": "markdown",
   "id": "ee31dd01",
   "metadata": {},
   "source": [
    "Let's expore if we have any missing data"
   ]
  },
  {
   "cell_type": "code",
   "execution_count": 32,
   "id": "5d5df990",
   "metadata": {},
   "outputs": [
    {
     "name": "stdout",
     "output_type": "stream",
     "text": [
      "(3,)\n"
     ]
    }
   ],
   "source": [
    "missing = X.isnull().sum()\n",
    "missing = missing[missing > 0]\n",
    "print(missing.shape)\n",
    "#missing.sort_values(inplace=True)\n",
    "#missing.plot.bar()"
   ]
  },
  {
   "cell_type": "markdown",
   "id": "c05d9a16",
   "metadata": {},
   "source": [
    "We don't have any missing data. Let's check the data types. "
   ]
  },
  {
   "cell_type": "code",
   "execution_count": 33,
   "id": "369026e5",
   "metadata": {},
   "outputs": [
    {
     "data": {
      "text/plain": [
       "Accout Number                             object\n",
       "Property Type                             object\n",
       "Property Address Street Number             int64\n",
       "Property Address Street Dir               object\n",
       "Property Address Street Name              object\n",
       "Property Address Street Suffix            object\n",
       "Property Address Unit Number              object\n",
       "Location                                  object\n",
       "Design                                    object\n",
       "Quality                                   object\n",
       "Eff Yr Built                               int64\n",
       "Above Grd SF                               int64\n",
       "Basemt Tot SF                              int64\n",
       "Basemt Fin SF                              int64\n",
       "Basemt Unf SF                              int64\n",
       "Garage Type                               object\n",
       "Garage SF                                 object\n",
       "Est Land SF                                int64\n",
       "Reception No                               int64\n",
       "Sale Date (Mon-Yr)                datetime64[ns]\n",
       "Sale Price                                 int64\n",
       "Time Adjust Sales Price                  float64\n",
       "Market Area                                int64\n",
       "dtype: object"
      ]
     },
     "execution_count": 33,
     "metadata": {},
     "output_type": "execute_result"
    }
   ],
   "source": [
    "X.dtypes"
   ]
  },
  {
   "cell_type": "markdown",
   "id": "e1cfe3d1",
   "metadata": {},
   "source": [
    "\n",
    "#### 1. Change 'Garage SF' to an int\n",
    "\n",
    "#### 2. We want to recode location, design, quality, garage type  as categorical variables things like "
   ]
  },
  {
   "cell_type": "code",
   "execution_count": 34,
   "id": "52bdaffe",
   "metadata": {},
   "outputs": [
    {
     "name": "stderr",
     "output_type": "stream",
     "text": [
      "/var/folders/93/rlhghy792jqb_shw4fl2xbn80000gn/T/ipykernel_89582/576785893.py:1: FutureWarning: The default value of regex will change from True to False in a future version.\n",
      "  X['Garage SF'] = X['Garage SF'].str.replace(r'\\D+', '').astype(int)\n"
     ]
    }
   ],
   "source": [
    "X['Garage SF'] = X['Garage SF'].str.replace(r'\\D+', '').astype(int)"
   ]
  },
  {
   "cell_type": "code",
   "execution_count": 35,
   "id": "4932796d",
   "metadata": {},
   "outputs": [
    {
     "data": {
      "text/plain": [
       "0       420\n",
       "1       420\n",
       "2       475\n",
       "3       475\n",
       "4       475\n",
       "       ... \n",
       "2384    706\n",
       "2385    706\n",
       "2386    440\n",
       "2387    600\n",
       "2388    486\n",
       "Name: Garage SF, Length: 7080, dtype: int64"
      ]
     },
     "execution_count": 35,
     "metadata": {},
     "output_type": "execute_result"
    }
   ],
   "source": [
    "X['Garage SF'] #X['Garage SF'] = X['Garage SF'].astype(str).astype(int) "
   ]
  },
  {
   "cell_type": "code",
   "execution_count": 36,
   "id": "e39296bb",
   "metadata": {},
   "outputs": [
    {
     "data": {
      "text/plain": [
       "Accout Number                             object\n",
       "Property Type                             object\n",
       "Property Address Street Number             int64\n",
       "Property Address Street Dir               object\n",
       "Property Address Street Name              object\n",
       "Property Address Street Suffix            object\n",
       "Property Address Unit Number              object\n",
       "Location                                  object\n",
       "Design                                    object\n",
       "Quality                                   object\n",
       "Eff Yr Built                               int64\n",
       "Above Grd SF                               int64\n",
       "Basemt Tot SF                              int64\n",
       "Basemt Fin SF                              int64\n",
       "Basemt Unf SF                              int64\n",
       "Garage Type                               object\n",
       "Garage SF                                  int64\n",
       "Est Land SF                                int64\n",
       "Reception No                               int64\n",
       "Sale Date (Mon-Yr)                datetime64[ns]\n",
       "Sale Price                                 int64\n",
       "Time Adjust Sales Price                  float64\n",
       "Market Area                                int64\n",
       "dtype: object"
      ]
     },
     "execution_count": 36,
     "metadata": {},
     "output_type": "execute_result"
    }
   ],
   "source": [
    "X.dtypes"
   ]
  },
  {
   "cell_type": "markdown",
   "id": "ce7a8c9c",
   "metadata": {},
   "source": [
    "So we confirmed that 'Garage SF' is now numeric. Let's check unique values for Location, Design, Quality, Garage Type"
   ]
  },
  {
   "cell_type": "markdown",
   "id": "119d49cf",
   "metadata": {},
   "source": [
    "Let's check if data has any duplicates."
   ]
  },
  {
   "cell_type": "code",
   "execution_count": 43,
   "id": "785fa014",
   "metadata": {},
   "outputs": [
    {
     "data": {
      "text/html": [
       "<div>\n",
       "<style scoped>\n",
       "    .dataframe tbody tr th:only-of-type {\n",
       "        vertical-align: middle;\n",
       "    }\n",
       "\n",
       "    .dataframe tbody tr th {\n",
       "        vertical-align: top;\n",
       "    }\n",
       "\n",
       "    .dataframe thead th {\n",
       "        text-align: right;\n",
       "    }\n",
       "</style>\n",
       "<table border=\"1\" class=\"dataframe\">\n",
       "  <thead>\n",
       "    <tr style=\"text-align: right;\">\n",
       "      <th></th>\n",
       "      <th>Accout Number</th>\n",
       "      <th>Property Type</th>\n",
       "      <th>Property Address Street Number</th>\n",
       "      <th>Property Address Street Dir</th>\n",
       "      <th>Property Address Street Name</th>\n",
       "      <th>Property Address Street Suffix</th>\n",
       "      <th>Property Address Unit Number</th>\n",
       "      <th>Location</th>\n",
       "      <th>Design</th>\n",
       "      <th>Quality</th>\n",
       "      <th>...</th>\n",
       "      <th>Basemt Unf SF</th>\n",
       "      <th>Garage Type</th>\n",
       "      <th>Garage SF</th>\n",
       "      <th>Est Land SF</th>\n",
       "      <th>Reception No</th>\n",
       "      <th>Sale Date (Mon-Yr)</th>\n",
       "      <th>Sale Price</th>\n",
       "      <th>Time Adjust Sales Price</th>\n",
       "      <th>Market Area</th>\n",
       "      <th>Unincorporated</th>\n",
       "    </tr>\n",
       "  </thead>\n",
       "  <tbody>\n",
       "  </tbody>\n",
       "</table>\n",
       "<p>0 rows × 24 columns</p>\n",
       "</div>"
      ],
      "text/plain": [
       "Empty DataFrame\n",
       "Columns: [Accout Number, Property Type, Property Address Street Number, Property Address Street Dir, Property Address Street Name, Property Address Street Suffix, Property Address Unit Number, Location, Design, Quality, Eff Yr Built, Above Grd SF, Basemt Tot SF, Basemt Fin SF, Basemt Unf SF, Garage Type, Garage SF, Est Land SF, Reception No, Sale Date (Mon-Yr), Sale Price, Time Adjust Sales Price, Market Area, Unincorporated]\n",
       "Index: []\n",
       "\n",
       "[0 rows x 24 columns]"
      ]
     },
     "execution_count": 43,
     "metadata": {},
     "output_type": "execute_result"
    }
   ],
   "source": [
    "X[X.duplicated(subset=None, keep='first')]"
   ]
  },
  {
   "cell_type": "code",
   "execution_count": null,
   "id": "9c31f75f",
   "metadata": {},
   "outputs": [],
   "source": [
    "No duplicates detected. Very nice. "
   ]
  },
  {
   "cell_type": "code",
   "execution_count": null,
   "id": "f8afea76",
   "metadata": {},
   "outputs": [],
   "source": [
    "X.to_csv('data/clean_data.csv', index=False)"
   ]
  }
 ],
 "metadata": {
  "kernelspec": {
   "display_name": "Python 3 (ipykernel)",
   "language": "python",
   "name": "python3"
  },
  "language_info": {
   "codemirror_mode": {
    "name": "ipython",
    "version": 3
   },
   "file_extension": ".py",
   "mimetype": "text/x-python",
   "name": "python",
   "nbconvert_exporter": "python",
   "pygments_lexer": "ipython3",
   "version": "3.9.12"
  }
 },
 "nbformat": 4,
 "nbformat_minor": 5
}
