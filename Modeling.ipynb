{
 "cells": [
  {
   "cell_type": "markdown",
   "id": "f9560f29",
   "metadata": {},
   "source": [
    "# Modeling"
   ]
  },
  {
   "cell_type": "code",
   "execution_count": 1,
   "id": "15a35fe4",
   "metadata": {},
   "outputs": [],
   "source": [
    "import numpy as np \n",
    "import pandas as pd \n",
    "import matplotlib.pyplot as plt \n",
    "import seaborn as sns\n",
    "import statsmodels.api as sm\n",
    "from statsmodels.graphics.api import abline_plot # What does this do? Find out and type here.\n",
    "from sklearn.metrics import mean_squared_error, r2_score # What does this do? Find out and type here.\n",
    "from sklearn.model_selection import train_test_split #  What does this do? Find out and type here.\n",
    "from sklearn import linear_model, preprocessing\n",
    "from sklearn.preprocessing import StandardScaler\n",
    "from sklearn.preprocessing import FunctionTransformer\n",
    "from sklearn.linear_model import LinearRegression\n",
    "\n",
    "\n",
    "from sklearn import tree, metrics\n",
    "from io import StringIO  \n",
    "from IPython.display import Image  \n",
    "import pydotplus\n",
    "from sklearn.decomposition import PCA"
   ]
  },
  {
   "cell_type": "code",
   "execution_count": 2,
   "id": "68a6890d",
   "metadata": {},
   "outputs": [],
   "source": [
    "X = pd.read_csv('data/data_for_modeling.csv')"
   ]
  },
  {
   "cell_type": "code",
   "execution_count": 3,
   "id": "ccc7c219",
   "metadata": {},
   "outputs": [
    {
     "data": {
      "text/plain": [
       "Index(['Eff Yr Built', 'Above Grd SF', 'Basemt Tot SF', 'Basemt Fin SF',\n",
       "       'Garage SF', 'Est Land SF', 'Unincorporated', 'Quality_cat',\n",
       "       'Garage Attached', 'Design_1 Sty Townh', 'Design_1-Sty Twnhm Condo',\n",
       "       'Design_Bi Level', 'Design_Det 1 Sty Condo',\n",
       "       'Design_Det Mult Sty Condo', 'Design_Modular', 'Design_Multi Sty',\n",
       "       'Design_Multi Sty Condo', 'Design_Multi Sty Townh',\n",
       "       'Design_Mutli Sty Twnhm Condo', 'Design_Paired', 'Design_Patio',\n",
       "       'Design_Ranch', 'Design_Split level', 'Market Area_101',\n",
       "       'Market Area_102', 'Market Area_103', 'Market Area_104',\n",
       "       'Market Area_105', 'Market Area_106', 'Market Area_107',\n",
       "       'Market Area_108', 'Market Area_109', 'Market Area_401',\n",
       "       'Market Area_402', 'Market Area_403', 'Market Area_404',\n",
       "       'Market Area_405', 'Market Area_407', 'Market Area_501',\n",
       "       'Market Area_502', 'Market Area_503', 'Market Area_505',\n",
       "       'Market Area_506', 'Market Area_507', 'Market Area_630',\n",
       "       'Market Area_632', 'Market Area_633', 'Market Area_634',\n",
       "       'Time Adjust Sales Price'],\n",
       "      dtype='object')"
      ]
     },
     "execution_count": 3,
     "metadata": {},
     "output_type": "execute_result"
    }
   ],
   "source": [
    "X.columns"
   ]
  },
  {
   "cell_type": "markdown",
   "id": "c1b0add4",
   "metadata": {},
   "source": [
    "## Linear regression model\n",
    "1. Do we need to standardize the variables? No. In general, you do not need to center or standardize your data for multiple regression. Different explanatory variables are almost always on different scales (i.e., measured in different units). This is not a problem; the betas are estimated such that they convert the units of each explanatory variable into the units of the response variable appropriately. "
   ]
  },
  {
   "cell_type": "code",
   "execution_count": 4,
   "id": "bf85f1a0",
   "metadata": {},
   "outputs": [
    {
     "data": {
      "text/plain": [
       "(26837,)"
      ]
     },
     "execution_count": 4,
     "metadata": {},
     "output_type": "execute_result"
    }
   ],
   "source": [
    "Y = X['Time Adjust Sales Price']\n",
    "Y.shape"
   ]
  },
  {
   "cell_type": "code",
   "execution_count": 5,
   "id": "85ed6d0b",
   "metadata": {},
   "outputs": [],
   "source": [
    "features = X.loc[:,['Eff Yr Built', 'Above Grd SF', 'Basemt Tot SF', 'Basemt Fin SF',\n",
    "       'Garage SF', 'Est Land SF', 'Unincorporated', 'Quality_cat',\n",
    "       'Garage Attached', 'Design_1 Sty Townh', 'Design_1-Sty Twnhm Condo',\n",
    "       'Design_Bi Level', 'Design_Det 1 Sty Condo',\n",
    "       'Design_Det Mult Sty Condo', 'Design_Modular', 'Design_Multi Sty',\n",
    "       'Design_Multi Sty Condo', 'Design_Multi Sty Townh',\n",
    "       'Design_Mutli Sty Twnhm Condo', 'Design_Paired', 'Design_Patio',\n",
    "       'Design_Ranch', 'Design_Split level', 'Market Area_101',\n",
    "       'Market Area_102', 'Market Area_103', 'Market Area_104',\n",
    "       'Market Area_105', 'Market Area_106', 'Market Area_107',\n",
    "       'Market Area_108', 'Market Area_109', 'Market Area_401',\n",
    "       'Market Area_402', 'Market Area_403', 'Market Area_404',\n",
    "       'Market Area_405', 'Market Area_407', 'Market Area_501',\n",
    "       'Market Area_502', 'Market Area_503', 'Market Area_505',\n",
    "       'Market Area_506', 'Market Area_507', 'Market Area_630',\n",
    "       'Market Area_632', 'Market Area_633', 'Market Area_634' ]]"
   ]
  },
  {
   "cell_type": "code",
   "execution_count": 6,
   "id": "529a74d7",
   "metadata": {},
   "outputs": [],
   "source": [
    "features.head()\n",
    "X_train_const = sm.add_constant(features)"
   ]
  },
  {
   "cell_type": "code",
   "execution_count": 7,
   "id": "f055c7de",
   "metadata": {},
   "outputs": [],
   "source": [
    "X_train, X_test, y_train, y_test = train_test_split(X_train_const, Y, test_size = 0.25, train_size = 0.75)"
   ]
  },
  {
   "cell_type": "code",
   "execution_count": 8,
   "id": "02a61160",
   "metadata": {},
   "outputs": [
    {
     "name": "stdout",
     "output_type": "stream",
     "text": [
      "(20127, 49)\n",
      "Index(['const', 'Eff Yr Built', 'Above Grd SF', 'Basemt Tot SF',\n",
      "       'Basemt Fin SF', 'Garage SF', 'Est Land SF', 'Unincorporated',\n",
      "       'Quality_cat', 'Garage Attached', 'Design_1 Sty Townh',\n",
      "       'Design_1-Sty Twnhm Condo', 'Design_Bi Level', 'Design_Det 1 Sty Condo',\n",
      "       'Design_Det Mult Sty Condo', 'Design_Modular', 'Design_Multi Sty',\n",
      "       'Design_Multi Sty Condo', 'Design_Multi Sty Townh',\n",
      "       'Design_Mutli Sty Twnhm Condo', 'Design_Paired', 'Design_Patio',\n",
      "       'Design_Ranch', 'Design_Split level', 'Market Area_101',\n",
      "       'Market Area_102', 'Market Area_103', 'Market Area_104',\n",
      "       'Market Area_105', 'Market Area_106', 'Market Area_107',\n",
      "       'Market Area_108', 'Market Area_109', 'Market Area_401',\n",
      "       'Market Area_402', 'Market Area_403', 'Market Area_404',\n",
      "       'Market Area_405', 'Market Area_407', 'Market Area_501',\n",
      "       'Market Area_502', 'Market Area_503', 'Market Area_505',\n",
      "       'Market Area_506', 'Market Area_507', 'Market Area_630',\n",
      "       'Market Area_632', 'Market Area_633', 'Market Area_634'],\n",
      "      dtype='object')\n"
     ]
    }
   ],
   "source": [
    "print(X_train.shape)\n",
    "print(X_test.columns)"
   ]
  },
  {
   "cell_type": "code",
   "execution_count": 9,
   "id": "10787d4d",
   "metadata": {},
   "outputs": [],
   "source": [
    "model = sm.OLS(y_train, X_train)\n",
    "results = model.fit()"
   ]
  },
  {
   "cell_type": "code",
   "execution_count": 10,
   "id": "8a7aebb1",
   "metadata": {},
   "outputs": [
    {
     "data": {
      "text/plain": [
       "<statsmodels.regression.linear_model.RegressionResultsWrapper at 0x7f7a2941d3d0>"
      ]
     },
     "execution_count": 10,
     "metadata": {},
     "output_type": "execute_result"
    }
   ],
   "source": [
    "results"
   ]
  },
  {
   "cell_type": "code",
   "execution_count": 11,
   "id": "d57d57d1",
   "metadata": {},
   "outputs": [
    {
     "data": {
      "text/html": [
       "<table class=\"simpletable\">\n",
       "<caption>OLS Regression Results</caption>\n",
       "<tr>\n",
       "  <th>Dep. Variable:</th>    <td>Time Adjust Sales Price</td> <th>  R-squared:         </th>  <td>   0.767</td>  \n",
       "</tr>\n",
       "<tr>\n",
       "  <th>Model:</th>                      <td>OLS</td>           <th>  Adj. R-squared:    </th>  <td>   0.767</td>  \n",
       "</tr>\n",
       "<tr>\n",
       "  <th>Method:</th>                <td>Least Squares</td>      <th>  F-statistic:       </th>  <td>   1439.</td>  \n",
       "</tr>\n",
       "<tr>\n",
       "  <th>Date:</th>                <td>Mon, 13 Mar 2023</td>     <th>  Prob (F-statistic):</th>   <td>  0.00</td>   \n",
       "</tr>\n",
       "<tr>\n",
       "  <th>Time:</th>                    <td>10:38:13</td>         <th>  Log-Likelihood:    </th> <td>-2.7596e+05</td>\n",
       "</tr>\n",
       "<tr>\n",
       "  <th>No. Observations:</th>         <td> 20127</td>          <th>  AIC:               </th>  <td>5.520e+05</td> \n",
       "</tr>\n",
       "<tr>\n",
       "  <th>Df Residuals:</th>             <td> 20080</td>          <th>  BIC:               </th>  <td>5.524e+05</td> \n",
       "</tr>\n",
       "<tr>\n",
       "  <th>Df Model:</th>                 <td>    46</td>          <th>                     </th>      <td> </td>     \n",
       "</tr>\n",
       "<tr>\n",
       "  <th>Covariance Type:</th>         <td>nonrobust</td>        <th>                     </th>      <td> </td>     \n",
       "</tr>\n",
       "</table>\n",
       "<table class=\"simpletable\">\n",
       "<tr>\n",
       "                <td></td>                  <th>coef</th>     <th>std err</th>      <th>t</th>      <th>P>|t|</th>  <th>[0.025</th>    <th>0.975]</th>  \n",
       "</tr>\n",
       "<tr>\n",
       "  <th>const</th>                        <td>-2.851e+06</td> <td>  2.5e+05</td> <td>  -11.401</td> <td> 0.000</td> <td>-3.34e+06</td> <td>-2.36e+06</td>\n",
       "</tr>\n",
       "<tr>\n",
       "  <th>Eff Yr Built</th>                 <td> 1646.9162</td> <td>  138.170</td> <td>   11.919</td> <td> 0.000</td> <td> 1376.091</td> <td> 1917.741</td>\n",
       "</tr>\n",
       "<tr>\n",
       "  <th>Above Grd SF</th>                 <td>  183.4900</td> <td>    3.789</td> <td>   48.430</td> <td> 0.000</td> <td>  176.064</td> <td>  190.916</td>\n",
       "</tr>\n",
       "<tr>\n",
       "  <th>Basemt Tot SF</th>                <td>  -29.4330</td> <td>    4.150</td> <td>   -7.093</td> <td> 0.000</td> <td>  -37.567</td> <td>  -21.299</td>\n",
       "</tr>\n",
       "<tr>\n",
       "  <th>Basemt Fin SF</th>                <td>   96.8122</td> <td>    4.008</td> <td>   24.157</td> <td> 0.000</td> <td>   88.957</td> <td>  104.667</td>\n",
       "</tr>\n",
       "<tr>\n",
       "  <th>Garage SF</th>                    <td>   48.1595</td> <td>    3.567</td> <td>   13.500</td> <td> 0.000</td> <td>   41.167</td> <td>   55.152</td>\n",
       "</tr>\n",
       "<tr>\n",
       "  <th>Est Land SF</th>                  <td>    2.2364</td> <td>    0.125</td> <td>   17.928</td> <td> 0.000</td> <td>    1.992</td> <td>    2.481</td>\n",
       "</tr>\n",
       "<tr>\n",
       "  <th>Unincorporated</th>               <td> 8.764e+04</td> <td> 1.02e+04</td> <td>    8.633</td> <td> 0.000</td> <td> 6.77e+04</td> <td> 1.08e+05</td>\n",
       "</tr>\n",
       "<tr>\n",
       "  <th>Quality_cat</th>                  <td> 6.019e+04</td> <td> 1162.087</td> <td>   51.799</td> <td> 0.000</td> <td> 5.79e+04</td> <td> 6.25e+04</td>\n",
       "</tr>\n",
       "<tr>\n",
       "  <th>Garage Attached</th>              <td> -6.57e+04</td> <td> 4593.417</td> <td>  -14.302</td> <td> 0.000</td> <td>-7.47e+04</td> <td>-5.67e+04</td>\n",
       "</tr>\n",
       "<tr>\n",
       "  <th>Design_1 Sty Townh</th>           <td>-1.373e+05</td> <td> 3.48e+04</td> <td>   -3.944</td> <td> 0.000</td> <td>-2.05e+05</td> <td> -6.9e+04</td>\n",
       "</tr>\n",
       "<tr>\n",
       "  <th>Design_1-Sty Twnhm Condo</th>     <td> 4.997e+04</td> <td> 1.82e+04</td> <td>    2.743</td> <td> 0.006</td> <td> 1.43e+04</td> <td> 8.57e+04</td>\n",
       "</tr>\n",
       "<tr>\n",
       "  <th>Design_Bi Level</th>              <td>-4.177e+04</td> <td> 2.12e+04</td> <td>   -1.967</td> <td> 0.049</td> <td>-8.34e+04</td> <td> -157.462</td>\n",
       "</tr>\n",
       "<tr>\n",
       "  <th>Design_Det 1 Sty Condo</th>       <td> 1.474e+05</td> <td> 1.26e+05</td> <td>    1.166</td> <td> 0.244</td> <td>   -1e+05</td> <td> 3.95e+05</td>\n",
       "</tr>\n",
       "<tr>\n",
       "  <th>Design_Det Mult Sty Condo</th>    <td> 3.326e+05</td> <td> 4.21e+04</td> <td>    7.894</td> <td> 0.000</td> <td>  2.5e+05</td> <td> 4.15e+05</td>\n",
       "</tr>\n",
       "<tr>\n",
       "  <th>Design_Modular</th>               <td>-1.863e+05</td> <td> 7.36e+04</td> <td>   -2.530</td> <td> 0.011</td> <td>-3.31e+05</td> <td> -4.2e+04</td>\n",
       "</tr>\n",
       "<tr>\n",
       "  <th>Design_Multi Sty</th>             <td>-1.458e+05</td> <td> 1.96e+04</td> <td>   -7.433</td> <td> 0.000</td> <td>-1.84e+05</td> <td>-1.07e+05</td>\n",
       "</tr>\n",
       "<tr>\n",
       "  <th>Design_Multi Sty Condo</th>       <td> 5.718e+04</td> <td> 9458.819</td> <td>    6.045</td> <td> 0.000</td> <td> 3.86e+04</td> <td> 7.57e+04</td>\n",
       "</tr>\n",
       "<tr>\n",
       "  <th>Design_Multi Sty Townh</th>       <td>-1.805e+05</td> <td> 3.22e+04</td> <td>   -5.600</td> <td> 0.000</td> <td>-2.44e+05</td> <td>-1.17e+05</td>\n",
       "</tr>\n",
       "<tr>\n",
       "  <th>Design_Mutli Sty Twnhm Condo</th> <td> 4.227e+04</td> <td> 1.02e+04</td> <td>    4.153</td> <td> 0.000</td> <td> 2.23e+04</td> <td> 6.22e+04</td>\n",
       "</tr>\n",
       "<tr>\n",
       "  <th>Design_Paired</th>                <td>-1.561e+05</td> <td> 2.44e+04</td> <td>   -6.402</td> <td> 0.000</td> <td>-2.04e+05</td> <td>-1.08e+05</td>\n",
       "</tr>\n",
       "<tr>\n",
       "  <th>Design_Patio</th>                 <td>-1.801e+05</td> <td> 2.59e+04</td> <td>   -6.968</td> <td> 0.000</td> <td>-2.31e+05</td> <td>-1.29e+05</td>\n",
       "</tr>\n",
       "<tr>\n",
       "  <th>Design_Ranch</th>                 <td>-8.842e+04</td> <td> 1.92e+04</td> <td>   -4.600</td> <td> 0.000</td> <td>-1.26e+05</td> <td>-5.07e+04</td>\n",
       "</tr>\n",
       "<tr>\n",
       "  <th>Design_Split level</th>           <td>-5.933e+04</td> <td>    2e+04</td> <td>   -2.972</td> <td> 0.003</td> <td>-9.85e+04</td> <td>-2.02e+04</td>\n",
       "</tr>\n",
       "<tr>\n",
       "  <th>Market Area_101</th>              <td> 7.642e+05</td> <td> 1.42e+04</td> <td>   53.869</td> <td> 0.000</td> <td> 7.36e+05</td> <td> 7.92e+05</td>\n",
       "</tr>\n",
       "<tr>\n",
       "  <th>Market Area_102</th>              <td> 2.165e+05</td> <td>  1.4e+04</td> <td>   15.444</td> <td> 0.000</td> <td> 1.89e+05</td> <td> 2.44e+05</td>\n",
       "</tr>\n",
       "<tr>\n",
       "  <th>Market Area_103</th>              <td> 5.399e+05</td> <td> 1.41e+04</td> <td>   38.308</td> <td> 0.000</td> <td> 5.12e+05</td> <td> 5.68e+05</td>\n",
       "</tr>\n",
       "<tr>\n",
       "  <th>Market Area_104</th>              <td> 5.879e+04</td> <td> 1.74e+04</td> <td>    3.376</td> <td> 0.001</td> <td> 2.47e+04</td> <td> 9.29e+04</td>\n",
       "</tr>\n",
       "<tr>\n",
       "  <th>Market Area_105</th>              <td> 5147.4002</td> <td>  1.4e+04</td> <td>    0.367</td> <td> 0.714</td> <td>-2.24e+04</td> <td> 3.27e+04</td>\n",
       "</tr>\n",
       "<tr>\n",
       "  <th>Market Area_106</th>              <td> 3.618e+05</td> <td> 1.42e+04</td> <td>   25.487</td> <td> 0.000</td> <td> 3.34e+05</td> <td>  3.9e+05</td>\n",
       "</tr>\n",
       "<tr>\n",
       "  <th>Market Area_107</th>              <td> 4.338e+05</td> <td> 1.48e+04</td> <td>   29.253</td> <td> 0.000</td> <td> 4.05e+05</td> <td> 4.63e+05</td>\n",
       "</tr>\n",
       "<tr>\n",
       "  <th>Market Area_108</th>              <td>-1.135e+05</td> <td>  2.9e+04</td> <td>   -3.909</td> <td> 0.000</td> <td> -1.7e+05</td> <td>-5.66e+04</td>\n",
       "</tr>\n",
       "<tr>\n",
       "  <th>Market Area_109</th>              <td> 9.927e+04</td> <td> 3.17e+04</td> <td>    3.136</td> <td> 0.002</td> <td> 3.72e+04</td> <td> 1.61e+05</td>\n",
       "</tr>\n",
       "<tr>\n",
       "  <th>Market Area_401</th>              <td>-2.574e+05</td> <td> 1.55e+04</td> <td>  -16.643</td> <td> 0.000</td> <td>-2.88e+05</td> <td>-2.27e+05</td>\n",
       "</tr>\n",
       "<tr>\n",
       "  <th>Market Area_402</th>              <td>-2.906e+05</td> <td> 1.33e+04</td> <td>  -21.844</td> <td> 0.000</td> <td>-3.17e+05</td> <td>-2.64e+05</td>\n",
       "</tr>\n",
       "<tr>\n",
       "  <th>Market Area_403</th>              <td>-1.205e+05</td> <td> 1.22e+04</td> <td>   -9.839</td> <td> 0.000</td> <td>-1.45e+05</td> <td>-9.65e+04</td>\n",
       "</tr>\n",
       "<tr>\n",
       "  <th>Market Area_404</th>              <td>-4.185e+05</td> <td> 1.31e+04</td> <td>  -31.847</td> <td> 0.000</td> <td>-4.44e+05</td> <td>-3.93e+05</td>\n",
       "</tr>\n",
       "<tr>\n",
       "  <th>Market Area_405</th>              <td> -2.85e+05</td> <td> 1.17e+04</td> <td>  -24.383</td> <td> 0.000</td> <td>-3.08e+05</td> <td>-2.62e+05</td>\n",
       "</tr>\n",
       "<tr>\n",
       "  <th>Market Area_407</th>              <td>-2.991e+05</td> <td> 2.75e+04</td> <td>  -10.874</td> <td> 0.000</td> <td>-3.53e+05</td> <td>-2.45e+05</td>\n",
       "</tr>\n",
       "<tr>\n",
       "  <th>Market Area_501</th>              <td>-2.452e+05</td> <td> 1.82e+04</td> <td>  -13.469</td> <td> 0.000</td> <td>-2.81e+05</td> <td> -2.1e+05</td>\n",
       "</tr>\n",
       "<tr>\n",
       "  <th>Market Area_502</th>              <td>-2.872e+05</td> <td>  1.1e+04</td> <td>  -26.175</td> <td> 0.000</td> <td>-3.09e+05</td> <td>-2.66e+05</td>\n",
       "</tr>\n",
       "<tr>\n",
       "  <th>Market Area_503</th>              <td>-3.261e+05</td> <td> 1.31e+04</td> <td>  -24.889</td> <td> 0.000</td> <td>-3.52e+05</td> <td>   -3e+05</td>\n",
       "</tr>\n",
       "<tr>\n",
       "  <th>Market Area_505</th>              <td>-3.508e+05</td> <td>  2.7e+04</td> <td>  -12.983</td> <td> 0.000</td> <td>-4.04e+05</td> <td>-2.98e+05</td>\n",
       "</tr>\n",
       "<tr>\n",
       "  <th>Market Area_506</th>              <td>-2.796e+05</td> <td> 2.79e+04</td> <td>  -10.018</td> <td> 0.000</td> <td>-3.34e+05</td> <td>-2.25e+05</td>\n",
       "</tr>\n",
       "<tr>\n",
       "  <th>Market Area_507</th>              <td>-3.816e+05</td> <td> 1.21e+04</td> <td>  -31.505</td> <td> 0.000</td> <td>-4.05e+05</td> <td>-3.58e+05</td>\n",
       "</tr>\n",
       "<tr>\n",
       "  <th>Market Area_630</th>              <td>-3.128e+05</td> <td> 2.53e+04</td> <td>  -12.374</td> <td> 0.000</td> <td>-3.62e+05</td> <td>-2.63e+05</td>\n",
       "</tr>\n",
       "<tr>\n",
       "  <th>Market Area_632</th>              <td>-4.386e+05</td> <td> 2.61e+04</td> <td>  -16.798</td> <td> 0.000</td> <td> -4.9e+05</td> <td>-3.87e+05</td>\n",
       "</tr>\n",
       "<tr>\n",
       "  <th>Market Area_633</th>              <td>-4.752e+05</td> <td> 2.79e+04</td> <td>  -17.024</td> <td> 0.000</td> <td> -5.3e+05</td> <td> -4.2e+05</td>\n",
       "</tr>\n",
       "<tr>\n",
       "  <th>Market Area_634</th>              <td>-4.487e+05</td> <td> 5.31e+04</td> <td>   -8.444</td> <td> 0.000</td> <td>-5.53e+05</td> <td>-3.45e+05</td>\n",
       "</tr>\n",
       "</table>\n",
       "<table class=\"simpletable\">\n",
       "<tr>\n",
       "  <th>Omnibus:</th>       <td>25779.537</td> <th>  Durbin-Watson:     </th>   <td>   2.005</td>  \n",
       "</tr>\n",
       "<tr>\n",
       "  <th>Prob(Omnibus):</th>  <td> 0.000</td>   <th>  Jarque-Bera (JB):  </th> <td>11283047.422</td>\n",
       "</tr>\n",
       "<tr>\n",
       "  <th>Skew:</th>           <td> 6.763</td>   <th>  Prob(JB):          </th>   <td>    0.00</td>  \n",
       "</tr>\n",
       "<tr>\n",
       "  <th>Kurtosis:</th>       <td>118.201</td>  <th>  Cond. No.          </th>   <td>1.21e+16</td>  \n",
       "</tr>\n",
       "</table><br/><br/>Notes:<br/>[1] Standard Errors assume that the covariance matrix of the errors is correctly specified.<br/>[2] The smallest eigenvalue is 3.11e-20. This might indicate that there are<br/>strong multicollinearity problems or that the design matrix is singular."
      ],
      "text/plain": [
       "<class 'statsmodels.iolib.summary.Summary'>\n",
       "\"\"\"\n",
       "                               OLS Regression Results                              \n",
       "===================================================================================\n",
       "Dep. Variable:     Time Adjust Sales Price   R-squared:                       0.767\n",
       "Model:                                 OLS   Adj. R-squared:                  0.767\n",
       "Method:                      Least Squares   F-statistic:                     1439.\n",
       "Date:                     Mon, 13 Mar 2023   Prob (F-statistic):               0.00\n",
       "Time:                             10:38:13   Log-Likelihood:            -2.7596e+05\n",
       "No. Observations:                    20127   AIC:                         5.520e+05\n",
       "Df Residuals:                        20080   BIC:                         5.524e+05\n",
       "Df Model:                               46                                         \n",
       "Covariance Type:                 nonrobust                                         \n",
       "================================================================================================\n",
       "                                   coef    std err          t      P>|t|      [0.025      0.975]\n",
       "------------------------------------------------------------------------------------------------\n",
       "const                        -2.851e+06    2.5e+05    -11.401      0.000   -3.34e+06   -2.36e+06\n",
       "Eff Yr Built                  1646.9162    138.170     11.919      0.000    1376.091    1917.741\n",
       "Above Grd SF                   183.4900      3.789     48.430      0.000     176.064     190.916\n",
       "Basemt Tot SF                  -29.4330      4.150     -7.093      0.000     -37.567     -21.299\n",
       "Basemt Fin SF                   96.8122      4.008     24.157      0.000      88.957     104.667\n",
       "Garage SF                       48.1595      3.567     13.500      0.000      41.167      55.152\n",
       "Est Land SF                      2.2364      0.125     17.928      0.000       1.992       2.481\n",
       "Unincorporated                8.764e+04   1.02e+04      8.633      0.000    6.77e+04    1.08e+05\n",
       "Quality_cat                   6.019e+04   1162.087     51.799      0.000    5.79e+04    6.25e+04\n",
       "Garage Attached               -6.57e+04   4593.417    -14.302      0.000   -7.47e+04   -5.67e+04\n",
       "Design_1 Sty Townh           -1.373e+05   3.48e+04     -3.944      0.000   -2.05e+05    -6.9e+04\n",
       "Design_1-Sty Twnhm Condo      4.997e+04   1.82e+04      2.743      0.006    1.43e+04    8.57e+04\n",
       "Design_Bi Level              -4.177e+04   2.12e+04     -1.967      0.049   -8.34e+04    -157.462\n",
       "Design_Det 1 Sty Condo        1.474e+05   1.26e+05      1.166      0.244      -1e+05    3.95e+05\n",
       "Design_Det Mult Sty Condo     3.326e+05   4.21e+04      7.894      0.000     2.5e+05    4.15e+05\n",
       "Design_Modular               -1.863e+05   7.36e+04     -2.530      0.011   -3.31e+05    -4.2e+04\n",
       "Design_Multi Sty             -1.458e+05   1.96e+04     -7.433      0.000   -1.84e+05   -1.07e+05\n",
       "Design_Multi Sty Condo        5.718e+04   9458.819      6.045      0.000    3.86e+04    7.57e+04\n",
       "Design_Multi Sty Townh       -1.805e+05   3.22e+04     -5.600      0.000   -2.44e+05   -1.17e+05\n",
       "Design_Mutli Sty Twnhm Condo  4.227e+04   1.02e+04      4.153      0.000    2.23e+04    6.22e+04\n",
       "Design_Paired                -1.561e+05   2.44e+04     -6.402      0.000   -2.04e+05   -1.08e+05\n",
       "Design_Patio                 -1.801e+05   2.59e+04     -6.968      0.000   -2.31e+05   -1.29e+05\n",
       "Design_Ranch                 -8.842e+04   1.92e+04     -4.600      0.000   -1.26e+05   -5.07e+04\n",
       "Design_Split level           -5.933e+04      2e+04     -2.972      0.003   -9.85e+04   -2.02e+04\n",
       "Market Area_101               7.642e+05   1.42e+04     53.869      0.000    7.36e+05    7.92e+05\n",
       "Market Area_102               2.165e+05    1.4e+04     15.444      0.000    1.89e+05    2.44e+05\n",
       "Market Area_103               5.399e+05   1.41e+04     38.308      0.000    5.12e+05    5.68e+05\n",
       "Market Area_104               5.879e+04   1.74e+04      3.376      0.001    2.47e+04    9.29e+04\n",
       "Market Area_105               5147.4002    1.4e+04      0.367      0.714   -2.24e+04    3.27e+04\n",
       "Market Area_106               3.618e+05   1.42e+04     25.487      0.000    3.34e+05     3.9e+05\n",
       "Market Area_107               4.338e+05   1.48e+04     29.253      0.000    4.05e+05    4.63e+05\n",
       "Market Area_108              -1.135e+05    2.9e+04     -3.909      0.000    -1.7e+05   -5.66e+04\n",
       "Market Area_109               9.927e+04   3.17e+04      3.136      0.002    3.72e+04    1.61e+05\n",
       "Market Area_401              -2.574e+05   1.55e+04    -16.643      0.000   -2.88e+05   -2.27e+05\n",
       "Market Area_402              -2.906e+05   1.33e+04    -21.844      0.000   -3.17e+05   -2.64e+05\n",
       "Market Area_403              -1.205e+05   1.22e+04     -9.839      0.000   -1.45e+05   -9.65e+04\n",
       "Market Area_404              -4.185e+05   1.31e+04    -31.847      0.000   -4.44e+05   -3.93e+05\n",
       "Market Area_405               -2.85e+05   1.17e+04    -24.383      0.000   -3.08e+05   -2.62e+05\n",
       "Market Area_407              -2.991e+05   2.75e+04    -10.874      0.000   -3.53e+05   -2.45e+05\n",
       "Market Area_501              -2.452e+05   1.82e+04    -13.469      0.000   -2.81e+05    -2.1e+05\n",
       "Market Area_502              -2.872e+05    1.1e+04    -26.175      0.000   -3.09e+05   -2.66e+05\n",
       "Market Area_503              -3.261e+05   1.31e+04    -24.889      0.000   -3.52e+05      -3e+05\n",
       "Market Area_505              -3.508e+05    2.7e+04    -12.983      0.000   -4.04e+05   -2.98e+05\n",
       "Market Area_506              -2.796e+05   2.79e+04    -10.018      0.000   -3.34e+05   -2.25e+05\n",
       "Market Area_507              -3.816e+05   1.21e+04    -31.505      0.000   -4.05e+05   -3.58e+05\n",
       "Market Area_630              -3.128e+05   2.53e+04    -12.374      0.000   -3.62e+05   -2.63e+05\n",
       "Market Area_632              -4.386e+05   2.61e+04    -16.798      0.000    -4.9e+05   -3.87e+05\n",
       "Market Area_633              -4.752e+05   2.79e+04    -17.024      0.000    -5.3e+05    -4.2e+05\n",
       "Market Area_634              -4.487e+05   5.31e+04     -8.444      0.000   -5.53e+05   -3.45e+05\n",
       "==============================================================================\n",
       "Omnibus:                    25779.537   Durbin-Watson:                   2.005\n",
       "Prob(Omnibus):                  0.000   Jarque-Bera (JB):         11283047.422\n",
       "Skew:                           6.763   Prob(JB):                         0.00\n",
       "Kurtosis:                     118.201   Cond. No.                     1.21e+16\n",
       "==============================================================================\n",
       "\n",
       "Notes:\n",
       "[1] Standard Errors assume that the covariance matrix of the errors is correctly specified.\n",
       "[2] The smallest eigenvalue is 3.11e-20. This might indicate that there are\n",
       "strong multicollinearity problems or that the design matrix is singular.\n",
       "\"\"\""
      ]
     },
     "execution_count": 11,
     "metadata": {},
     "output_type": "execute_result"
    }
   ],
   "source": [
    "results.summary()"
   ]
  },
  {
   "cell_type": "markdown",
   "id": "e123a644",
   "metadata": {},
   "source": [
    "T-stats look good for all coefficients except unincorporated. https://bouldercounty.gov/government/about-boulder-county/unincorporated-towns/\n",
    "\n",
    "The Durbin-Watson is right around 2 and between 1.5 and 2.5, so autocorrelation is likely not a cause for concern.\n",
    "R squared is better than with scaled variables so definitely don't need it. "
   ]
  },
  {
   "cell_type": "code",
   "execution_count": 12,
   "id": "dadec912",
   "metadata": {},
   "outputs": [],
   "source": [
    "residuals = np.asarray(y_test - results.predict(X_test))"
   ]
  },
  {
   "cell_type": "code",
   "execution_count": 13,
   "id": "9642c7e7",
   "metadata": {},
   "outputs": [
    {
     "data": {
      "image/png": "[encoded data removed]",
      "text/plain": [
       "<Figure size 432x288 with 1 Axes>"
      ]
     },
     "metadata": {
      "needs_background": "light"
     },
     "output_type": "display_data"
    }
   ],
   "source": [
    "plt.plot(residuals, 'bo')\n",
    "plt.show()"
   ]
  },
  {
   "cell_type": "markdown",
   "id": "1293cc49",
   "metadata": {},
   "source": [
    "Now let's look at the residual's qqplot. "
   ]
  },
  {
   "cell_type": "code",
   "execution_count": 14,
   "id": "40b17055",
   "metadata": {},
   "outputs": [
    {
     "data": {
      "image/png": "[encoded data removed]",
      "text/plain": [
       "<Figure size 432x288 with 1 Axes>"
      ]
     },
     "metadata": {
      "needs_background": "light"
     },
     "output_type": "display_data"
    }
   ],
   "source": [
    "\n",
    "residuals.shape\n",
    "reshaped =np.reshape(residuals, (-1, 1))\n",
    "scaler = StandardScaler()\n",
    "scaler.fit(reshaped)\n",
    "stand_resid =scaler.transform(reshaped)\n",
    "fig = sm.qqplot(stand_resid, line='45')\n",
    "plt.show()"
   ]
  },
  {
   "cell_type": "markdown",
   "id": "6d769441",
   "metadata": {},
   "source": [
    "Residuals do not seem to be normally distributed. "
   ]
  },
  {
   "cell_type": "code",
   "execution_count": 15,
   "id": "a408f7f9",
   "metadata": {},
   "outputs": [
    {
     "data": {
      "image/png": "[encoded data removed]",
      "text/plain": [
       "<Figure size 432x288 with 1 Axes>"
      ]
     },
     "metadata": {
      "needs_background": "light"
     },
     "output_type": "display_data"
    }
   ],
   "source": [
    "# Plot the predictions\n",
    "plt.figure()\n",
    "\n",
    "# Build a scatterplot\n",
    "\n",
    "x = np.linspace(0,7000000,)\n",
    "plt.plot(x,x, color = 'r')\n",
    "plt.ylim((0,7000000))\n",
    "plt.xlim((0,7000000))\n",
    "plt.scatter(y_test, results.predict(X_test))\n",
    "\n",
    "# Label it nicely\n",
    "plt.xlabel('actual values')\n",
    "plt.ylabel('predicted values')\n",
    "plt.title('Predicted price vs actual price')\n",
    "plt.show()"
   ]
  },
  {
   "cell_type": "markdown",
   "id": "de6efbae",
   "metadata": {},
   "source": [
    "Clearly, there is a problem. The second half of the dataset where the problems start showing are the expensive properties, which are hard to model using given variables. "
   ]
  },
  {
   "cell_type": "markdown",
   "id": "7c4652c0",
   "metadata": {},
   "source": [
    "### Decision tree"
   ]
  },
  {
   "cell_type": "code",
   "execution_count": 16,
   "id": "f05ff272",
   "metadata": {},
   "outputs": [],
   "source": [
    "X_test = X_test.iloc[:,1:]\n"
   ]
  },
  {
   "cell_type": "code",
   "execution_count": 17,
   "id": "c9c25904",
   "metadata": {},
   "outputs": [],
   "source": [
    "X_train =X_train.iloc[:,1:]"
   ]
  },
  {
   "cell_type": "markdown",
   "id": "e0f38155",
   "metadata": {},
   "source": [
    "### PCA"
   ]
  },
  {
   "cell_type": "code",
   "execution_count": 18,
   "id": "1704886d",
   "metadata": {},
   "outputs": [
    {
     "name": "stdout",
     "output_type": "stream",
     "text": [
      "(20127, 15)\n"
     ]
    }
   ],
   "source": [
    "scaling=StandardScaler()\n",
    " \n",
    "# Use fit and transform method\n",
    "scaling.fit(X_train)\n",
    "Scaled_data=scaling.transform(X_train)\n",
    " \n",
    "# Set the n_components=3\n",
    "principal=PCA(n_components=15)\n",
    "principal.fit(Scaled_data)\n",
    "x=principal.transform(Scaled_data)\n",
    " \n",
    "# Check the dimensions of data after PCA\n",
    "print(x.shape)"
   ]
  },
  {
   "cell_type": "code",
   "execution_count": 19,
   "id": "e7323206",
   "metadata": {},
   "outputs": [
    {
     "data": {
      "text/plain": [
       "array([ 2.66104839e-01,  4.19841148e-01,  3.92276534e-01,  2.47912831e-01,\n",
       "        2.94500884e-02,  1.56367833e-01,  2.09997870e-02,  3.40876863e-01,\n",
       "        2.88307249e-01, -2.37144661e-02, -5.72199290e-02, -2.50562532e-02,\n",
       "       -4.32781506e-03, -1.04927757e-02, -9.16457572e-03,  3.25950868e-01,\n",
       "       -1.27197848e-01, -9.08884201e-02, -9.67842550e-02,  2.11502414e-02,\n",
       "        1.21134475e-02, -2.03153296e-02, -2.11807367e-02,  1.08815545e-02,\n",
       "        5.95370307e-02,  4.69176088e-02, -3.09303599e-02,  6.31774283e-05,\n",
       "        2.38832961e-03, -1.50989038e-02, -6.13868556e-02, -3.66126298e-02,\n",
       "        5.20673808e-02,  9.09088660e-02,  3.84059050e-02,  1.39667898e-01,\n",
       "        8.08951234e-02, -4.22560078e-02,  8.51004131e-02, -7.37165534e-02,\n",
       "        1.30008247e-01,  4.17253951e-02, -5.25387051e-02,  7.10695893e-02,\n",
       "       -2.17180174e-01, -1.27265946e-01, -1.05621441e-01, -1.47642662e-02])"
      ]
     },
     "execution_count": 19,
     "metadata": {},
     "output_type": "execute_result"
    }
   ],
   "source": [
    "#Check the values of eigen vectors\n",
    "# prodeced by principal components\n",
    "principal.components_[0]"
   ]
  },
  {
   "cell_type": "code",
   "execution_count": 20,
   "id": "ac181417",
   "metadata": {},
   "outputs": [
    {
     "data": {
      "text/plain": [
       "Text(0, 0.5, 'pc2')"
      ]
     },
     "execution_count": 20,
     "metadata": {},
     "output_type": "execute_result"
    },
    {
     "data": {
      "image/png": "[encoded data removed]",
      "text/plain": [
       "<Figure size 720x720 with 1 Axes>"
      ]
     },
     "metadata": {
      "needs_background": "light"
     },
     "output_type": "display_data"
    }
   ],
   "source": [
    "plt.figure(figsize=(10,10))\n",
    "plt.scatter(x[:,0], x[:,1])\n",
    "\n",
    "plt.xlabel('pc1')\n",
    "plt.ylabel('pc2')"
   ]
  },
  {
   "cell_type": "code",
   "execution_count": 21,
   "id": "a8730167",
   "metadata": {},
   "outputs": [
    {
     "data": {
      "text/plain": [
       "Text(0.5, 0, 'PC3')"
      ]
     },
     "execution_count": 21,
     "metadata": {},
     "output_type": "execute_result"
    },
    {
     "data": {
      "image/png": "[encoded data removed]",
      "text/plain": [
       "<Figure size 720x720 with 1 Axes>"
      ]
     },
     "metadata": {
      "needs_background": "light"
     },
     "output_type": "display_data"
    }
   ],
   "source": [
    "from mpl_toolkits.mplot3d import Axes3D\n",
    "fig = plt.figure(figsize=(10,10))\n",
    " \n",
    "# choose projection 3d for creating a 3d graph\n",
    "axis = fig.add_subplot(111, projection='3d')\n",
    " \n",
    "# x[:,0]is pc1,x[:,1] is pc2 while x[:,2] is pc3\n",
    "axis.scatter(x[:,0],x[:,1],x[:,2], c=y_train, cmap='plasma')\n",
    "axis.set_xlabel(\"PC1\", fontsize=10)\n",
    "axis.set_ylabel(\"PC2\", fontsize=10)\n",
    "axis.set_zlabel(\"PC3\", fontsize=10)"
   ]
  },
  {
   "cell_type": "code",
   "execution_count": 22,
   "id": "889c3931",
   "metadata": {},
   "outputs": [
    {
     "name": "stdout",
     "output_type": "stream",
     "text": [
      "[0.0855012  0.04877333 0.04545494 0.03902953 0.03196122 0.02934576\n",
      " 0.02793246 0.02703913 0.02519121 0.02402458 0.02366941 0.0232254\n",
      " 0.02286197 0.02256924 0.02178148]\n"
     ]
    }
   ],
   "source": [
    "# check how much variance is explained by each principal component\n",
    "print(principal.explained_variance_ratio_)"
   ]
  },
  {
   "cell_type": "markdown",
   "id": "13e53392",
   "metadata": {},
   "source": [
    "Well, it looks like first 3 components don't explain much of the variance, certainly not around 80% level. I would not use them in this case and instead use "
   ]
  },
  {
   "cell_type": "markdown",
   "id": "ff6955d3",
   "metadata": {},
   "source": [
    "#### Model 1: Entropy model - no max_depth"
   ]
  },
  {
   "cell_type": "code",
   "execution_count": 23,
   "id": "237f19e4",
   "metadata": {},
   "outputs": [
    {
     "data": {
      "text/plain": [
       "DecisionTreeRegressor()"
      ]
     },
     "execution_count": 23,
     "metadata": {},
     "output_type": "execute_result"
    }
   ],
   "source": [
    "# Declare a variable called entr_model and use tree.DecisionTreeClassifier. \n",
    "entr_model = tree.DecisionTreeRegressor()\n",
    "\n",
    "# Call fit() on entr_model\n",
    "entr_model.fit(X_train, y_train)\n",
    "\n",
    "# Call predict() on entr_model with X_test passed to it, and assign the result to a variable y_pred \n",
    "y_pred = entr_model.predict(X_test)\n",
    "\n",
    "# Call Series on our y_pred variable with the following: pd.Series(y_pred)\n",
    "y_pred =pd.Series(y_pred)\n",
    "\n",
    "# Check out entr_model\n",
    "entr_model"
   ]
  },
  {
   "cell_type": "code",
   "execution_count": null,
   "id": "84f92d6f",
   "metadata": {},
   "outputs": [],
   "source": [
    "#tree.plot_tree(entr_model)"
   ]
  },
  {
   "cell_type": "code",
   "execution_count": null,
   "id": "8c14eaa3",
   "metadata": {},
   "outputs": [],
   "source": [
    "R2 = 1 - (np.sum((y_test-y_pred)**2)/np.sum((y_test-np.mean(y_test))**2))\n",
    "print(R2)"
   ]
  },
  {
   "cell_type": "code",
   "execution_count": null,
   "id": "097d5163",
   "metadata": {},
   "outputs": [],
   "source": [
    "\n",
    "# Plot the predictions\n",
    "plt.figure()\n",
    "\n",
    "# Build a scatterplot\n",
    "\n",
    "x = np.linspace(0,8000000,)\n",
    "plt.plot(x,x, color = 'r')\n",
    "plt.ylim((0,8000000))\n",
    "plt.xlim((0,8000000))\n",
    "plt.scatter(y_test, y_pred)\n",
    "\n",
    "# Label it nicely\n",
    "plt.xlabel('actual values')\n",
    "plt.ylabel('predicted values')\n",
    "plt.title('Predicted price vs actual price: Random Forest Regression')\n",
    "plt.show()\n"
   ]
  },
  {
   "cell_type": "markdown",
   "id": "4a67c0e0",
   "metadata": {},
   "source": [
    "R squared 0f 0.643 vs 0.741 for linear regression - not an improvement. However, it does look like the model mistreats everyone equally. "
   ]
  },
  {
   "cell_type": "markdown",
   "id": "a95dfa21",
   "metadata": {},
   "source": [
    "### Polynomial regression"
   ]
  },
  {
   "cell_type": "code",
   "execution_count": 25,
   "id": "3a553f36",
   "metadata": {},
   "outputs": [
    {
     "data": {
      "text/plain": [
       "LinearRegression()"
      ]
     },
     "execution_count": 25,
     "metadata": {},
     "output_type": "execute_result"
    }
   ],
   "source": [
    "# Fitting Linear Regression to the dataset\n",
    "lin = LinearRegression()\n",
    "lin.fit(X_train, y_train)"
   ]
  },
  {
   "cell_type": "code",
   "execution_count": 26,
   "id": "eb22a42d",
   "metadata": {},
   "outputs": [
    {
     "data": {
      "text/plain": [
       "LinearRegression()"
      ]
     },
     "execution_count": 26,
     "metadata": {},
     "output_type": "execute_result"
    }
   ],
   "source": [
    "# Fitting Polynomial Regression to the dataset\n",
    "from sklearn.preprocessing import PolynomialFeatures\n",
    "  \n",
    "poly = PolynomialFeatures(degree = 2, interaction_only=False)\n",
    "X_poly = poly.fit_transform(X_train)\n",
    "poly.fit(X_poly, y_train )\n",
    "\n",
    "lin2 = LinearRegression()\n",
    "lin2.fit(X_poly, y_train)"
   ]
  },
  {
   "cell_type": "code",
   "execution_count": 27,
   "id": "00634d79",
   "metadata": {},
   "outputs": [
    {
     "data": {
      "text/plain": [
       "(20127, 1225)"
      ]
     },
     "execution_count": 27,
     "metadata": {},
     "output_type": "execute_result"
    }
   ],
   "source": [
    "X_poly.shape"
   ]
  },
  {
   "cell_type": "code",
   "execution_count": 28,
   "id": "cf804b5a",
   "metadata": {},
   "outputs": [
    {
     "data": {
      "text/plain": [
       "array([[1.000e+00, 2.005e+03, 2.937e+03, ..., 0.000e+00, 0.000e+00,\n",
       "        0.000e+00],\n",
       "       [1.000e+00, 1.985e+03, 1.509e+03, ..., 0.000e+00, 0.000e+00,\n",
       "        0.000e+00],\n",
       "       [1.000e+00, 1.984e+03, 7.840e+02, ..., 1.000e+00, 0.000e+00,\n",
       "        0.000e+00],\n",
       "       ...,\n",
       "       [1.000e+00, 2.001e+03, 3.691e+03, ..., 0.000e+00, 0.000e+00,\n",
       "        0.000e+00],\n",
       "       [1.000e+00, 2.017e+03, 2.948e+03, ..., 0.000e+00, 0.000e+00,\n",
       "        0.000e+00],\n",
       "       [1.000e+00, 2.016e+03, 1.378e+03, ..., 0.000e+00, 0.000e+00,\n",
       "        0.000e+00]])"
      ]
     },
     "execution_count": 28,
     "metadata": {},
     "output_type": "execute_result"
    }
   ],
   "source": [
    "X_poly"
   ]
  },
  {
   "cell_type": "code",
   "execution_count": 29,
   "id": "ce1d6899",
   "metadata": {},
   "outputs": [],
   "source": [
    "polynom = lin2.predict(poly.fit_transform(X_test)) # predict on the test set"
   ]
  },
  {
   "cell_type": "code",
   "execution_count": 30,
   "id": "f0a6ec88",
   "metadata": {},
   "outputs": [
    {
     "data": {
      "text/plain": [
       "array([ 269484.05253699,  503826.8755143 ,  387978.16577591, ...,\n",
       "        802352.15029588, 1461343.62438807,  528170.81182706])"
      ]
     },
     "execution_count": 30,
     "metadata": {},
     "output_type": "execute_result"
    }
   ],
   "source": [
    "polynom"
   ]
  },
  {
   "cell_type": "code",
   "execution_count": 31,
   "id": "ae3d473f",
   "metadata": {},
   "outputs": [
    {
     "name": "stdout",
     "output_type": "stream",
     "text": [
      "0.8905843005450849\n"
     ]
    }
   ],
   "source": [
    "R2 = 1 - (np.sum((y_test-polynom)**2)/np.sum((y_test-np.mean(y_test))**2))\n",
    "print(R2)"
   ]
  },
  {
   "cell_type": "code",
   "execution_count": 32,
   "id": "df1973df",
   "metadata": {},
   "outputs": [
    {
     "data": {
      "image/png": "[encoded data removed]",
      "text/plain": [
       "<Figure size 432x288 with 1 Axes>"
      ]
     },
     "metadata": {
      "needs_background": "light"
     },
     "output_type": "display_data"
    }
   ],
   "source": [
    "\n",
    "# Plot the predictions\n",
    "plt.figure()\n",
    "\n",
    "# Build a scatterplot\n",
    "\n",
    "x = np.linspace(0,8000000,)\n",
    "plt.plot(x,x, color = 'r')\n",
    "plt.ylim((0,8000000))\n",
    "plt.xlim((0,8000000))\n",
    "plt.scatter(y_test, polynom)\n",
    "\n",
    "# Label it nicely\n",
    "plt.xlabel('actual values')\n",
    "plt.ylabel('predicted values')\n",
    "plt.title('Predicted price vs actual price: Polynomial Regression')\n",
    "plt.show()\n",
    "\n"
   ]
  },
  {
   "cell_type": "markdown",
   "id": "53cbcb74",
   "metadata": {},
   "source": [
    "Well it looks like polynomial regression did a great job, with R^2 at 0.869 versus 0.643 for Descision tree and 0.767 for linear regression. To check for overfitting, I would like to calculate R2 on train set to see the difference between test and train set. "
   ]
  },
  {
   "cell_type": "code",
   "execution_count": 33,
   "id": "7b08e5d5",
   "metadata": {},
   "outputs": [],
   "source": [
    "poly_train = lin2.predict(poly.fit_transform(X_train)) # predict on the test set"
   ]
  },
  {
   "cell_type": "code",
   "execution_count": 34,
   "id": "4adc0cd5",
   "metadata": {},
   "outputs": [
    {
     "name": "stdout",
     "output_type": "stream",
     "text": [
      "0.9113054784270921\n"
     ]
    }
   ],
   "source": [
    "poly_train = lin2.predict(poly.fit_transform(X_train)) # predict on the test set\n",
    "R2 = 1 - (np.sum((y_train-poly_train)**2)/np.sum((y_train-np.mean(y_train))**2))\n",
    "print(R2)"
   ]
  },
  {
   "cell_type": "markdown",
   "id": "7f9a0833",
   "metadata": {},
   "source": [
    "Well R2 on train set is 0.912 and R2 on test set is 0.858, so there's some overfitting going on. Let's do predictions vs actuals plot"
   ]
  },
  {
   "cell_type": "code",
   "execution_count": 35,
   "id": "f1f3a124",
   "metadata": {},
   "outputs": [
    {
     "data": {
      "image/png": "[encoded data removed]",
      "text/plain": [
       "<Figure size 432x288 with 1 Axes>"
      ]
     },
     "metadata": {
      "needs_background": "light"
     },
     "output_type": "display_data"
    }
   ],
   "source": [
    "# Plot the predictions\n",
    "plt.figure()\n",
    "\n",
    "# Build a scatterplot\n",
    "\n",
    "x = np.linspace(0,8000000,)\n",
    "plt.plot(x,x, color = 'r')\n",
    "plt.ylim((0,8000000))\n",
    "plt.xlim((0,8000000))\n",
    "plt.scatter(y_test, polynom)\n",
    "\n",
    "# Label it nicely\n",
    "plt.xlabel('actual values')\n",
    "plt.ylabel('predicted values')\n",
    "plt.title('Predicted price vs actual price: Polynomial Regression')\n",
    "plt.show()\n",
    "\n",
    "\n"
   ]
  },
  {
   "cell_type": "markdown",
   "id": "3a946162",
   "metadata": {},
   "source": [
    "Well this looks much much better, however the 3 million dollars and up the relationship doesn't seem to hold up as well, but those observations are not very numerous. I would like to investigate them and see what could drive that.  "
   ]
  },
  {
   "cell_type": "markdown",
   "id": "39479460",
   "metadata": {},
   "source": [
    "## Multiple linear regression model with log transformed response\n",
    "\n",
    "https://statmodeling.stat.columbia.edu/2019/08/21/you-should-usually-log-transform-your-positive-data/\n",
    "\n",
    "From page 59:\n",
    "\n",
    "It commonly makes sense to take the logarithm of outcomes that are all-positive.\n",
    "\n",
    "If a variable has a narrow dynamic range (that is, if the ratio between the high and low values is close to 1), then it will not make much of a difference in fit if the regression is on the logarithmic or the original scale. . . . In such a situation, it might seem to make sense to stay on the original scale for reasons of simplicity. However, the logarithmic transformation can make sense even here, because coefficients are often more easily understood on the log scale. . . . For an input with a larger amount of relative variation (for example, heights of children, or weights of animals), it would make sense to work with its logarithm immediately, both as an aid in interpretation and likely an improvement in fit too."
   ]
  },
  {
   "cell_type": "code",
   "execution_count": 36,
   "id": "d87f42cd",
   "metadata": {},
   "outputs": [],
   "source": [
    "# log 10 transform y_test and y_train\n",
    "\n",
    "from sklearn.preprocessing import FunctionTransformer\n",
    "transformer = FunctionTransformer(np.log10)\n",
    "y_train_log  = transformer.transform(y_train)\n",
    "y_test_log = transformer.transform(y_test)"
   ]
  },
  {
   "cell_type": "code",
   "execution_count": 37,
   "id": "5476e758",
   "metadata": {},
   "outputs": [],
   "source": [
    "lin2 = LinearRegression()\n",
    "reg = lin2.fit(X_train, y_train_log)\n"
   ]
  },
  {
   "cell_type": "code",
   "execution_count": 38,
   "id": "eb98ce41",
   "metadata": {},
   "outputs": [
    {
     "name": "stdout",
     "output_type": "stream",
     "text": [
      "Test set R^2:  0.8968153527170122\n",
      "Train set R^2:  0.8940002952551565\n"
     ]
    }
   ],
   "source": [
    "log_test = reg.predict(X_test) # predict on the test set\n",
    "R2 = 1 - (np.sum((y_test_log-log_test)**2)/np.sum((y_test_log-np.mean(y_test_log))**2))\n",
    "print(\"Test set R^2: \",R2)\n",
    "\n",
    "log_train = reg.predict(X_train) # predict on the test set\n",
    "R2 = 1 - (np.sum((y_train_log-log_train)**2)/np.sum((y_train_log-np.mean(y_train_log))**2))\n",
    "print(\"Train set R^2: \",R2)\n"
   ]
  },
  {
   "cell_type": "code",
   "execution_count": 39,
   "id": "1cb2f5ad",
   "metadata": {},
   "outputs": [
    {
     "name": "stdout",
     "output_type": "stream",
     "text": [
      "5.021448625619757 6.884127608321123\n"
     ]
    }
   ],
   "source": [
    "print(\n",
    "np.min(y_test_log),\n",
    "np.max(y_test_log))"
   ]
  },
  {
   "cell_type": "code",
   "execution_count": 40,
   "id": "bea5af14",
   "metadata": {},
   "outputs": [
    {
     "data": {
      "image/png": "[encoded data removed]",
      "text/plain": [
       "<Figure size 432x288 with 1 Axes>"
      ]
     },
     "metadata": {
      "needs_background": "light"
     },
     "output_type": "display_data"
    }
   ],
   "source": [
    "# Plot the predictions\n",
    "plt.figure()\n",
    "\n",
    "# Build a scatterplot\n",
    "x = np.linspace(4,7,)\n",
    "plt.plot(x,x, color = 'r')\n",
    "\n",
    "plt.scatter(y_test_log, log_test )\n",
    "plt.xlim(4.6,7.1)\n",
    "plt.ylim(4.6,7.1)\n",
    "\n",
    "\n",
    "# Label it nicely\n",
    "plt.xlabel('actual values')\n",
    "plt.ylabel('predicted values')\n",
    "plt.title('Predicted price vs actual price: Linear Regression with log response')\n",
    "plt.show()"
   ]
  },
  {
   "cell_type": "markdown",
   "id": "bb10ea36",
   "metadata": {},
   "source": [
    "Test set R^2:  0.8954735386099824 <br>Train set R^2:  0.894417409707682. No overfitting at all. Let's confirm with cross-validation"
   ]
  },
  {
   "cell_type": "markdown",
   "id": "098dfc11",
   "metadata": {},
   "source": [
    "### Refit the model with stats models to get the summary output"
   ]
  },
  {
   "cell_type": "code",
   "execution_count": 41,
   "id": "e1e156ad",
   "metadata": {},
   "outputs": [],
   "source": [
    "X_train_const = sm.add_constant(features)\n",
    "X_train, X_test, y_train, y_test = train_test_split(X_train_const, Y, test_size = 0.25, train_size = 0.75)\n",
    "transformer = FunctionTransformer(np.log10)\n",
    "y_train_log  = transformer.transform(y_train)"
   ]
  },
  {
   "cell_type": "code",
   "execution_count": 42,
   "id": "cf6d45e0",
   "metadata": {},
   "outputs": [
    {
     "data": {
      "text/plain": [
       "(20127, 49)"
      ]
     },
     "execution_count": 42,
     "metadata": {},
     "output_type": "execute_result"
    }
   ],
   "source": [
    "X_train.shape"
   ]
  },
  {
   "cell_type": "code",
   "execution_count": 43,
   "id": "787b5863",
   "metadata": {},
   "outputs": [
    {
     "data": {
      "text/html": [
       "<table class=\"simpletable\">\n",
       "<caption>OLS Regression Results</caption>\n",
       "<tr>\n",
       "  <th>Dep. Variable:</th>    <td>Time Adjust Sales Price</td> <th>  R-squared:         </th>  <td>   0.895</td> \n",
       "</tr>\n",
       "<tr>\n",
       "  <th>Model:</th>                      <td>OLS</td>           <th>  Adj. R-squared:    </th>  <td>   0.894</td> \n",
       "</tr>\n",
       "<tr>\n",
       "  <th>Method:</th>                <td>Least Squares</td>      <th>  F-statistic:       </th>  <td>   3709.</td> \n",
       "</tr>\n",
       "<tr>\n",
       "  <th>Date:</th>                <td>Mon, 13 Mar 2023</td>     <th>  Prob (F-statistic):</th>   <td>  0.00</td>  \n",
       "</tr>\n",
       "<tr>\n",
       "  <th>Time:</th>                    <td>10:53:46</td>         <th>  Log-Likelihood:    </th>  <td>  25125.</td> \n",
       "</tr>\n",
       "<tr>\n",
       "  <th>No. Observations:</th>         <td> 20127</td>          <th>  AIC:               </th> <td>-5.016e+04</td>\n",
       "</tr>\n",
       "<tr>\n",
       "  <th>Df Residuals:</th>             <td> 20080</td>          <th>  BIC:               </th> <td>-4.978e+04</td>\n",
       "</tr>\n",
       "<tr>\n",
       "  <th>Df Model:</th>                 <td>    46</td>          <th>                     </th>      <td> </td>    \n",
       "</tr>\n",
       "<tr>\n",
       "  <th>Covariance Type:</th>         <td>nonrobust</td>        <th>                     </th>      <td> </td>    \n",
       "</tr>\n",
       "</table>\n",
       "<table class=\"simpletable\">\n",
       "<tr>\n",
       "                <td></td>                  <th>coef</th>     <th>std err</th>      <th>t</th>      <th>P>|t|</th>  <th>[0.025</th>    <th>0.975]</th>  \n",
       "</tr>\n",
       "<tr>\n",
       "  <th>const</th>                        <td>    1.6667</td> <td>    0.080</td> <td>   20.811</td> <td> 0.000</td> <td>    1.510</td> <td>    1.824</td>\n",
       "</tr>\n",
       "<tr>\n",
       "  <th>Eff Yr Built</th>                 <td>    0.0018</td> <td> 4.42e-05</td> <td>   41.565</td> <td> 0.000</td> <td>    0.002</td> <td>    0.002</td>\n",
       "</tr>\n",
       "<tr>\n",
       "  <th>Above Grd SF</th>                 <td> 7.695e-05</td> <td> 1.22e-06</td> <td>   63.265</td> <td> 0.000</td> <td> 7.46e-05</td> <td> 7.93e-05</td>\n",
       "</tr>\n",
       "<tr>\n",
       "  <th>Basemt Tot SF</th>                <td> 1.895e-06</td> <td> 1.33e-06</td> <td>    1.424</td> <td> 0.155</td> <td>-7.14e-07</td> <td>  4.5e-06</td>\n",
       "</tr>\n",
       "<tr>\n",
       "  <th>Basemt Fin SF</th>                <td> 3.123e-05</td> <td> 1.28e-06</td> <td>   24.360</td> <td> 0.000</td> <td> 2.87e-05</td> <td> 3.37e-05</td>\n",
       "</tr>\n",
       "<tr>\n",
       "  <th>Garage SF</th>                    <td> 3.729e-05</td> <td> 1.13e-06</td> <td>   33.028</td> <td> 0.000</td> <td> 3.51e-05</td> <td> 3.95e-05</td>\n",
       "</tr>\n",
       "<tr>\n",
       "  <th>Est Land SF</th>                  <td> 7.202e-07</td> <td> 3.95e-08</td> <td>   18.245</td> <td> 0.000</td> <td> 6.43e-07</td> <td> 7.98e-07</td>\n",
       "</tr>\n",
       "<tr>\n",
       "  <th>Unincorporated</th>               <td>    0.0406</td> <td>    0.003</td> <td>   12.925</td> <td> 0.000</td> <td>    0.034</td> <td>    0.047</td>\n",
       "</tr>\n",
       "<tr>\n",
       "  <th>Quality_cat</th>                  <td>    0.0259</td> <td>    0.000</td> <td>   69.917</td> <td> 0.000</td> <td>    0.025</td> <td>    0.027</td>\n",
       "</tr>\n",
       "<tr>\n",
       "  <th>Garage Attached</th>              <td>   -0.0159</td> <td>    0.001</td> <td>  -10.907</td> <td> 0.000</td> <td>   -0.019</td> <td>   -0.013</td>\n",
       "</tr>\n",
       "<tr>\n",
       "  <th>Design_1 Sty Townh</th>           <td>    0.1520</td> <td>    0.011</td> <td>   13.224</td> <td> 0.000</td> <td>    0.130</td> <td>    0.175</td>\n",
       "</tr>\n",
       "<tr>\n",
       "  <th>Design_1-Sty Twnhm Condo</th>     <td>    0.0693</td> <td>    0.006</td> <td>   11.743</td> <td> 0.000</td> <td>    0.058</td> <td>    0.081</td>\n",
       "</tr>\n",
       "<tr>\n",
       "  <th>Design_Bi Level</th>              <td>    0.2177</td> <td>    0.007</td> <td>   31.768</td> <td> 0.000</td> <td>    0.204</td> <td>    0.231</td>\n",
       "</tr>\n",
       "<tr>\n",
       "  <th>Design_Det 1 Sty Condo</th>       <td>    0.0246</td> <td>    0.028</td> <td>    0.862</td> <td> 0.389</td> <td>   -0.031</td> <td>    0.080</td>\n",
       "</tr>\n",
       "<tr>\n",
       "  <th>Design_Det Mult Sty Condo</th>    <td>    0.1567</td> <td>    0.014</td> <td>   11.504</td> <td> 0.000</td> <td>    0.130</td> <td>    0.183</td>\n",
       "</tr>\n",
       "<tr>\n",
       "  <th>Design_Modular</th>               <td>    0.0200</td> <td>    0.025</td> <td>    0.800</td> <td> 0.424</td> <td>   -0.029</td> <td>    0.069</td>\n",
       "</tr>\n",
       "<tr>\n",
       "  <th>Design_Multi Sty</th>             <td>    0.1857</td> <td>    0.006</td> <td>   29.326</td> <td> 0.000</td> <td>    0.173</td> <td>    0.198</td>\n",
       "</tr>\n",
       "<tr>\n",
       "  <th>Design_Multi Sty Condo</th>       <td>    0.0574</td> <td>    0.003</td> <td>   19.403</td> <td> 0.000</td> <td>    0.052</td> <td>    0.063</td>\n",
       "</tr>\n",
       "<tr>\n",
       "  <th>Design_Multi Sty Townh</th>       <td>    0.1472</td> <td>    0.011</td> <td>   13.874</td> <td> 0.000</td> <td>    0.126</td> <td>    0.168</td>\n",
       "</tr>\n",
       "<tr>\n",
       "  <th>Design_Mutli Sty Twnhm Condo</th> <td>    0.0689</td> <td>    0.003</td> <td>   21.856</td> <td> 0.000</td> <td>    0.063</td> <td>    0.075</td>\n",
       "</tr>\n",
       "<tr>\n",
       "  <th>Design_Paired</th>                <td>    0.1600</td> <td>    0.008</td> <td>   20.547</td> <td> 0.000</td> <td>    0.145</td> <td>    0.175</td>\n",
       "</tr>\n",
       "<tr>\n",
       "  <th>Design_Patio</th>                 <td>    0.1831</td> <td>    0.008</td> <td>   21.979</td> <td> 0.000</td> <td>    0.167</td> <td>    0.199</td>\n",
       "</tr>\n",
       "<tr>\n",
       "  <th>Design_Ranch</th>                 <td>    0.2088</td> <td>    0.006</td> <td>   33.598</td> <td> 0.000</td> <td>    0.197</td> <td>    0.221</td>\n",
       "</tr>\n",
       "<tr>\n",
       "  <th>Design_Split level</th>           <td>    0.2081</td> <td>    0.006</td> <td>   32.251</td> <td> 0.000</td> <td>    0.195</td> <td>    0.221</td>\n",
       "</tr>\n",
       "<tr>\n",
       "  <th>Market Area_101</th>              <td>    0.3676</td> <td>    0.005</td> <td>   79.586</td> <td> 0.000</td> <td>    0.359</td> <td>    0.377</td>\n",
       "</tr>\n",
       "<tr>\n",
       "  <th>Market Area_102</th>              <td>    0.2003</td> <td>    0.004</td> <td>   44.814</td> <td> 0.000</td> <td>    0.192</td> <td>    0.209</td>\n",
       "</tr>\n",
       "<tr>\n",
       "  <th>Market Area_103</th>              <td>    0.2909</td> <td>    0.005</td> <td>   64.476</td> <td> 0.000</td> <td>    0.282</td> <td>    0.300</td>\n",
       "</tr>\n",
       "<tr>\n",
       "  <th>Market Area_104</th>              <td>    0.1743</td> <td>    0.006</td> <td>   31.173</td> <td> 0.000</td> <td>    0.163</td> <td>    0.185</td>\n",
       "</tr>\n",
       "<tr>\n",
       "  <th>Market Area_105</th>              <td>    0.1531</td> <td>    0.004</td> <td>   34.076</td> <td> 0.000</td> <td>    0.144</td> <td>    0.162</td>\n",
       "</tr>\n",
       "<tr>\n",
       "  <th>Market Area_106</th>              <td>    0.2834</td> <td>    0.005</td> <td>   61.875</td> <td> 0.000</td> <td>    0.274</td> <td>    0.292</td>\n",
       "</tr>\n",
       "<tr>\n",
       "  <th>Market Area_107</th>              <td>    0.2990</td> <td>    0.005</td> <td>   61.381</td> <td> 0.000</td> <td>    0.289</td> <td>    0.308</td>\n",
       "</tr>\n",
       "<tr>\n",
       "  <th>Market Area_108</th>              <td>    0.0607</td> <td>    0.010</td> <td>    6.275</td> <td> 0.000</td> <td>    0.042</td> <td>    0.080</td>\n",
       "</tr>\n",
       "<tr>\n",
       "  <th>Market Area_109</th>              <td>    0.2063</td> <td>    0.010</td> <td>   19.745</td> <td> 0.000</td> <td>    0.186</td> <td>    0.227</td>\n",
       "</tr>\n",
       "<tr>\n",
       "  <th>Market Area_401</th>              <td>    0.0167</td> <td>    0.005</td> <td>    3.360</td> <td> 0.001</td> <td>    0.007</td> <td>    0.026</td>\n",
       "</tr>\n",
       "<tr>\n",
       "  <th>Market Area_402</th>              <td>   -0.0129</td> <td>    0.004</td> <td>   -2.985</td> <td> 0.003</td> <td>   -0.021</td> <td>   -0.004</td>\n",
       "</tr>\n",
       "<tr>\n",
       "  <th>Market Area_403</th>              <td>    0.0717</td> <td>    0.004</td> <td>   18.199</td> <td> 0.000</td> <td>    0.064</td> <td>    0.079</td>\n",
       "</tr>\n",
       "<tr>\n",
       "  <th>Market Area_404</th>              <td>   -0.1125</td> <td>    0.004</td> <td>  -26.685</td> <td> 0.000</td> <td>   -0.121</td> <td>   -0.104</td>\n",
       "</tr>\n",
       "<tr>\n",
       "  <th>Market Area_405</th>              <td>   -0.0359</td> <td>    0.004</td> <td>   -9.497</td> <td> 0.000</td> <td>   -0.043</td> <td>   -0.029</td>\n",
       "</tr>\n",
       "<tr>\n",
       "  <th>Market Area_407</th>              <td>   -0.0764</td> <td>    0.009</td> <td>   -8.300</td> <td> 0.000</td> <td>   -0.094</td> <td>   -0.058</td>\n",
       "</tr>\n",
       "<tr>\n",
       "  <th>Market Area_501</th>              <td>   -0.0077</td> <td>    0.006</td> <td>   -1.330</td> <td> 0.183</td> <td>   -0.019</td> <td>    0.004</td>\n",
       "</tr>\n",
       "<tr>\n",
       "  <th>Market Area_502</th>              <td>   -0.0861</td> <td>    0.004</td> <td>  -24.270</td> <td> 0.000</td> <td>   -0.093</td> <td>   -0.079</td>\n",
       "</tr>\n",
       "<tr>\n",
       "  <th>Market Area_503</th>              <td>   -0.0538</td> <td>    0.004</td> <td>  -12.717</td> <td> 0.000</td> <td>   -0.062</td> <td>   -0.046</td>\n",
       "</tr>\n",
       "<tr>\n",
       "  <th>Market Area_505</th>              <td>   -0.0145</td> <td>    0.009</td> <td>   -1.645</td> <td> 0.100</td> <td>   -0.032</td> <td>    0.003</td>\n",
       "</tr>\n",
       "<tr>\n",
       "  <th>Market Area_506</th>              <td>   -0.1067</td> <td>    0.009</td> <td>  -11.442</td> <td> 0.000</td> <td>   -0.125</td> <td>   -0.088</td>\n",
       "</tr>\n",
       "<tr>\n",
       "  <th>Market Area_507</th>              <td>   -0.1347</td> <td>    0.004</td> <td>  -34.413</td> <td> 0.000</td> <td>   -0.142</td> <td>   -0.127</td>\n",
       "</tr>\n",
       "<tr>\n",
       "  <th>Market Area_630</th>              <td>    0.1343</td> <td>    0.008</td> <td>   16.595</td> <td> 0.000</td> <td>    0.118</td> <td>    0.150</td>\n",
       "</tr>\n",
       "<tr>\n",
       "  <th>Market Area_632</th>              <td>    0.0292</td> <td>    0.008</td> <td>    3.496</td> <td> 0.000</td> <td>    0.013</td> <td>    0.046</td>\n",
       "</tr>\n",
       "<tr>\n",
       "  <th>Market Area_633</th>              <td>   -0.0328</td> <td>    0.009</td> <td>   -3.682</td> <td> 0.000</td> <td>   -0.050</td> <td>   -0.015</td>\n",
       "</tr>\n",
       "<tr>\n",
       "  <th>Market Area_634</th>              <td>    0.0533</td> <td>    0.016</td> <td>    3.316</td> <td> 0.001</td> <td>    0.022</td> <td>    0.085</td>\n",
       "</tr>\n",
       "</table>\n",
       "<table class=\"simpletable\">\n",
       "<tr>\n",
       "  <th>Omnibus:</th>       <td>3593.411</td> <th>  Durbin-Watson:     </th> <td>   1.994</td> \n",
       "</tr>\n",
       "<tr>\n",
       "  <th>Prob(Omnibus):</th>  <td> 0.000</td>  <th>  Jarque-Bera (JB):  </th> <td>54176.073</td>\n",
       "</tr>\n",
       "<tr>\n",
       "  <th>Skew:</th>           <td> 0.412</td>  <th>  Prob(JB):          </th> <td>    0.00</td> \n",
       "</tr>\n",
       "<tr>\n",
       "  <th>Kurtosis:</th>       <td>10.995</td>  <th>  Cond. No.          </th> <td>1.21e+16</td> \n",
       "</tr>\n",
       "</table><br/><br/>Notes:<br/>[1] Standard Errors assume that the covariance matrix of the errors is correctly specified.<br/>[2] The smallest eigenvalue is 3.15e-20. This might indicate that there are<br/>strong multicollinearity problems or that the design matrix is singular."
      ],
      "text/plain": [
       "<class 'statsmodels.iolib.summary.Summary'>\n",
       "\"\"\"\n",
       "                               OLS Regression Results                              \n",
       "===================================================================================\n",
       "Dep. Variable:     Time Adjust Sales Price   R-squared:                       0.895\n",
       "Model:                                 OLS   Adj. R-squared:                  0.894\n",
       "Method:                      Least Squares   F-statistic:                     3709.\n",
       "Date:                     Mon, 13 Mar 2023   Prob (F-statistic):               0.00\n",
       "Time:                             10:53:46   Log-Likelihood:                 25125.\n",
       "No. Observations:                    20127   AIC:                        -5.016e+04\n",
       "Df Residuals:                        20080   BIC:                        -4.978e+04\n",
       "Df Model:                               46                                         \n",
       "Covariance Type:                 nonrobust                                         \n",
       "================================================================================================\n",
       "                                   coef    std err          t      P>|t|      [0.025      0.975]\n",
       "------------------------------------------------------------------------------------------------\n",
       "const                            1.6667      0.080     20.811      0.000       1.510       1.824\n",
       "Eff Yr Built                     0.0018   4.42e-05     41.565      0.000       0.002       0.002\n",
       "Above Grd SF                  7.695e-05   1.22e-06     63.265      0.000    7.46e-05    7.93e-05\n",
       "Basemt Tot SF                 1.895e-06   1.33e-06      1.424      0.155   -7.14e-07     4.5e-06\n",
       "Basemt Fin SF                 3.123e-05   1.28e-06     24.360      0.000    2.87e-05    3.37e-05\n",
       "Garage SF                     3.729e-05   1.13e-06     33.028      0.000    3.51e-05    3.95e-05\n",
       "Est Land SF                   7.202e-07   3.95e-08     18.245      0.000    6.43e-07    7.98e-07\n",
       "Unincorporated                   0.0406      0.003     12.925      0.000       0.034       0.047\n",
       "Quality_cat                      0.0259      0.000     69.917      0.000       0.025       0.027\n",
       "Garage Attached                 -0.0159      0.001    -10.907      0.000      -0.019      -0.013\n",
       "Design_1 Sty Townh               0.1520      0.011     13.224      0.000       0.130       0.175\n",
       "Design_1-Sty Twnhm Condo         0.0693      0.006     11.743      0.000       0.058       0.081\n",
       "Design_Bi Level                  0.2177      0.007     31.768      0.000       0.204       0.231\n",
       "Design_Det 1 Sty Condo           0.0246      0.028      0.862      0.389      -0.031       0.080\n",
       "Design_Det Mult Sty Condo        0.1567      0.014     11.504      0.000       0.130       0.183\n",
       "Design_Modular                   0.0200      0.025      0.800      0.424      -0.029       0.069\n",
       "Design_Multi Sty                 0.1857      0.006     29.326      0.000       0.173       0.198\n",
       "Design_Multi Sty Condo           0.0574      0.003     19.403      0.000       0.052       0.063\n",
       "Design_Multi Sty Townh           0.1472      0.011     13.874      0.000       0.126       0.168\n",
       "Design_Mutli Sty Twnhm Condo     0.0689      0.003     21.856      0.000       0.063       0.075\n",
       "Design_Paired                    0.1600      0.008     20.547      0.000       0.145       0.175\n",
       "Design_Patio                     0.1831      0.008     21.979      0.000       0.167       0.199\n",
       "Design_Ranch                     0.2088      0.006     33.598      0.000       0.197       0.221\n",
       "Design_Split level               0.2081      0.006     32.251      0.000       0.195       0.221\n",
       "Market Area_101                  0.3676      0.005     79.586      0.000       0.359       0.377\n",
       "Market Area_102                  0.2003      0.004     44.814      0.000       0.192       0.209\n",
       "Market Area_103                  0.2909      0.005     64.476      0.000       0.282       0.300\n",
       "Market Area_104                  0.1743      0.006     31.173      0.000       0.163       0.185\n",
       "Market Area_105                  0.1531      0.004     34.076      0.000       0.144       0.162\n",
       "Market Area_106                  0.2834      0.005     61.875      0.000       0.274       0.292\n",
       "Market Area_107                  0.2990      0.005     61.381      0.000       0.289       0.308\n",
       "Market Area_108                  0.0607      0.010      6.275      0.000       0.042       0.080\n",
       "Market Area_109                  0.2063      0.010     19.745      0.000       0.186       0.227\n",
       "Market Area_401                  0.0167      0.005      3.360      0.001       0.007       0.026\n",
       "Market Area_402                 -0.0129      0.004     -2.985      0.003      -0.021      -0.004\n",
       "Market Area_403                  0.0717      0.004     18.199      0.000       0.064       0.079\n",
       "Market Area_404                 -0.1125      0.004    -26.685      0.000      -0.121      -0.104\n",
       "Market Area_405                 -0.0359      0.004     -9.497      0.000      -0.043      -0.029\n",
       "Market Area_407                 -0.0764      0.009     -8.300      0.000      -0.094      -0.058\n",
       "Market Area_501                 -0.0077      0.006     -1.330      0.183      -0.019       0.004\n",
       "Market Area_502                 -0.0861      0.004    -24.270      0.000      -0.093      -0.079\n",
       "Market Area_503                 -0.0538      0.004    -12.717      0.000      -0.062      -0.046\n",
       "Market Area_505                 -0.0145      0.009     -1.645      0.100      -0.032       0.003\n",
       "Market Area_506                 -0.1067      0.009    -11.442      0.000      -0.125      -0.088\n",
       "Market Area_507                 -0.1347      0.004    -34.413      0.000      -0.142      -0.127\n",
       "Market Area_630                  0.1343      0.008     16.595      0.000       0.118       0.150\n",
       "Market Area_632                  0.0292      0.008      3.496      0.000       0.013       0.046\n",
       "Market Area_633                 -0.0328      0.009     -3.682      0.000      -0.050      -0.015\n",
       "Market Area_634                  0.0533      0.016      3.316      0.001       0.022       0.085\n",
       "==============================================================================\n",
       "Omnibus:                     3593.411   Durbin-Watson:                   1.994\n",
       "Prob(Omnibus):                  0.000   Jarque-Bera (JB):            54176.073\n",
       "Skew:                           0.412   Prob(JB):                         0.00\n",
       "Kurtosis:                      10.995   Cond. No.                     1.21e+16\n",
       "==============================================================================\n",
       "\n",
       "Notes:\n",
       "[1] Standard Errors assume that the covariance matrix of the errors is correctly specified.\n",
       "[2] The smallest eigenvalue is 3.15e-20. This might indicate that there are\n",
       "strong multicollinearity problems or that the design matrix is singular.\n",
       "\"\"\""
      ]
     },
     "execution_count": 43,
     "metadata": {},
     "output_type": "execute_result"
    }
   ],
   "source": [
    "model = sm.OLS(y_train_log,X_train)\n",
    "results = model.fit()\n",
    "results.summary()"
   ]
  },
  {
   "cell_type": "markdown",
   "id": "ad875ffa",
   "metadata": {},
   "source": [
    "All variables are significant except market areas 501 and 505. Durbin Watson is great.  R^2 is 0.894. <br>\n",
    "However, there is an interesting thing going on with the coefficient values. \n",
    "Largest coefficients are for Market Areas ranging from -0.13 to 0.29, meaning being in a certain market area increases the value by 29% or decreases by 0.11%. <br>\n",
    "All positive, but very small increases for year built and square footage variables.<br>\n",
    "Extra 1000 SF of the house yields 8% increase in value.<br>\n",
    "Extra 1000 SF increase in finished basement yields 3.1% in value.<br>\n",
    "Extra 1000SF of garage yields 3.8% of value.<br>\n",
    "Unfinished basement yields only 0.31% of the price increase.<br>\n",
    "And one year of the house yields 0.2%\n",
    "<br>\n",
    "One level increase in quality leads to 2.55% increase in price. <br>\n",
    "\n",
    "\n"
   ]
  },
  {
   "cell_type": "markdown",
   "id": "11422bd9",
   "metadata": {},
   "source": [
    "### Performing 6-fold cross validation on the linear regression with log response model"
   ]
  },
  {
   "cell_type": "code",
   "execution_count": 44,
   "id": "86a96d31",
   "metadata": {},
   "outputs": [],
   "source": [
    "transformer = FunctionTransformer(np.log10)\n",
    "y_log  = transformer.transform(Y)"
   ]
  },
  {
   "cell_type": "code",
   "execution_count": 45,
   "id": "cfe2f1f1",
   "metadata": {},
   "outputs": [
    {
     "name": "stdout",
     "output_type": "stream",
     "text": [
      "[0.89109375 0.89944565 0.87648998 0.89703234 0.89801589 0.89608386]\n",
      "Mean R^2:  0.8930269133272208\n",
      "Standard deviation R^2:  0.007838852214960092\n",
      "[0.87831546 0.89926693]\n"
     ]
    }
   ],
   "source": [
    "# Import the necessary modules\n",
    "from sklearn.model_selection import cross_val_score, KFold\n",
    "\n",
    "# Create a KFold object\n",
    "kf = KFold(n_splits=6, shuffle=True, random_state=5)\n",
    "\n",
    "reg = LinearRegression()\n",
    "\n",
    "# Compute 6-fold cross-validation scores\n",
    "cv_scores = cross_val_score(reg, features, y_log, cv=kf)\n",
    "\n",
    "# Print scores\n",
    "print(cv_scores)\n",
    "\n",
    "# Print the mean\n",
    "print(\"Mean R^2: \",np.mean(cv_scores))\n",
    "\n",
    "# Print the standard deviation\n",
    "print(\"Standard deviation R^2: \",np.std(cv_scores))\n",
    "\n",
    "# Print the 95% confidence interval\n",
    "print(np.percentile(cv_scores, [2.5, 97.5]))\n"
   ]
  },
  {
   "cell_type": "code",
   "execution_count": null,
   "id": "cf935f81",
   "metadata": {},
   "outputs": [],
   "source": []
  },
  {
   "cell_type": "markdown",
   "id": "59675f55",
   "metadata": {},
   "source": [
    "The model is extremely robust to random withholding of data, which means there is not much overfitting!"
   ]
  },
  {
   "cell_type": "code",
   "execution_count": 46,
   "id": "d6902f27",
   "metadata": {},
   "outputs": [
    {
     "data": {
      "text/plain": [
       "(26837, 48)"
      ]
     },
     "execution_count": 46,
     "metadata": {},
     "output_type": "execute_result"
    }
   ],
   "source": [
    "features.shape\n"
   ]
  },
  {
   "cell_type": "markdown",
   "id": "8e22813d",
   "metadata": {},
   "source": [
    "### XGBoost"
   ]
  },
  {
   "cell_type": "code",
   "execution_count": 47,
   "id": "537e46db",
   "metadata": {},
   "outputs": [
    {
     "name": "stdout",
     "output_type": "stream",
     "text": [
      "Best rmse as a function of l2:\n",
      "    l2           rmse\n",
      "0    1  173941.237520\n",
      "1   10  181688.222417\n",
      "2  100  198940.242162\n"
     ]
    }
   ],
   "source": [
    "import xgboost as xgb\n",
    "import pandas as pd\n",
    "\n",
    "# Create the DMatrix: housing_dmatrix\n",
    "housing_dmatrix = xgb.DMatrix(data=features, label=Y)\n",
    "\n",
    "reg_params = [1, 10, 100]\n",
    "\n",
    "# Create the initial parameter dictionary for varying l2 strength: params\n",
    "params = {\"objective\":\"reg:squarederror\",\"max_depth\":4}\n",
    "\n",
    "# Create an empty list for storing rmses as a function of l2 complexity\n",
    "rmses_l2 = []\n",
    "\n",
    "# Iterate over reg_params\n",
    "for reg in reg_params:\n",
    "\n",
    "    # Update l2 strength\n",
    "    params[\"lambda\"] = reg\n",
    "    \n",
    "    # Pass this updated param dictionary into cv\n",
    "    cv_results = xgb.cv(dtrain=housing_dmatrix, params=params, nfold=6, num_boost_round=15, early_stopping_rounds = 10, metrics=\"rmse\", as_pandas=True, seed=123)\n",
    "    \n",
    "    # Append best rmse (final round) to rmses_l2\n",
    "    rmses_l2.append(cv_results[\"test-rmse-mean\"].tail(1).values[0])\n",
    "\n",
    "# Look at best rmse per l2 param\n",
    "print(\"Best rmse as a function of l2:\")\n",
    "print(pd.DataFrame(list(zip(reg_params, rmses_l2)), columns=[\"l2\", \"rmse\"]))"
   ]
  },
  {
   "cell_type": "code",
   "execution_count": 48,
   "id": "5b65cda1",
   "metadata": {},
   "outputs": [
    {
     "data": {
      "image/png": "[encoded data removed]",
      "text/plain": [
       "<Figure size 432x288 with 1 Axes>"
      ]
     },
     "metadata": {
      "needs_background": "light"
     },
     "output_type": "display_data"
    }
   ],
   "source": [
    "xg_reg = xgb.train(params=params, dtrain=housing_dmatrix, num_boost_round=15)\n",
    "\n",
    "# Plot the feature importances\n",
    "xgb.plot_importance(xg_reg)\n",
    "plt.show()"
   ]
  },
  {
   "cell_type": "code",
   "execution_count": 49,
   "id": "06008093",
   "metadata": {},
   "outputs": [
    {
     "name": "stdout",
     "output_type": "stream",
     "text": [
      "non transformed XGBoost R2:  0.8516034288019307\n"
     ]
    }
   ],
   "source": [
    "R2 =1- ((173941.237520)**2)*len(Y)/ np.sum((Y- np.mean(Y))**2)\n",
    "print('non transformed XGBoost R2: ', R2)"
   ]
  },
  {
   "cell_type": "markdown",
   "id": "3fc413c6",
   "metadata": {},
   "source": [
    "#### Fit XGBoost with log response"
   ]
  },
  {
   "cell_type": "code",
   "execution_count": 50,
   "id": "5e13e5c6",
   "metadata": {},
   "outputs": [
    {
     "name": "stdout",
     "output_type": "stream",
     "text": [
      "Best rmse as a function of l2:\n",
      "    l2      rmse\n",
      "0    1  0.075936\n",
      "1   10  0.085847\n",
      "2  100  0.118903\n"
     ]
    }
   ],
   "source": [
    "# Create the DMatrix: housing_dmatrix\n",
    "housing_dmatrix = xgb.DMatrix(data=features, label=y_log)\n",
    "\n",
    "reg_params = [1, 10, 100]\n",
    "\n",
    "# Create the initial parameter dictionary for varying l2 strength: params\n",
    "params = {\"objective\":\"reg:squarederror\",\"max_depth\":6}\n",
    "\n",
    "# Create an empty list for storing rmses as a function of l2 complexity\n",
    "rmses_l2 = []\n",
    "\n",
    "# Iterate over reg_params\n",
    "for reg in reg_params:\n",
    "\n",
    "    # Update l2 strength\n",
    "    params[\"alpha\"] = reg\n",
    "    \n",
    "    # Pass this updated param dictionary into cv\n",
    "    cv_results = xgb.cv(dtrain=housing_dmatrix, params=params, nfold=6, num_boost_round=15, metrics=\"rmse\", as_pandas=True, seed=123,early_stopping_rounds = 10)\n",
    "    \n",
    "    # Append best rmse (final round) to rmses_l2\n",
    "    rmses_l2.append(cv_results[\"test-rmse-mean\"].tail(1).values[0])\n",
    "\n",
    "# Look at best rmse per l2 param\n",
    "print(\"Best rmse as a function of l2:\")\n",
    "print(pd.DataFrame(list(zip(reg_params, rmses_l2)), columns=[\"l2\", \"rmse\"]))"
   ]
  },
  {
   "cell_type": "code",
   "execution_count": 51,
   "id": "7041017b",
   "metadata": {},
   "outputs": [
    {
     "data": {
      "image/png": "[encoded data removed]",
      "text/plain": [
       "<Figure size 432x288 with 1 Axes>"
      ]
     },
     "metadata": {
      "needs_background": "light"
     },
     "output_type": "display_data"
    }
   ],
   "source": [
    "xg_reg = xgb.train(params=params, dtrain=housing_dmatrix, num_boost_round=10)\n",
    "\n",
    "# Plot the feature importances\n",
    "xgb.plot_importance(xg_reg)\n",
    "plt.show()"
   ]
  },
  {
   "cell_type": "code",
   "execution_count": 52,
   "id": "ec07aa54",
   "metadata": {},
   "outputs": [
    {
     "name": "stdout",
     "output_type": "stream",
     "text": [
      "transformed XGBoost R2:  0.8734540047494046\n"
     ]
    }
   ],
   "source": [
    "R2 =1- ((0.075936**2)*len(y_log))/ (np.sum((y_log- np.mean(y_log))**2))\n",
    "print('transformed XGBoost R2: ', R2)"
   ]
  },
  {
   "cell_type": "markdown",
   "id": "14ae2941",
   "metadata": {},
   "source": [
    "### Conclusion on XGBoost: Not as good as linear regression with log transformed response still.\n"
   ]
  },
  {
   "cell_type": "code",
   "execution_count": null,
   "id": "cc269aaf",
   "metadata": {},
   "outputs": [],
   "source": []
  }
 ],
 "metadata": {
  "kernelspec": {
   "display_name": "Python 3 (ipykernel)",
   "language": "python",
   "name": "python3"
  },
  "language_info": {
   "codemirror_mode": {
    "name": "ipython",
    "version": 3
   },
   "file_extension": ".py",
   "mimetype": "text/x-python",
   "name": "python",
   "nbconvert_exporter": "python",
   "pygments_lexer": "ipython3",
   "version": "3.9.12"
  }
 },
 "nbformat": 4,
 "nbformat_minor": 5
}
